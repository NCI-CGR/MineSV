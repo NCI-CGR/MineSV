{
 "cells": [
  {
   "cell_type": "markdown",
   "metadata": {},
   "source": [
    "# MoCCA-SV benchmark notebook\n",
    "The notebook is to carry on MoCCA-SV benchmark. The input files and options are all specified in the following cell.  The output of this benchmark is a pandas data frame, including the performance metrics, such as TP, FP, F1, etc.  The performance will be subsetted by SV types."
   ]
  },
  {
   "cell_type": "markdown",
   "metadata": {},
   "source": [
    "---\n",
    "## Initial setting"
   ]
  },
  {
   "cell_type": "code",
   "execution_count": 1,
   "metadata": {},
   "outputs": [
    {
     "name": "stdout",
     "output_type": "stream",
     "text": [
      "/mnt/nfs/gigantor/ifs/DCEG/Projects/CoherentLogic/SV/mocca-bench\n",
      "Currently Loaded Modulefiles:\r\n",
      "  1) singularity/3.0.1   3) python3/3.6.3       5) bedtools/2.27.1\r\n",
      "  2) tmux/2.5            4) gcc/7.2.0           6) zlib/1.2.8\r\n"
     ]
    }
   ],
   "source": [
    "%cd /mnt/nfs/gigantor/ifs/DCEG/Projects/CoherentLogic/SV/mocca-bench\n",
    "! module list"
   ]
  },
  {
   "cell_type": "markdown",
   "metadata": {},
   "source": [
    "---\n",
    "## Configuration"
   ]
  },
  {
   "cell_type": "code",
   "execution_count": 2,
   "metadata": {},
   "outputs": [],
   "source": [
    "TRUTH_BED=\"data/my-tp-base.bed\" \n",
    "COMP_BED=\"data/intrachromosomal_SVs_AJ_2x250_son\"\n",
    "INCLUDED_BED=\"data/HG002_SVs_Tier1_noVDJorXorY_v0.6.2.bed\" # Assign it to \"\", if there is not included be file\n",
    "# INCLUDED_BED=\"\"\n",
    "# Name TMP uniquely if to run multiple benchmark at the same time\n",
    "TMP=\"./TMP\" #  temporary file is to be used for keep temporary intermediate results, will be overwrriten for each run\n",
    "\n",
    "# deffine some constants in python \n",
    "N=500 # for padding intersion\n",
    "MIN_OVP=0.7 # for minimum reciprocal overlap\n",
    "MAX_INS_GAP=20 # assume that breakpoint gap of the insert is no more than 20\n",
    "\n",
    "genome_file = \"./data/hg19_wo_chr.genome\" \n",
    "#genome_file = \"./data/hg19_wi_chr.genome \n",
    "\n",
    "# [:memo:] We svaba, breakdancer and manta results in the order in the MoCCA-SV output.\n",
    "# \"#CHROM\tstart\tend\tsvaba\tbreakdancer\tmanta\tcaller_count\"\t\n",
    "columns=[10,11,12]\n",
    "callers = ['svaba', 'breakdancer', 'manta']\n",
    "TRUTH_BED_COLS=6 # the turth bed file contains 6 columns\n",
    "\n",
    "# Bari would like to reduce FP and increase the sensitivity\n",
    "# So we focus on \"OR\" not \"AND\"\n",
    "ensemble={\"svaba_or_manta\":[10,12],\n",
    "          \"svaba_or_breakdancer\":[10,11],\n",
    "          \"manta_or_breakdancer\":[12,11],\n",
    "          \"any_one\":[11,12,13]\n",
    "          }\n",
    "\n",
    "OUTFN=\"GIAB_performance.csv\""
   ]
  },
  {
   "cell_type": "code",
   "execution_count": 3,
   "metadata": {},
   "outputs": [
    {
     "name": "stderr",
     "output_type": "stream",
     "text": [
      "/DCEG/Resources/Tools/python3/3.6.3-shared/lib/python3.6/site-packages/pandas/compat/__init__.py:117: UserWarning: Could not import the lzma module. Your installed Python is incomplete. Attempting to use lzma compression will result in a RuntimeError.\n",
      "  warnings.warn(msg)\n"
     ]
    }
   ],
   "source": [
    "import os\n",
    "import subprocess \n",
    "import pandas as pd\n",
    "\n",
    "def run_shell(cmd, get_single_number=False):\n",
    "    print(\"Run: \"+cmd)\n",
    "    try:\n",
    "       grepOut = subprocess.check_output(cmd, shell=True, universal_newlines=True, stderr=subprocess.STDOUT)                       \n",
    "    except subprocess.CalledProcessError as grepexc:                                                                                                   \n",
    "        print(\"Error code\", grepexc.returncode,'; ', grepexc.output)\n",
    "    \n",
    "    if get_single_number:\n",
    "        grepOut=int(grepOut)\n",
    "        \n",
    "    return grepOut"
   ]
  },
  {
   "cell_type": "markdown",
   "metadata": {},
   "source": [
    "---\n",
    "## Data process"
   ]
  },
  {
   "cell_type": "markdown",
   "metadata": {},
   "source": [
    "### 1. Intersect with the included region if availalbe"
   ]
  },
  {
   "cell_type": "code",
   "execution_count": 4,
   "metadata": {},
   "outputs": [
    {
     "name": "stdout",
     "output_type": "stream",
     "text": [
      "Run: bedtools intersect -a data/my-tp-base.bed -b data/HG002_SVs_Tier1_noVDJorXorY_v0.6.2.bed -f 1.0000000 -u > ./TMP/truth_included.bed\n",
      "Run: bedtools intersect -a data/intrachromosomal_SVs_AJ_2x250_son -b data/HG002_SVs_Tier1_noVDJorXorY_v0.6.2.bed -f 1.0000000 -u > ./TMP/comp_included.bed\n"
     ]
    }
   ],
   "source": [
    "truth_bed1=TRUTH_BED\n",
    "comp_bed1=COMP_BED\n",
    "\n",
    "if INCLUDED_BED is None or INCLUDED_BED==\"\":\n",
    "    print(\"There is no included region specified!\")\n",
    "else:\n",
    "    # print (\"do something\")\n",
    "    truth_bed1 = os.path.join(TMP, \"truth_included.bed\")\n",
    "    comp_bed1 = os.path.join(TMP, \"comp_included.bed\")\n",
    "    os.system(\"mkdir -p %s\" % (TMP))\n",
    "    cmd1=\"bedtools intersect -a %s -b %s -f 1.0000000 -u > %s\" % (TRUTH_BED, INCLUDED_BED, truth_bed1)\n",
    "    cmd2=\"bedtools intersect -a %s -b %s -f 1.0000000 -u > %s\" % (COMP_BED, INCLUDED_BED, comp_bed1)\n",
    "    _ = run_shell(cmd1)\n",
    "    run_shell(cmd2)\n",
    "    "
   ]
  },
  {
   "cell_type": "markdown",
   "metadata": {},
   "source": [
    "### 2. Padding the insertions"
   ]
  },
  {
   "cell_type": "code",
   "execution_count": 5,
   "metadata": {},
   "outputs": [
    {
     "name": "stdout",
     "output_type": "stream",
     "text": [
      "Run:  \n",
      " awk -v OFS='\\t' '{ \n",
      "    if($5 == \"INS\") \n",
      "        print $0 > \"./TMP/ins_padded.bed\"; \n",
      "    else \n",
      "        print $0 > \"./TMP/others_padded.bed\";\n",
      "    }' ./TMP/truth_included.bed > /dev/null ; \n",
      "  cat ./TMP/others_padded.bed >./TMP/truth_padded.bed ; \n",
      "  bedtools slop -i ./TMP/ins_padded.bed -g ./data/hg19_wo_chr.genome  -b 500 >> ./TMP/truth_padded.bed ;\n",
      "\n",
      "Run:  \n",
      " awk -v OFS='\\t' '{ \n",
      "    if($3-$2 <= 20) \n",
      "        print $0 > \"./TMP/ins_padded.bed\"; \n",
      "    else \n",
      "        print $0 > \"./TMP/others_padded.bed\";\n",
      "    }' ./TMP/comp_included.bed > /dev/null; \n",
      "  cat ./TMP/others_padded.bed > ./TMP/comp_padded.bed;  \n",
      "  bedtools slop -i ./TMP/ins_padded.bed -g ./data/hg19_wo_chr.genome  -b 500 >> ./TMP/comp_padded.bed;\n",
      "\n"
     ]
    }
   ],
   "source": [
    "truth_bed2=os.path.join(TMP, \"truth_padded.bed\")\n",
    "comp_bed2=os.path.join(TMP, \"comp_padded.bed\")\n",
    "\n",
    "ins_bed=os.path.join(TMP, \"ins_padded.bed\")\n",
    "oth_bed=os.path.join(TMP, \"others_padded.bed\") \n",
    "cmd = \"bedtools slop -g %s  -b %s \"; \n",
    "    \n",
    "pad_truth_cmd = \"\"\" \n",
    " awk -v OFS='\\\\t' '{ \n",
    "    if($5 == \"INS\") \n",
    "        print $0 > \"%s\"; \n",
    "    else \n",
    "        print $0 > \"%s\";\n",
    "    }' %s > /dev/null ; \n",
    "  cat %s >%s ; \n",
    "  bedtools slop -i %s -g %s  -b %s >> %s ;\n",
    "\"\"\" % (ins_bed, oth_bed, truth_bed1, oth_bed, truth_bed2, ins_bed, genome_file, N, truth_bed2)\n",
    "        \n",
    "_= run_shell(pad_truth_cmd)\n",
    "\n",
    "pad_comp_cmd = \"\"\" \n",
    " awk -v OFS='\\\\t' '{ \n",
    "    if($3-$2 <= %d) \n",
    "        print $0 > \"%s\"; \n",
    "    else \n",
    "        print $0 > \"%s\";\n",
    "    }' %s > /dev/null; \n",
    "  cat %s > %s;  \n",
    "  bedtools slop -i %s -g %s  -b %s >> %s;\n",
    "\"\"\" % (MAX_INS_GAP, ins_bed, oth_bed, comp_bed1, oth_bed, comp_bed2, ins_bed, genome_file, N, comp_bed2)\n",
    "        \n",
    "_= run_shell(pad_comp_cmd)\n",
    "\n",
    "\n",
    "# pad_comp_cmd = \"\"\" \n",
    "#  awk -v OFS='\\\\t' '{ \n",
    "#     cmd = \"bedtools slop -g %s  -b %d \"; \n",
    "#     if($3-$2 <= %d) \n",
    "#         print $0 | cmd; \n",
    "#     else \n",
    "#         print $0 \n",
    "#     }' %s > %s \n",
    "# \"\"\" % (genome_file, N, MAX_INS_GAP, comp_bed1, comp_bed2)\n",
    "        \n",
    "# _= run_shell(pad_comp_cmd)\n"
   ]
  },
  {
   "cell_type": "markdown",
   "metadata": {},
   "source": [
    "### 3. Get the intersections between the truth bed and the compute bed "
   ]
  },
  {
   "cell_type": "code",
   "execution_count": 6,
   "metadata": {},
   "outputs": [
    {
     "name": "stdout",
     "output_type": "stream",
     "text": [
      "Run: \n",
      "             bedtools intersect -a ./TMP/truth_padded.bed -b ./TMP/comp_padded.bed -wa -wb -f 0.700000 -r > ./TMP/isec.bed\n",
      "           \n"
     ]
    }
   ],
   "source": [
    "isec_bed = os.path.join(TMP, \"isec.bed\")\n",
    "isec_cmd = \"\"\"\n",
    "             bedtools intersect -a %s -b %s -wa -wb -f %f -r > %s\n",
    "           \"\"\" % (truth_bed2, comp_bed2, MIN_OVP, isec_bed)\n",
    "\n",
    "_=run_shell(isec_cmd)"
   ]
  },
  {
   "cell_type": "markdown",
   "metadata": {},
   "source": [
    "### 4. Summary the results\n",
    "\t"
   ]
  },
  {
   "cell_type": "code",
   "execution_count": 7,
   "metadata": {},
   "outputs": [
    {
     "name": "stdout",
     "output_type": "stream",
     "text": [
      "Run: \n",
      "            awk  '{if($10==\"orig\") print $4}' ./TMP/isec.bed | sort -u |wc -l\n",
      "        \n",
      "Run: \n",
      "            awk  '{if($11==\"orig\") print $4}' ./TMP/isec.bed | sort -u |wc -l\n",
      "        \n",
      "Run: \n",
      "            awk  '{if($12==\"orig\") print $4}' ./TMP/isec.bed | sort -u |wc -l\n",
      "        \n",
      "[930, 1205, 4475]\n"
     ]
    }
   ],
   "source": [
    "rv=[]\n",
    "for i in columns:\n",
    "    cmd = \"\"\"\n",
    "            awk  '{if($%d==\"orig\") print $4}' %s | sort -u |wc -l\n",
    "        \"\"\" % (i, isec_bed)\n",
    "    rv.append(run_shell(cmd))\n",
    "    \n",
    "tps = list(map(lambda x: int(x), rv))\n",
    "print(tps)"
   ]
  },
  {
   "cell_type": "code",
   "execution_count": 8,
   "metadata": {},
   "outputs": [
    {
     "name": "stdout",
     "output_type": "stream",
     "text": [
      "Run: \n",
      "            awk  '{if($4==\"orig\") print}' ./TMP/comp_included.bed | wc -l\n",
      "        \n",
      "Run: \n",
      "            awk  '{if($5==\"orig\") print}' ./TMP/comp_included.bed | wc -l\n",
      "        \n",
      "Run: \n",
      "            awk  '{if($6==\"orig\") print}' ./TMP/comp_included.bed | wc -l\n",
      "        \n",
      "[4168, 18254, 5353]\n"
     ]
    }
   ],
   "source": [
    "# get pred\n",
    "rv=[]\n",
    "for i in columns:\n",
    "    cmd = \"\"\"\n",
    "            awk  '{if($%d==\"orig\") print}' %s | wc -l\n",
    "        \"\"\" % (i-TRUTH_BED_COLS, comp_bed1)\n",
    "    rv.append(run_shell(cmd, get_single_number=True))\n",
    "    \n",
    "preds = rv\n",
    "print(preds)"
   ]
  },
  {
   "cell_type": "code",
   "execution_count": 9,
   "metadata": {},
   "outputs": [
    {
     "name": "stdout",
     "output_type": "stream",
     "text": [
      "Run: bedtools cluster -i ./TMP/comp_included.bed > ./TMP/comp_cluster.bed\n",
      "Run: awk 'NR==1{print NF}' ./TMP/comp_cluster.bed\n",
      "last column pos:  27\n",
      "svaba_or_manta\n",
      "Run: \n",
      "                awk   '{if ( $10==\"orig\" ) print $4}' ./TMP/isec.bed >> ./TMP/svaba_or_manta_tp.tmp\n",
      "             \n",
      "Run: \n",
      "                awk   '{if ( $4==\"orig\" ) print $27}' ./TMP/comp_cluster.bed >> ./TMP/svaba_or_manta_pred.tmp\n",
      "             \n",
      "Run: \n",
      "                awk   '{if ( $12==\"orig\" ) print $4}' ./TMP/isec.bed >> ./TMP/svaba_or_manta_tp.tmp\n",
      "             \n",
      "Run: \n",
      "                awk   '{if ( $6==\"orig\" ) print $27}' ./TMP/comp_cluster.bed >> ./TMP/svaba_or_manta_pred.tmp\n",
      "             \n",
      "Run: sort -u ./TMP/svaba_or_manta_tp.tmp |wc -l\n",
      "Run: sort -u ./TMP/svaba_or_manta_pred.tmp |wc -l\n",
      "4590\n",
      "7000\n",
      "svaba_or_breakdancer\n",
      "Run: \n",
      "                awk   '{if ( $10==\"orig\" ) print $4}' ./TMP/isec.bed >> ./TMP/svaba_or_breakdancer_tp.tmp\n",
      "             \n",
      "Run: \n",
      "                awk   '{if ( $4==\"orig\" ) print $27}' ./TMP/comp_cluster.bed >> ./TMP/svaba_or_breakdancer_pred.tmp\n",
      "             \n",
      "Run: \n",
      "                awk   '{if ( $11==\"orig\" ) print $4}' ./TMP/isec.bed >> ./TMP/svaba_or_breakdancer_tp.tmp\n",
      "             \n",
      "Run: \n",
      "                awk   '{if ( $5==\"orig\" ) print $27}' ./TMP/comp_cluster.bed >> ./TMP/svaba_or_breakdancer_pred.tmp\n",
      "             \n",
      "Run: sort -u ./TMP/svaba_or_breakdancer_tp.tmp |wc -l\n",
      "Run: sort -u ./TMP/svaba_or_breakdancer_pred.tmp |wc -l\n",
      "1458\n",
      "19158\n",
      "manta_or_breakdancer\n",
      "Run: \n",
      "                awk   '{if ( $12==\"orig\" ) print $4}' ./TMP/isec.bed >> ./TMP/manta_or_breakdancer_tp.tmp\n",
      "             \n",
      "Run: \n",
      "                awk   '{if ( $6==\"orig\" ) print $27}' ./TMP/comp_cluster.bed >> ./TMP/manta_or_breakdancer_pred.tmp\n",
      "             \n",
      "Run: \n",
      "                awk   '{if ( $11==\"orig\" ) print $4}' ./TMP/isec.bed >> ./TMP/manta_or_breakdancer_tp.tmp\n",
      "             \n",
      "Run: \n",
      "                awk   '{if ( $5==\"orig\" ) print $27}' ./TMP/comp_cluster.bed >> ./TMP/manta_or_breakdancer_pred.tmp\n",
      "             \n",
      "Run: sort -u ./TMP/manta_or_breakdancer_tp.tmp |wc -l\n",
      "Run: sort -u ./TMP/manta_or_breakdancer_pred.tmp |wc -l\n",
      "4584\n",
      "20994\n",
      "any_one\n",
      "Run: \n",
      "                awk   '{if ( $11==\"orig\" ) print $4}' ./TMP/isec.bed >> ./TMP/any_one_tp.tmp\n",
      "             \n",
      "Run: \n",
      "                awk   '{if ( $5==\"orig\" ) print $27}' ./TMP/comp_cluster.bed >> ./TMP/any_one_pred.tmp\n",
      "             \n",
      "Run: \n",
      "                awk   '{if ( $12==\"orig\" ) print $4}' ./TMP/isec.bed >> ./TMP/any_one_tp.tmp\n",
      "             \n",
      "Run: \n",
      "                awk   '{if ( $6==\"orig\" ) print $27}' ./TMP/comp_cluster.bed >> ./TMP/any_one_pred.tmp\n",
      "             \n",
      "Run: \n",
      "                awk   '{if ( $13==\"orig\" ) print $4}' ./TMP/isec.bed >> ./TMP/any_one_tp.tmp\n",
      "             \n",
      "Run: \n",
      "                awk   '{if ( $7==\"orig\" ) print $27}' ./TMP/comp_cluster.bed >> ./TMP/any_one_pred.tmp\n",
      "             \n",
      "Run: sort -u ./TMP/any_one_tp.tmp |wc -l\n",
      "Run: sort -u ./TMP/any_one_pred.tmp |wc -l\n",
      "4584\n",
      "20994\n"
     ]
    }
   ],
   "source": [
    "# work on the ensemble call \n",
    "# get prediction count using bedtools cluster\n",
    "\n",
    "comp_cluster = os.path.join(TMP, \"comp_cluster.bed\")\n",
    "\n",
    "_ = run_shell(\"bedtools cluster -i %s > %s\" % (comp_bed1, comp_cluster))\n",
    "\n",
    "cluster_last_col = run_shell(\"awk 'NR==1{print NF}' %s\" %(comp_cluster), get_single_number=True)              \n",
    "print(\"last column pos: \", cluster_last_col)  \n",
    "\n",
    "all_callers=callers\n",
    "\n",
    "for k in ensemble.keys():\n",
    "    print(k)\n",
    "    \n",
    "    tp_tmp_file=os.path.join(TMP, \"%s_tp.tmp\" % k)\n",
    "    pred_tmp_file=os.path.join(TMP, \"%s_pred.tmp\" % k)\n",
    "    \n",
    "    if os.path.exists(tp_tmp_file):\n",
    "        os.remove(tp_tmp_file)\n",
    "        \n",
    "    if os.path.exists(pred_tmp_file):\n",
    "        os.remove(pred_tmp_file)\n",
    "        \n",
    "    for i in ensemble[k]:\n",
    "        # count tp\n",
    "        cmd= \"\"\"\n",
    "                awk   '{if ( $%d==\"orig\" ) print $4}' %s >> %s\n",
    "             \"\"\" % (i, isec_bed, tp_tmp_file)\n",
    "        _=run_shell(cmd)\n",
    "        \n",
    "        cmd2=\"\"\"\n",
    "                awk   '{if ( $%d==\"orig\" ) print $%d}' %s >> %s\n",
    "             \"\"\" % (i-TRUTH_BED_COLS, cluster_last_col, comp_cluster, pred_tmp_file)\n",
    "        _=run_shell(cmd2)\n",
    "        \n",
    "    tp=run_shell(\"sort -u %s |wc -l\" % (tp_tmp_file), get_single_number=True)\n",
    "    pred=run_shell(\"sort -u %s |wc -l\" % (pred_tmp_file), get_single_number=True)\n",
    "    print(tp)\n",
    "    print(pred)\n",
    "    \n",
    "    all_callers.append(k)\n",
    "    tps.append(tp)\n",
    "    preds.append(pred)\n",
    "\n"
   ]
  },
  {
   "cell_type": "code",
   "execution_count": 10,
   "metadata": {},
   "outputs": [
    {
     "name": "stdout",
     "output_type": "stream",
     "text": [
      "Run: cat data/my-tp-base.bed | wc -l\n",
      "                      Truth    TP   PRED        Sp        Sn        FN\n",
      "Caller                                                                \n",
      "svaba                  9361   930   4168  0.223129  0.099348  0.900652\n",
      "breakdancer            9361  1205  18254  0.066013  0.128726  0.871274\n",
      "manta                  9361  4475   5353  0.835980  0.478047  0.521953\n",
      "svaba_or_manta         9361  4590   7000  0.655714  0.490332  0.509668\n",
      "svaba_or_breakdancer   9361  1458  19158  0.076104  0.155753  0.844247\n",
      "manta_or_breakdancer   9361  4584  20994  0.218348  0.489691  0.510309\n",
      "any_one                9361  4584  20994  0.218348  0.489691  0.510309\n"
     ]
    }
   ],
   "source": [
    "truth_cnt = run_shell(\"cat %s | wc -l\" % (TRUTH_BED), get_single_number=True)\n",
    "df = pd.DataFrame({\"Truth\":truth_cnt, \"TP\":tps, \n",
    "                   \"PRED\":preds}, index=all_callers).assign(\n",
    "                Sp=lambda df: df.TP/df.PRED, \n",
    "                Sn=lambda df: df.TP/df.Truth,\n",
    "                FN=lambda df:1-df.Sn )\n",
    "\n",
    "df.index.name=\"Caller\" \n",
    "print(df)"
   ]
  },
  {
   "cell_type": "code",
   "execution_count": 11,
   "metadata": {},
   "outputs": [],
   "source": [
    "df.to_csv(OUTFN)"
   ]
  },
  {
   "cell_type": "code",
   "execution_count": null,
   "metadata": {},
   "outputs": [],
   "source": []
  }
 ],
 "metadata": {
  "kernelspec": {
   "display_name": "Python 3",
   "language": "python",
   "name": "python3"
  },
  "language_info": {
   "codemirror_mode": {
    "name": "ipython",
    "version": 3
   },
   "file_extension": ".py",
   "mimetype": "text/x-python",
   "name": "python",
   "nbconvert_exporter": "python",
   "pygments_lexer": "ipython3",
   "version": "3.6.3"
  }
 },
 "nbformat": 4,
 "nbformat_minor": 2
}
