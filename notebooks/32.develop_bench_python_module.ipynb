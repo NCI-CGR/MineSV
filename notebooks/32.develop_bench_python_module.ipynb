{
 "cells": [
  {
   "cell_type": "code",
   "execution_count": 2,
   "metadata": {},
   "outputs": [],
   "source": [
    "import os\n",
    "os.chdir(\"/home/zhuw10/CL/SV/prj_bench/notebooks\" )"
   ]
  },
  {
   "cell_type": "markdown",
   "metadata": {},
   "source": [
    "# this is a test\n"
   ]
  },
  {
   "cell_type": "code",
   "execution_count": null,
   "metadata": {},
   "outputs": [],
   "source": []
  },
  {
   "cell_type": "markdown",
   "metadata": {},
   "source": [
    "1. Import the fai as the interval tree to be included.\n",
    "I may need to refer this part to the genome_tree.py"
   ]
  },
  {
   "cell_type": "code",
   "execution_count": 54,
   "metadata": {},
   "outputs": [
    {
     "output_type": "execute_result",
     "data": {
      "text/plain": "     0          1           2   3   4\n0    1  249250621          52  80  81\n1    2  243199373   252366358  80  81\n2    3  198022430   498605776  80  81\n3    4  191154276   699103539  80  81\n4    5  180915260   892647296  80  81\n5    6  171115067  1075824049  80  81\n6    7  159138663  1249078107  80  81\n7    8  146364022  1410206056  80  81\n8    9  141213431  1558399681  80  81\n9   10  135534747  1701378334  80  81\n10  11  135006516  1838607320  80  81\n11  12  133851895  1975301472  80  81\n12  13  115169878  2110826570  80  81\n13  14  107349540  2227436126  80  81\n14  15  102531392  2336127590  80  81\n15  16   90354753  2439940678  80  81\n16  17   81195210  2531424919  80  81\n17  18   78077248  2613635123  80  81\n18  19   59128983  2692688390  80  81\n19  20   63025520  2752556539  80  81\n20  21   48129895  2816369931  80  81\n21  22   51304566  2865101503  80  81\n22   X  155270560  2917047429  80  81\n23   Y   59373566  3074258928  80  81\n24  MT      16569  3134374742  80  81",
      "text/html": "<div>\n<style scoped>\n    .dataframe tbody tr th:only-of-type {\n        vertical-align: middle;\n    }\n\n    .dataframe tbody tr th {\n        vertical-align: top;\n    }\n\n    .dataframe thead th {\n        text-align: right;\n    }\n</style>\n<table border=\"1\" class=\"dataframe\">\n  <thead>\n    <tr style=\"text-align: right;\">\n      <th></th>\n      <th>0</th>\n      <th>1</th>\n      <th>2</th>\n      <th>3</th>\n      <th>4</th>\n    </tr>\n  </thead>\n  <tbody>\n    <tr>\n      <th>0</th>\n      <td>1</td>\n      <td>249250621</td>\n      <td>52</td>\n      <td>80</td>\n      <td>81</td>\n    </tr>\n    <tr>\n      <th>1</th>\n      <td>2</td>\n      <td>243199373</td>\n      <td>252366358</td>\n      <td>80</td>\n      <td>81</td>\n    </tr>\n    <tr>\n      <th>2</th>\n      <td>3</td>\n      <td>198022430</td>\n      <td>498605776</td>\n      <td>80</td>\n      <td>81</td>\n    </tr>\n    <tr>\n      <th>3</th>\n      <td>4</td>\n      <td>191154276</td>\n      <td>699103539</td>\n      <td>80</td>\n      <td>81</td>\n    </tr>\n    <tr>\n      <th>4</th>\n      <td>5</td>\n      <td>180915260</td>\n      <td>892647296</td>\n      <td>80</td>\n      <td>81</td>\n    </tr>\n    <tr>\n      <th>5</th>\n      <td>6</td>\n      <td>171115067</td>\n      <td>1075824049</td>\n      <td>80</td>\n      <td>81</td>\n    </tr>\n    <tr>\n      <th>6</th>\n      <td>7</td>\n      <td>159138663</td>\n      <td>1249078107</td>\n      <td>80</td>\n      <td>81</td>\n    </tr>\n    <tr>\n      <th>7</th>\n      <td>8</td>\n      <td>146364022</td>\n      <td>1410206056</td>\n      <td>80</td>\n      <td>81</td>\n    </tr>\n    <tr>\n      <th>8</th>\n      <td>9</td>\n      <td>141213431</td>\n      <td>1558399681</td>\n      <td>80</td>\n      <td>81</td>\n    </tr>\n    <tr>\n      <th>9</th>\n      <td>10</td>\n      <td>135534747</td>\n      <td>1701378334</td>\n      <td>80</td>\n      <td>81</td>\n    </tr>\n    <tr>\n      <th>10</th>\n      <td>11</td>\n      <td>135006516</td>\n      <td>1838607320</td>\n      <td>80</td>\n      <td>81</td>\n    </tr>\n    <tr>\n      <th>11</th>\n      <td>12</td>\n      <td>133851895</td>\n      <td>1975301472</td>\n      <td>80</td>\n      <td>81</td>\n    </tr>\n    <tr>\n      <th>12</th>\n      <td>13</td>\n      <td>115169878</td>\n      <td>2110826570</td>\n      <td>80</td>\n      <td>81</td>\n    </tr>\n    <tr>\n      <th>13</th>\n      <td>14</td>\n      <td>107349540</td>\n      <td>2227436126</td>\n      <td>80</td>\n      <td>81</td>\n    </tr>\n    <tr>\n      <th>14</th>\n      <td>15</td>\n      <td>102531392</td>\n      <td>2336127590</td>\n      <td>80</td>\n      <td>81</td>\n    </tr>\n    <tr>\n      <th>15</th>\n      <td>16</td>\n      <td>90354753</td>\n      <td>2439940678</td>\n      <td>80</td>\n      <td>81</td>\n    </tr>\n    <tr>\n      <th>16</th>\n      <td>17</td>\n      <td>81195210</td>\n      <td>2531424919</td>\n      <td>80</td>\n      <td>81</td>\n    </tr>\n    <tr>\n      <th>17</th>\n      <td>18</td>\n      <td>78077248</td>\n      <td>2613635123</td>\n      <td>80</td>\n      <td>81</td>\n    </tr>\n    <tr>\n      <th>18</th>\n      <td>19</td>\n      <td>59128983</td>\n      <td>2692688390</td>\n      <td>80</td>\n      <td>81</td>\n    </tr>\n    <tr>\n      <th>19</th>\n      <td>20</td>\n      <td>63025520</td>\n      <td>2752556539</td>\n      <td>80</td>\n      <td>81</td>\n    </tr>\n    <tr>\n      <th>20</th>\n      <td>21</td>\n      <td>48129895</td>\n      <td>2816369931</td>\n      <td>80</td>\n      <td>81</td>\n    </tr>\n    <tr>\n      <th>21</th>\n      <td>22</td>\n      <td>51304566</td>\n      <td>2865101503</td>\n      <td>80</td>\n      <td>81</td>\n    </tr>\n    <tr>\n      <th>22</th>\n      <td>X</td>\n      <td>155270560</td>\n      <td>2917047429</td>\n      <td>80</td>\n      <td>81</td>\n    </tr>\n    <tr>\n      <th>23</th>\n      <td>Y</td>\n      <td>59373566</td>\n      <td>3074258928</td>\n      <td>80</td>\n      <td>81</td>\n    </tr>\n    <tr>\n      <th>24</th>\n      <td>MT</td>\n      <td>16569</td>\n      <td>3134374742</td>\n      <td>80</td>\n      <td>81</td>\n    </tr>\n  </tbody>\n</table>\n</div>"
     },
     "metadata": {},
     "execution_count": 54
    }
   ],
   "source": [
    "import pandas as pd\n",
    "fai_fn = \"../../refGenomes/Homo_sapiens_assembly19.fasta.fai\"\n",
    "chrs = list(map(str, range(1,23)))+['X','Y','MT']\n",
    "\n",
    "fai_file=open(fai_fn)\n",
    "fai_dat = pd.read_csv(fai_fn, sep='\\t',header=None)\n",
    "fai_dat[fai_dat[0].isin(chrs)]\n",
    "\n",
    "\n",
    "\n"
   ]
  },
  {
   "cell_type": "code",
   "execution_count": 55,
   "metadata": {},
   "outputs": [
    {
     "output_type": "execute_result",
     "data": {
      "text/plain": "defaultdict(intervaltree.intervaltree.IntervalTree,\n            {'1': IntervalTree([Interval(0, 249250621)]),\n             '2': IntervalTree([Interval(0, 243199373)]),\n             '3': IntervalTree([Interval(0, 198022430)]),\n             '4': IntervalTree([Interval(0, 191154276)]),\n             '5': IntervalTree([Interval(0, 180915260)]),\n             '6': IntervalTree([Interval(0, 171115067)]),\n             '7': IntervalTree([Interval(0, 159138663)]),\n             '8': IntervalTree([Interval(0, 146364022)]),\n             '9': IntervalTree([Interval(0, 141213431)]),\n             '10': IntervalTree([Interval(0, 135534747)]),\n             '11': IntervalTree([Interval(0, 135006516)]),\n             '12': IntervalTree([Interval(0, 133851895)]),\n             '13': IntervalTree([Interval(0, 115169878)]),\n             '14': IntervalTree([Interval(0, 107349540)]),\n             '15': IntervalTree([Interval(0, 102531392)]),\n             '16': IntervalTree([Interval(0, 90354753)]),\n             '17': IntervalTree([Interval(0, 81195210)]),\n             '18': IntervalTree([Interval(0, 78077248)]),\n             '19': IntervalTree([Interval(0, 59128983)]),\n             '20': IntervalTree([Interval(0, 63025520)]),\n             '21': IntervalTree([Interval(0, 48129895)]),\n             '22': IntervalTree([Interval(0, 51304566)]),\n             'X': IntervalTree([Interval(0, 155270560)]),\n             'Y': IntervalTree([Interval(0, 59373566)]),\n             'MT': IntervalTree([Interval(0, 16569)])})"
     },
     "metadata": {},
     "execution_count": 55
    }
   ],
   "source": [
    "from intervaltree import IntervalTree, Interval\n",
    "from collections import defaultdict, namedtuple\n",
    "\n",
    "included_regs = defaultdict(IntervalTree)\n",
    "fai_dat[fai_dat[0].isin(chrs)].apply( lambda x: included_regs[x[0]].addi(0,x[1]), axis=1)\n",
    "\n",
    "included_regs\n"
   ]
  },
  {
   "cell_type": "markdown",
   "metadata": {},
   "source": [
    "## 2. Load the truth vcf \n",
    "build another interval tree\n",
    "+ all interval should be within the included regions\n",
    "+ drop it if it is not intra SV\n",
    "+ drop it if it is too small or too large\n",
    "    + >=50\n",
    "    + <=50000\n"
   ]
  },
  {
   "cell_type": "code",
   "execution_count": 56,
   "metadata": {
    "tags": [
     "outputPrepend",
     "outputPrepend",
     "outputPrepend",
     "outputPrepend",
     "outputPrepend"
    ]
   },
   "outputs": [
    {
     "output_type": "stream",
     "name": "stdout",
     "text": "<DUP> 25204182 25210854\n<INV> 32176186 32193834\n<DEL> 36419037 36421454\n<INV> 37852934 37863686\n<DEL> 40302119 40310286\n<DEL> 52748187 52752298\n<DEL> 62421145 62424426\n<INV> 67068898 67075815\n<DUP> 67694632 67698300\n<DUP> 70709636 70717682\n<DUP> 111418702 111426908\n<DUP> 162165374 162168815\n<DEL> 162739418 162742026\n<INV> 167044909 167047890\n<INV> 167450586 167455866\n<DUP> 172023645 172029939\n<INV> 174098254 174103055\n<INV> 178678992 178680869\n<DEL> 181069590 181072820\n<DEL> 211813609 211816889\n<INV> 212816043 212836430\n<DEL> 222412147 222423755\n<DUP> 232213568 232219117\n<INV> 247204800 247209976\n<INV> 247874052 247886918\n<DUP> 5304636 5309227\n<DUP> 7115151 7139773\n<DEL> 12504806 12506154\n<DUP> 19431941 19433784\n<DUP> 23368210 23378594\n<DEL> 36026185 36030048\n<INV> 37564758 37573259\n<DUP> 44017954 44025265\n<DUP> 61282470 61291407\n<DUP> 75225370 75229777\n<DEL> 77154046 77175071\n<DEL> 78239538 78247544\n<DEL> 84044870 84048559\n<INV> 87483048 87496843\n<INV> 116043741 116049168\n<INV> 120317719 120330912\n<INV> 120734800 120740339\n<DEL> 128786549 128789548\n<INV> 1776817 1784685\n<INV> 5743808 5746213\n<DEL> 7696348 7700609\n<DEL> 16821515 16835515\n<DEL> 18850995 18852358\n<INV> 23165171 23171847\n<INV> 24689316 24696697\n<DEL> 27989736 27995497\n<DEL> 45013983 45016800\n<DEL> 63409368 63410303\n<INV> 70251591 70256721\n<DEL> 72364429 72372012\n<DUP> 72636085 72641576\n<DEL> 75337984 75347986\n<DUP> 81567423 81573827\n<DUP> 87024096 87037371\n<DUP> 89919759 89922357\n<INV> 94813919 94820853\n<DEL> 102004433 102007847\n<DEL> 102796978 102800857\n<DEL> 120672918 120680300\n<DEL> 2079684 2083904\n<DUP> 4583207 4590794\n<DUP> 9039201 9040849\n<INV> 12394139 12398323\n<DEL> 22043152 22044823\n<INV> 25238068 25239487\n<DEL> 26126797 26129447\n<INV> 34315130 34319740\n<INV> 42785236 42789815\n<INV> 73154347 73163768\n<DUP> 76173250 76180400\n<INV> 90379170 90391726\n<INV> 97606067 97616543\n<DUP> 107249807 107259942\n<INV> 116213201 116220426\n<DEL> 116839112 116840739\n<DEL> 119041591 119045425\n<DUP> 125636096 125641948\n<INV> 127304356 127309206\n<DEL> 130807225 130810962\n<INV> 131465567 131469889\n<DEL> 26800966 26805318\n<DEL> 30085731 30098640\n<DEL> 32386713 32391815\n<DUP> 35541901 35551339\n<DEL> 38801957 38808614\n<INV> 41050320 41059091\n<DUP> 43788620 43799800\n<DEL> 54724536 54730397\n<INV> 60034425 60047649\n<INV> 75074087 75079345\n<DEL> 75702353 75705206\n<INV> 96916155 96926523\n<INV> 107550651 107568252\n<DEL> 108364084 108371939\n<INV> 113207826 113213874\n<INV> 28585158 28589768\n<DUP> 36840770 36849713\n<DEL> 45913903 45921746\n<DUP> 49363910 49370324\n<INV> 56084539 56087426\n<DEL> 60239170 60242994\n<INV> 68463740 68470217\n<DEL> 79608810 79615188\n<DEL> 88378399 88386591\n<DEL> 102631785 102634993\n<DEL> 40226498 40232472\n<DUP> 44218044 44229261\n<DUP> 46344746 46356478\n<DEL> 56119560 56123568\n<DUP> 72725150 72730114\n<INV> 73982157 73992641\n<DEL> 76483979 76490558\n<DEL> 91919716 91921050\n<DUP> 93602851 93609123\n<DEL> 100919149 100921715\n<DUP> 7093675 7095699\n<DUP> 15201453 15202860\n<DEL> 19985313 19988358\n<INV> 25876854 25880942\n<DEL> 30316605 30320854\n<INV> 50904091 50917667\n<DEL> 57872312 57873778\n<INV> 66271498 66279296\n<DUP> 69588446 69591424\n<INV> 70063132 70068988\n<DUP> 77811878 77812554\n<DUP> 88961608 88968625\n<DEL> 33210111 33226211\n<INV> 34024047 34027610\n<DUP> 37481391 37482506\n<INV> 55319940 55324450\n<DUP> 73390584 73393334\n<INV> 6289598 6294738\n<INV> 25269343 25277173\n<INV> 25981164 25988356\n<INV> 30594102 30599307\n<DUP> 31654770 31668620\n<DEL> 32889467 32891774\n<DEL> 33026688 33028514\n<DEL> 43529409 43532201\n<DEL> 68916534 68922705\n<INV> 72863326 72871302\n<INV> 74835223 74839907\n<DEL> 76136431 76137638\n<DEL> 2007923 2008394\n<INV> 8026910 8034398\n<INV> 41162865 41164031\n<DEL> 48899239 48900842\n<DUP> 52662366 52665266\n<INV> 2881000 2887292\n<DUP> 17724066 17740090\n<INV> 23243651 23251892\n<INV> 23786764 23795332\n<INV> 25542741 25548409\n<DEL> 27359977 27362556\n<INV> 30132954 30148354\n<INV> 32525873 32530524\n<DEL> 38448911 38455159\n<DEL> 53620138 53624663\n<INV> 56229820 56241938\n<INV> 59552125 59558944\n<DUP> 60245485 60254007\n<DEL> 75596635 75598759\n<DUP> 85308793 85309829\n<DEL> 86279950 86284752\n<INV> 104287298 104298766\n<DEL> 112442739 112444144\n<DUP> 113631209 113645918\n<DUP> 120647920 120660558\n<INV> 131648627 131659481\n<DEL> 148652798 148656997\n<INV> 160412193 160421952\n<DUP> 185701966 185716965\n<DUP> 186687185 186696696\n<INV> 190847978 190850558\n<DEL> 205529655 205537833\n<DUP> 207624379 207630409\n<INV> 208885526 208888004\n<DUP> 218937341 218945480\n<INV> 221302583 221306030\n<DUP> 221862710 221871186\n<DEL> 224054726 224062213\n<DUP> 226972387 226976702\n<INV> 233923610 233929412\n<INV> 235101550 235106447\n<DUP> 237063406 237067605\n<DEL> 237127976 237138121\n<INV> 237965425 237978360\n<DEL> 12251143 12253357\n<DUP> 47951860 47954703\n<DUP> 51197249 51205864\n<DUP> 51783917 51792362\n<INV> 54314781 54318717\n<DUP> 54802963 54818849\n<DUP> 59490176 59494361\n<INV> 62047494 62062597\n<DEL> 62791228 62800996\n<DUP> 17508402 17521518\n<DUP> 28241670 28248354\n<DUP> 30759439 30777482\n<INV> 36833423 36837460\n<DEL> 43375796 43381597\n<INV> 44996482 45000480\n<INV> 47736920 47739051\n<DEL> 16694049 16697228\n<DUP> 39170045 39178617\n<INV> 40799085 40808521\n<DUP> 43593140 43594518\n<DEL> 4126251 4136987\n<DEL> 9094119 9099672\n<INV> 13161300 13163038\n<DUP> 23897803 23903961\n<DUP> 27641291 27643839\n<DEL> 39694369 39695721\n<INV> 46576578 46581139\n<DEL> 52063964 52067581\n<DUP> 52342512 52346502\n<INV> 56621157 56625120\n<DUP> 58638914 58649218\n<DEL> 59463408 59481690\n<INV> 60407413 60410978\n<DEL> 64303263 64315258\n<DUP> 73919134 73921372\n<DUP> 74800062 74808413\n<DEL> 98986445 98987868\n<DUP> 104849262 104850676\n<DUP> 114423802 114432056\n<DUP> 124686901 124691283\n<DUP> 140181448 140190790\n<DEL> 148001615 148006840\n<DUP> 150859429 150867232\n<DUP> 157850536 157861338\n<INV> 168136422 168138615\n<DEL> 173395694 173409769\n<DUP> 178701794 178705954\n<INV> 190227874 190239508\n<DEL> 6597173 6600032\n<DUP> 8849611 8864186\n<INV> 15657627 15665595\n<DEL> 25768960 25771131\n<DUP> 44980016 44989078\n<INV> 45011375 45015338\n<INV> 69258348 69264791\n<DUP> 75038232 75043179\n<DEL> 85735657 85742961\n<DUP> 94298976 94308409\n<DEL> 114162534 114164278\n<DUP> 114955672 114960174\n<INV> 118711561 118717868\n<DUP> 120276354 120280050\n<DEL> 134682237 134684578\n<DEL> 145236681 145238747\n<INV> 166283431 166286011\n<DEL> 168502978 168505495\n<INV> 174860691 174868644\n<DUP> 177256395 177261756\n<INV> 184072294 184074217\n<INV> 188394768 188401836\n<DEL> 15146634 15151789\n<DUP> 18381069 18384066\n<DEL> 22684185 22688415\n<DUP> 34198778 34202961\n<DUP> 35240096 35248038\n<DUP> 38418046 38430581\n<DUP> 58372218 58379553\n<DEL> 58837392 58843686\n<INV> 60653263 60660589\n<DUP> 66910115 66927870\n<INV> 79371101 79375797\n<INV> 84898195 84904205\n<INV> 85359652 85364302\n<INV> 87389736 87401919\n<INV> 90333271 90349359\n<INV> 91067227 91074988\n<INV> 103455994 103458692\n<DUP> 108339944 108348221\n<INV> 109577959 109587935\n<DEL> 115149476 115159499\n<DUP> 122920970 122932140\n<DEL> 133101190 133108664\n<DUP> 133948946 133950164\n<DEL> 137514298 137524662\n<INV> 140352856 140364762\n<DUP> 167379500 167397781\n<DEL> 172270754 172278508\n<DEL> 912687 923905\n<INV> 2505718 2510542\n<DUP> 3466916 3470822\n<DUP> 8657141 8659816\n<INV> 9769287 9776774\n<DEL> 33686541 33690659\n<DUP> 43564775 43566226\n<INV> 70859417 70871052\n<DEL> 76558073 76559977\n<DEL> 80951245 80953462\n<DUP> 83070493 83076479\n<DEL> 90005626 90008281\n<INV> 121094583 121097800\n<INV> 124632120 124642850\n<INV> 126891892 126896319\n<DEL> 126936436 126939081\n<INV> 145257034 145272935\n<DUP> 150567706 150578885\n<DUP> 157803617 157815748\n<DUP> 159793802 159804749\n<DEL> 161281197 161287820\n<DUP> 9101993 9109221\n<DEL> 11859143 11862915\n<DEL> 13750341 13752251\n<INV> 18465142 18469760\n<INV> 37212511 37217461\n<DUP> 40634893 40648566\n<DEL> 40917551 40925961\n<DEL> 80069252 80072461\n<DUP> 88049840 88055720\n<DUP> 97544440 97545955\n<DUP> 107267970 107275714\n<DUP> 111273141 111275907\n<INV> 122489562 122502747\n<INV> 125065717 125076161\n<DUP> 133397795 133407662\n<DUP> 136637914 136642617\n<DEL> 144970513 144975639\n<DUP> 154041488 154053464\n<DEL> 18256043 18258622\n<INV> 59983695 59991562\n<DEL> 64451353 64458873\n<DUP> 88134193 88140705\n<DUP> 89309867 89319234\n<DUP> 93060904 93065768\n<DEL> 103105229 103109738\n<DUP> 116685056 116695707\n<INV> 130241276 130253826\n<DUP> 6258538 6261987\n<INV> 7996686 8001797\n<DEL> 9176923 9182091\n<INV> 13731149 13740157\n<DUP> 23084786 23087792\n<DUP> 47011085 47015315\n<INV> 67938550 67941483\n<DUP> 93100189 93106374\n<DUP> 105387261 105393202\n<DEL> 105752734 105756162\n<INV> 115564107 115566421\n<DEL> 125180132 125188445\n<DEL> 130108039 130121494\n<DUP> 137373715 137376257\n<DUP> 7420706 7426123\n<INV> 8948897 8964204\n<INV> 15562367 15568225\n<INV> 17200882 17219039\n<INV> 27765999 27782931\n<DEL> 41191125 41192615\n<DUP> 46018519 46031294\n<DUP> 50420625 50430103\n<DUP> 70885939 70888208\n<INV> 74458035 74460351\n<DEL> 78696003 78700637\n<INV> 90613041 90628050\n<DEL> 95229151 95233275\n<INV> 96957485 96961377\n<DUP> 103265254 103277448\n<INV> 107517493 107524969\n<DEL> 109016053 109020901\n<DEL> 119595996 119598596\n<DUP> 139585001 139588560\n4280 371\n"
    }
   ],
   "source": [
    "import pprint\n",
    "pp = pprint.PrettyPrinter(indent=4)\n",
    "\n",
    "import pysam\n",
    "import pprint\n",
    "vcf_fn = \"../data/dream_modified.vcf.gz\"\n",
    "vcf = pysam.VariantFile(vcf_fn)\n",
    "n=0;\n",
    "c=0\n",
    "\n",
    "def filter_base_entry(entry, included_regs, ALTS=['<INV>', '<DUP>', '<DEL>', '<INS>']):\n",
    "    ''' \n",
    "    I may define excluded_regs instead so as to drop any entry overlaps with the excluded regions\n",
    "    '''\n",
    "    if entry.alts[0] not in ALTS:\n",
    "        return False\n",
    "\n",
    "    # it is a set\n",
    "    regs = included_regs[entry.chrom].overlap(entry.start, entry.stop)\n",
    "    if len(regs)!=1:\n",
    "        print(\"Error in: %s\" % (entry))\n",
    "        return False\n",
    "    if regs.pop().contains_interval(Interval(entry.start, entry.stop)):\n",
    "        return True\n",
    "    else:\n",
    "        return False \n",
    "\n",
    "\n",
    "\n",
    "for entry in vcf.fetch():\n",
    "    n+=1\n",
    "    if filter_base_entry(entry, included_regs) :\n",
    "        print(entry.alts[0], entry.start, entry.stop)\n",
    "        c+=1\n",
    "\n",
    "print(n,c)\n",
    "\n"
   ]
  },
  {
   "cell_type": "code",
   "execution_count": 58,
   "metadata": {},
   "outputs": [
    {
     "output_type": "stream",
     "name": "stdout",
     "text": "[   '__class__',\n    '__delattr__',\n    '__dir__',\n    '__doc__',\n    '__enter__',\n    '__eq__',\n    '__exit__',\n    '__format__',\n    '__ge__',\n    '__getattribute__',\n    '__gt__',\n    '__hash__',\n    '__init__',\n    '__init_subclass__',\n    '__iter__',\n    '__le__',\n    '__lt__',\n    '__ne__',\n    '__new__',\n    '__next__',\n    '__pyx_vtable__',\n    '__reduce__',\n    '__reduce_ex__',\n    '__repr__',\n    '__setattr__',\n    '__setstate__',\n    '__sizeof__',\n    '__str__',\n    '__subclasshook__',\n    'add_hts_options',\n    'category',\n    'check_truncation',\n    'close',\n    'closed',\n    'compression',\n    'copy',\n    'description',\n    'drop_samples',\n    'duplicate_filehandle',\n    'fetch',\n    'filename',\n    'format',\n    'get_reference_name',\n    'get_tid',\n    'header',\n    'header_written',\n    'index',\n    'index_filename',\n    'is_bam',\n    'is_bcf',\n    'is_closed',\n    'is_cram',\n    'is_open',\n    'is_read',\n    'is_reading',\n    'is_remote',\n    'is_sam',\n    'is_stream',\n    'is_valid_reference_name',\n    'is_valid_tid',\n    'is_vcf',\n    'is_write',\n    'mode',\n    'new_record',\n    'open',\n    'parse_region',\n    'reset',\n    'seek',\n    'subset_samples',\n    'tell',\n    'threads',\n    'version',\n    'write']\n"
    }
   ],
   "source": [
    "pp.pprint(dir(vcf))\n"
   ]
  },
  {
   "cell_type": "code",
   "execution_count": 61,
   "metadata": {},
   "outputs": [
    {
     "output_type": "stream",
     "name": "stdout",
     "text": "4280\n"
    }
   ],
   "source": [
    "# can i fetch again wo reset: yes.  there i \n",
    "z=0\n",
    "for entry in vcf.fetch():\n",
    "    z+=1\n",
    "\n",
    "print(z)"
   ]
  },
  {
   "cell_type": "markdown",
   "metadata": {},
   "source": [
    "## 3. Now we process the prediction "
   ]
  },
  {
   "cell_type": "code",
   "execution_count": 65,
   "metadata": {},
   "outputs": [
    {
     "output_type": "stream",
     "name": "stdout",
     "text": "total 36369\ndrwxrwxr-x 2 zhuw10 root      794 Jun 12 23:07 .\ndrwxrwxr-x 5 zhuw10 root       70 Jun 12 09:57 ..\n-rw-rw-r-- 1 zhuw10 root    52385 Jun 11 18:23 dream_modified.vcf.gz\n-rw-rw-r-- 1 zhuw10 root    46117 Jun 11 18:23 dream_modified.vcf.gz.tbi\n-rw-rw-r-- 1 zhuw10 root    51675 Jun 11 16:42 dreamsmc.IS1.updateSV.truth.vcf.gz\n-rw-rw-r-- 1 zhuw10 root    46149 Jun 11 16:42 dreamsmc.IS1.updateSV.truth.vcf.gz.tbi\n-rw-rw-r-- 1 zhuw10 root   725960 Jun 11 16:46 HG002_SVs_Tier1_v0.6.bed\n-rw-rw-r-- 1 zhuw10 root 25738211 Jun 11 16:46 HG002_SVs_Tier1_v0.6.vcf.gz\n-rw-rw-r-- 1 zhuw10 root   451795 Jun 11 16:49 HG002_SVs_Tier1_v0.6.vcf.gz.tbi\n-rw-rw-r-- 1 zhuw10 root      860 Jun 12 23:07 IS1_end1.bed\n-rw-rw-r-- 1 zhuw10 root      872 Jun 12 23:07 IS1_end2.bed\n-rw-rw-r-- 1 zhuw10 root    21300 Jun 12 23:07 IS1_intra.bed\n-rw-rw-r-- 1 zhuw10 root   316935 Jun 12 23:07 IS1_orig\n-rw-rw-r-- 1 zhuw10 root     5487 Jun 12 23:07 IS2_end1.bed\n-rw-rw-r-- 1 zhuw10 root     5504 Jun 12 23:07 IS2_end2.bed\n-rw-rw-r-- 1 zhuw10 root    15488 Jun 12 23:07 IS2_intra.bed\n-rw-rw-r-- 1 zhuw10 root   299354 Jun 12 23:07 IS2_orig\n-rw-rw-r-- 1 zhuw10 root    12683 Jun 12 23:07 IS3_end1.bed\n-rw-rw-r-- 1 zhuw10 root    12602 Jun 12 23:07 IS3_end2.bed\n-rw-rw-r-- 1 zhuw10 root    53680 Jun 12 23:07 IS3_intra.bed\n-rw-rw-r-- 1 zhuw10 root   901400 Jun 12 23:07 IS3_orig\n-rw-rw-r-- 1 zhuw10 root      779 Jun 12 23:07 IS4_end1.bed\n-rw-rw-r-- 1 zhuw10 root      787 Jun 12 23:07 IS4_end2.bed\n-rw-rw-r-- 1 zhuw10 root    65731 Jun 12 23:07 IS4_intra.bed\n-rw-rw-r-- 1 zhuw10 root   903757 Jun 12 23:07 IS4_orig\n"
    }
   ],
   "source": [
    "!cp ../../test/IS1_4_new/output/compare_and_annotate/delly/bed_input/*  ../data/\n",
    "!ls -al ../data"
   ]
  },
  {
   "cell_type": "code",
   "execution_count": 78,
   "metadata": {},
   "outputs": [
    {
     "output_type": "execute_result",
     "data": {
      "text/plain": "7, 73393251, 319), Interval(76310321, 76310621, 320), Interval(80607174, 80607509, 321)]),\n             '18': IntervalTree([Interval(6289571, 6294746, 322), Interval(6289616, 6294770, 323), Interval(11981835, 11982135, 324), Interval(25269299, 25277175, 326), Interval(25269352, 25277201, 327), Interval(25981136, 25988364, 328), Interval(25981162, 25988350, 329), Interval(26686738, 26687084, 330), Interval(30594087, 30599292, 331), Interval(30594134, 30599309, 332), Interval(31654780, 31668568, 333), Interval(33026647, 33028563, 334), Interval(33738313, 33738659, 335), Interval(36514778, 36515098, 336), Interval(43529320, 43532210, 337), Interval(44702538, 44702875, 338), Interval(49938727, 49939077, 339), Interval(57292799, 57293101, 340), Interval(64796797, 64797106, 341), Interval(66168156, 66168471, 342), Interval(72863311, 72871308, 343), Interval(72863321, 72871361, 344), Interval(73870872, 73871218, 345), Interval(74334794, 74335104, 346), Interval(74835155, 74839897, 347), Interval(74835235, 74839926, 348), Interval(76494437, 76494789, 349)]),\n             '19': IntervalTree([Interval(105841, 106153, 350), Interval(735337, 735838, 351), Interval(1962744, 1963081, 352), Interval(2007825, 2008395, 353), Interval(2015016, 2015363, 354), Interval(3434953, 3435285, 355), Interval(3742363, 3742777, 356), Interval(7152136, 7152449, 357), Interval(8026860, 8034394, 358), Interval(8026918, 8034432, 359), Interval(10576341, 10576651, 360), Interval(20816339, 20816678, 362), Interval(30316118, 30316464, 363), Interval(36663259, 36663582, 364), Interval(37526283, 37526608, 365), Interval(40981462, 40981785, 366), Interval(41162845, 41164033, 367), Interval(41162869, 41164034, 368), Interval(48899164, 48900843, 370), Interval(51202938, 51203283, 371), Interval(52662444, 52665251, 372), Interval(53217902, 53218203, 373), Interval(53480531, 53480860, 374)]),\n             '2': IntervalTree([Interval(2880525, 2880864, 375), Interval(2880975, 2887293, 376), Interval(2880996, 2887325, 377), Interval(2887400, 2887752, 378), Interval(17724061, 17740031, 379), Interval(23786764, 23795384, 380), Interval(25542700, 25548414, 381), Interval(25542728, 25548469, 382), Interval(30132941, 30148353, 383), Interval(30132958, 30148367, 384), Interval(56229333, 56229633, 385), Interval(56229800, 56241943, 386), Interval(56229816, 56242003, 387), Interval(59552120, 59558919, 388), Interval(59552120, 59558975, 389), Interval(60245484, 60253977, 390), Interval(64112138, 64112480, 391), Interval(88469676, 88469994, 392), Interval(95363345, 95363688, 393), Interval(97202304, 97202607, 394), Interval(99864572, 99864873, 395), Interval(104287293, 104298766, 396), Interval(104287327, 104298797, 397), Interval(112442745, 112444251, 398), Interval(114295051, 114295351, 399), Interval(131648626, 131659493, 400), Interval(131648636, 131659408, 401), Interval(148652765, 148657002, 403), Interval(176973072, 176973394, 404), Interval(185701960, 185716899, 405), Interval(186687182, 186696657, 406), Interval(190847916, 190850561, 407), Interval(190847974, 190850572, 408), Interval(197035957, 197036367, 409), Interval(205529607, 205537830, 410), Interval(207624374, 207630343, 411), Interval(208885469, 208888011, 412), Interval(208885520, 208888076, 413), Interval(218843051, 218843360, 414), Interval(218937338, 218945380, 415), Interval(221302124, 221302460, 416), Interval(221302547, 221306040, 417), Interval(221302583, 221306132, 418), Interval(221306172, 221306476, 419), Interval(221862718, 221871123, 420), Interval(224054664, 224062207, 421), Interval(231607012, 231607343, 422), Interval(237063402, 237067486, 423), Interval(237138258, 237138578, 424), Interval(237965329, 237978367, 425), Interval(237965423, 237978358, 426), Interval(237978462, 237978803, 427)]),\n             '20': IntervalTree([Interval(7423989, 7424311, 428), Interval(17767899, 17768233, 429), Interval(31286552, 31286896, 430), Interval(37007513, 37007931, 431), Interval(47951939, 47954671, 432), Interval(51197262, 51205842, 433), Interval(51783914, 51792267, 434), Interval(52332889, 52333237, 435), Interval(54314747, 54318726, 436), Interval(54314776, 54318723, 437), Interval(54318863, 54319177, 438), Interval(54802959, 54818846, 439), Interval(59490171, 59494354, 440), Interval(62909059, 62909125, 441)]),\n             '21': IntervalTree([Interval(10027733, 10028073, 442), Interval(10169291, 10169667, 443), Interval(11132948, 11133258, 445), Interval(17508399, 17521507, 446), Interval(28241664, 28248237, 447), Interval(30759504, 30777475, 448), Interval(35074203, 35074511, 449), Interval(36833349, 36837469, 450), Interval(36833416, 36837463, 451), Interval(43375724, 43381598, 453), Interval(43381649, 43382156, 454), Interval(44996477, 45000484, 455), Interval(44996500, 45000484, 456), Interval(47736883, 47739054, 457), Interval(47736931, 47739104, 458)]),\n             '22': IntervalTree([Interval(24381634, 24381978, 459), Interval(25584791, 25585107, 460), Interval(27006095, 27006441, 461), Interval(28550276, 28550592, 462), Interval(40799034, 40808527, 463), Interval(40799087, 40808578, 464), Interval(43593140, 43594407, 465), Interval(44330214, 44330558, 466), Interval(49315276, 49315588, 468)]),\n             '3': IntervalTree([Interval(6806868, 6807208, 469), Interval(9196563, 9196864, 470), Interval(12279777, 12280084, 471), Interval(13161292, 13163045, 472), Interval(13161301, 13163106, 473), Interval(13666258, 13666569, 474), Interval(23897815, 23903832, 475), Interval(27640541, 27644011, 476), Interval(27641285, 27643722, 477), Interval(35232642, 35232953, 478), Interval(38550442, 38550775, 479), Interval(39694178, 39695715, 480), Interval(45009735, 45010049, 481), Interval(46576569, 46581143, 482), Interval(46576615, 46581130, 483), Interval(51111045, 51111349, 484), Interval(52063900, 52067598, 485), Interval(52342512, 52346350, 486), Interval(56621123, 56625127, 487), Interval(56621153, 56625158, 488), Interval(58638910, 58649120, 490), Interval(60407356, 60410986, 491), Interval(60407414, 60410982, 492), Interval(64303270, 64315267, 493), Interval(69158468, 69158781, 494), Interval(73919129, 73921217, 495), Interval(74800061, 74808331, 496), Interval(79055836, 79056172, 497), Interval(97803052, 97803375, 498), Interval(103555561, 103555889, 499), Interval(104849261, 104850588, 500), Interval(110690493, 110690843, 501), Interval(114423799, 114431932, 502), Interval(114614158, 114614496, 503), Interval(119897343, 119897688, 504), Interval(124686896, 124691231, 505), Interval(126224394, 126224747, 506), Interval(139315991, 139316317, 507), Interval(139527525, 139527825, 508), Interval(140181438, 140190681, 509), Interval(142805993, 142806406, 510), Interval(148001593, 148006890, 511), Interval(149846676, 149846979, 512), Interval(150859423, 150867156, 513), Interval(157850570, 157861308, 514), Interval(160473002, 160473419, 515), Interval(161423277, 161423612, 516), Interval(168135979, 168136298, 517), Interval(168136359, 168138624, 518), Interval(168136415, 168138700, 519), Interval(173395624, 173409834, 520), Interval(174032130, 174032463, 521), Interval(178701829, 178705896, 522), Interval(184526393, 184526695, 523), Interval(190227868, 190239464, 524), Interval(190227895, 190239567, 525), Interval(197888044, 197888358, 527)]),\n             '4': IntervalTree([Interval(8849614, 8864098, 528), Interval(10218238, 10218544, 529), Interval(15657604, 15665551, 530), Interval(21686647, 21686950, 531), Interval(29490199, 29490508, 532), Interval(29491580, 29491885, 533), Interval(30320841, 30321172, 534), Interval(39156877, 39157207, 535), Interval(44980013, 44988980, 536), Interval(45011318, 45015340, 537), Interval(45011381, 45015347, 538), Interval(48618391, 48618736, 539), Interval(49293907, 49294274, 540), Interval(60598092, 60598422, 541), Interval(60774223, 60774532, 542), Interval(60989438, 60989787, 543), Interval(62058495, 62058813, 544), Interval(62717077, 62717397, 545), Interval(68903160, 68903497, 546), Interval(69258288, 69264789, 547), Interval(69258388, 69264829, 548), Interval(70467455, 70472855, 549), Interval(75038237, 75043133, 550), Interval(80586841, 80587332, 551), Interval(81703753, 81704099, 552), Interval(91895604, 91895942, 553), Interval(92142708, 92143028, 554), Interval(94299030, 94308411, 555), Interval(96750306, 96750625, 556), Interval(100514371, 100514702, 557), Interval(111098740, 111099059, 558), Interval(112539258, 112539587, 559), Interval(112807945, 112808269, 560), Interval(114955667, 114960109, 561), Interval(116811395, 116811715, 562), Interval(117912657, 117912979, 563), Interval(118995390, 118995723, 564), Interval(125259954, 125260300, 565), Interval(134682059, 134684574, 566), Interval(137476297, 137476643, 567), Interval(141075205, 141075538, 568), Interval(144913913, 144914256, 569), Interval(156891192, 156891499, 570), Interval(159520549, 159520883, 571), Interval(165940804, 165941133, 572), Interval(166282958, 166283298, 573), Interval(166283377, 166286020, 574), Interval(174860678, 174868607, 575), Interval(174860690, 174868664, 576), Interval(177084450, 177084752, 577), Interval(177256428, 177261681, 578), Interval(180327208, 180327556, 579), Interval(180563927, 180564270, 580), Interval(184072254, 184074212, 581), Interval(184072310, 184074231, 582), Interval(184707389, 184707712, 583), Interval(188394741, 188401827, 584), Interval(188394780, 188401831, 585)]),\n             '5': IntervalTree([Interval(1574735, 1575076, 586), Interval(9345457, 9345797, 587), Interval(16232377, 16232718, 588), Interval(18381071, 18384013, 589), Interval(22295436, 22295780, 590), Interval(22684168, 22688438, 591), Interval(23195569, 23195881, 592), Interval(25778629, 25778974, 593), Interval(27320409, 27320727, 594), Interval(31772733, 31773046, 595), Interval(35240091, 35247991, 596), Interval(38418042, 38430533, 597), Interval(54584449, 54584769, 598), Interval(55317253, 55317576, 599), Interval(57407373, 57407716, 600), Interval(58372218, 58379511, 601), Interval(58837316, 58843685, 602), Interval(60653242, 60660555, 603), Interval(60653259, 60660640, 604), Interval(61819981, 61820282, 605), Interval(65030305, 65030655, 606), Interval(66447706, 66448012, 607), Interval(66910113, 66927725, 608), Interval(68901279, 68901600, 609), Interval(70676079, 70676393, 610), Interval(84898176, 84904200, 611), Interval(84898206, 84904237, 612), Interval(84965603, 84965945, 613), Interval(85359615, 85364290, 614), Interval(85359660, 85364342, 615), Interval(87389700, 87401921, 616), Interval(87389731, 87401950, 617), Interval(89601984, 89602309, 618), Interval(90333263, 90349333, 619), Interval(90333272, 90349391, 620), Interval(90671623, 90671923, 621), Interval(91067212, 91074994, 622), Interval(91067238, 91074999, 623), Interval(93015533, 93015833, 624), Interval(99861112, 99861457, 625), Interval(103455988, 103458703, 626), Interval(103455995, 103458596, 627), Interval(104532308, 104532616, 628), Interval(105794924, 105795240, 630), Interval(108339945, 108348147, 631), Interval(109534771, 109535101, 632), Interval(109577934, 109587938, 633), Interval(109577955, 109587934, 634), Interval(110594049, 110594394, 635), Interval(113518200, 113518546, 636), Interval(122920967, 122932006, 637), Interval(127044760, 127045067, 638), Interval(133101179, 133108691, 639), Interval(133948945, 133950053, 640), Interval(137514176, 137524664, 641), Interval(140352389, 140352728, 643), Interval(140352833, 140364766, 644), Interval(140352859, 140364831, 645), Interval(142141046, 142141354, 646), Interval(149049723, 149050210, 647), Interval(156648015, 156648323, 648), Interval(158009665, 158009982, 649), Interval(166908527, 166908863, 650), Interval(167379532, 167397741, 651), Interval(177154363, 177154710, 652), Interval(179041636, 179041984, 653), Interval(179730277, 179920923, 654), Interval(180674033, 180674353, 655), Interval(180708536, 180708848, 656)]),\n             '6': IntervalTree([Interval(2505674, 2510525, 657), Interval(2505705, 2510521, 658), Interval(3466975, 3470810, 659), Interval(5372502, 5372827, 660), Interval(8657138, 8659719, 661), Interval(13872049, 13872387, 662), Interval(17966610, 17966929, 663), Interval(18605651, 18605959, 664), Interval(29161149, 29161466, 666), Interval(30207813, 30208237, 667), Interval(34790395, 34790700, 668), Interval(36170074, 36170374, 669), Interval(36472860, 160521775, 670), Interval(38249056, 38249367, 671), Interval(40473715, 40474030, 672), Interval(41754574, 41754898, 673), Interval(42423548, 42423871, 674), Interval(43564819, 43566121, 675), Interval(70695621, 70695968, 677), Interval(70859416, 70871006, 678), Interval(70859420, 70871056, 679), Interval(71748582, 71748914, 680), Interval(73939533, 73939849, 681), Interval(75294867, 75295180, 682), Interval(76560085, 76560445, 683), Interval(79698568, 79698888, 684), Interval(79817196, 79817523, 685), Interval(80951194, 80953492, 686), Interval(82144416, 82179090, 687), Interval(83070491, 83076394, 688), Interval(84381736, 84382038, 689), Interval(95112691, 95113038, 690), Interval(98113304, 98113639, 691), Interval(101455901, 101456207, 692), Interval(102683754, 102684082, 693), Interval(104642451, 104642778, 694), Interval(110776367, 110776703, 695), Interval(113386890, 113387212, 696), Interval(120589507, 120589867, 697), Interval(121094556, 121097785, 698), Interval(121094580, 121097850, 699), Interval(124632089, 124642850, 700), Interval(124632121, 124642854, 701), Interval(124836865, 124837316, 702), Interval(126891863, 126896326, 703), Interval(126891894, 126896322, 704), Interval(126896463, 126896805, 705), Interval(126936330, 126939103, 706), Interval(126965704, 126966039, 707), Interval(128378538, 128378873, 708), Interval(128410921, 128411258, 709), Interval(131059894, 131060220, 710), Interval(140047700, 140048017, 711), Interval(140813884, 140814200, 712), Interval(142410520, 142410847, 713), Interval(145257030, 145272876, 714), Interval(145257037, 145272928, 715), Interval(148205983, 148206309, 716), Interval(148702433, 148702756, 717), Interval(153155380, 153155697, 718), Interval(153876887, 153877270, 719), Interval(157803746, 157815744, 720), Interval(157804920, 157805261, 721), Interval(157813114, 157813416, 722), Interval(159793798, 159804697, 723), Interval(160103698, 160104044, 724), Interval(160416772, 160417072, 725), Interval(161281162, 161287872, 726), Interval(170506227, 170506569, 727)]),\n             '7': IntervalTree([Interval(6342391, 6342716, 728), Interval(9101989, 9109143, 729), Interval(11863067, 11863383, 730), Interval(12433257, 12433589, 731), Interval(12919431, 12919756, 732), Interval(13750191, 13752252, 733), Interval(32430008, 32430308, 736), Interval(37212520, 37217460, 737), Interval(37212593, 37217455, 738), Interval(40634944, 40648496, 739), Interval(44009826, 44010141, 740), Interval(46744836, 46745150, 741), Interval(55234960, 55235314, 742), Interval(57593930, 57594307, 743), Interval(75536214, 91595468, 744), Interval(76724621, 102416559, 745), Interval(81729779, 81730117, 746), Interval(88049866, 88055725, 747), Interval(91517602, 91517958, 748), Interval(97544492, 97545943, 749), Interval(105182758, 105183060, 750), Interval(107268008, 107275661, 751), Interval(111273134, 111275757, 752), Interval(112619778, 112620100, 753), Interval(115831374, 115831682, 754), Interval(119833299, 119833605, 755), Interval(122087279, 122087590, 756), Interval(122489560, 122502804, 757), Interval(122489565, 122502724, 758), Interval(125065727, 125076118, 759), Interval(125065744, 125076174, 760), Interval(125648244, 125648593, 761), Interval(133397798, 133407633, 762), Interval(136637920, 136642603, 763), Interval(144637082, 144637406, 764), Interval(144970465, 144975653, 765), Interval(151825507, 151825814, 766), Interval(157263029, 157263369, 767)]),\n             '8': IntervalTree([Interval(181993, 182405, 768), Interval(7179681, 7180053, 770), Interval(7331128, 7331435, 771), Interval(7459872, 7460212, 772), Interval(7755604, 7755947, 773), Interval(7793247, 7793578, 774), Interval(9225029, 9225343, 775), Interval(12197241, 12197604, 776), Interval(17042352, 17042660, 777), Interval(18255913, 18258619, 778), Interval(20863305, 20863632, 780), Interval(28559805, 28560155, 781), Interval(30220467, 30220851, 782), Interval(39457080, 39457398, 783), Interval(43808012, 43808344, 784), Interval(59983703, 59991531, 785), Interval(59983720, 59991574, 786), Interval(62337464, 62337806, 787), Interval(64126601, 64126946, 788), Interval(64451262, 64458874, 789), Interval(67288490, 67288808, 790), Interval(75678703, 75679045, 791), Interval(78207138, 78207440, 792), Interval(88134191, 88140646, 793), Interval(89309906, 89319162, 794), Interval(93060912, 93065700, 795), Interval(102615416, 102615762, 796), Interval(102907593, 102907911, 797), Interval(107728556, 107728886, 798), Interval(116685067, 116695637, 799), Interval(119565773, 119566114, 800), Interval(130241256, 130253834, 801), Interval(130241274, 130253844, 802), Interval(141632346, 141632648, 803), Interval(142288356, 142288668, 804), Interval(142442783, 142443147, 805)]),\n             '9': IntervalTree([Interval(96501, 96817, 806), Interval(507268, 507634, 807), Interval(7996687, 8001889, 808), Interval(7996696, 8001719, 809), Interval(9204720, 9205118, 810), Interval(13731137, 13740143, 811), Interval(13731169, 13740173, 812), Interval(22546669, 22547040, 814), Interval(23084782, 23087711, 815), Interval(33561978, 33562294, 816), Interval(37632392, 37632694, 817), Interval(40676621, 40676943, 818), Interval(42362732, 42363045, 819), Interval(42532342, 66304897, 820), Interval(66391772, 66392112, 821), Interval(66712288, 66712599, 822), Interval(67351840, 69736590, 823), Interval(67939703, 67940015, 824), Interval(69185164, 69185484, 825), Interval(69557434, 69557783, 826), Interval(90968484, 90968810, 827), Interval(93100199, 93106274, 828), Interval(97541505, 97541816, 829), Interval(102210235, 102210535, 830), Interval(105387381, 105393193, 831), Interval(105752702, 105756239, 832), Interval(106277089, 106277418, 833), Interval(110552554, 110552866, 834), Interval(137373715, 137376154, 835), Interval(138895605, 138895953, 836)]),\n             'X': IntervalTree([Interval(85778, 86112, 970), Interval(1981880, 1982198, 971), Interval(2135331, 2135669, 972), Interval(7420701, 7426073, 974), Interval(8948900, 8964201, 975), Interval(8948904, 8964209, 976), Interval(12981732, 12982103, 977), Interval(15562327, 15568234, 978), Interval(15562367, 15568248, 979), Interval(15568341, 15568671, 980), Interval(17200831, 17219045, 981), Interval(17200896, 17219041, 982), Interval(21673261, 21673607, 983), Interval(22000181, 22000492, 984), Interval(32407529, 32407839, 985), Interval(33466766, 33467095, 986), Interval(38660940, 38661288, 987), Interval(44732011, 44732330, 988), Interval(50420633, 50430041, 990), Interval(53664468, 53664801, 991), Interval(61759285, 61837982, 992), Interval(66318365, 66318713, 993), Interval(69646453, 69646793, 994), Interval(69658370, 69658708, 995), Interval(70886001, 70888202, 996), Interval(74458022, 74460359, 998), Interval(74458032, 74460411, 999), Interval(85192513, 85192853, 1000), Interval(88551334, 88551672, 1001), Interval(88728350, 88728715, 1002), Interval(90613030, 90628053, 1003), Interval(90613043, 90628149, 1004), Interval(90898463, 90898764, 1005), Interval(91190288, 91190625, 1006), Interval(98049504, 98049849, 1007), Interval(103265358, 103277444, 1008), Interval(109015946, 109020890, 1009), Interval(110895065, 110895365, 1010), Interval(116020116, 116020446, 1011), Interval(118108714, 118109156, 1012), Interval(119595950, 119598639, 1013), Interval(124405559, 124405905, 1014), Interval(130094458, 130094775, 1015), Interval(138934388, 138934704, 1016), Interval(139585005, 139588499, 1017), Interval(141326104, 141326410, 1018), Interval(143221974, 143222275, 1020), Interval(144755851, 144756266, 1021), Interval(148864869, 148865201, 1022)])})"
     },
     "metadata": {},
     "execution_count": 78
    }
   ],
   "source": [
    "# we start with IS1_orig\n",
    "bed_input = pd.read_csv(\"../data/IS1_intra.bed\", header=None, sep=\"\\t\", names=['chrom', \"start\", \"end\", \"id\"])\n",
    "bed_input\n",
    "\n",
    "# filter out if the interval is out of the included region or too short, too long, etc\n",
    "def filter_comp_bed(bed_row, included_regs):\n",
    "    chrom, start, stop, id = bed_row\n",
    "    regs = included_regs[chrom].overlap(start, stop)\n",
    "    if len(regs)==0:\n",
    "        return False # like those GL\n",
    "    if len(regs)>1:\n",
    "        print(\"Error in: %s\" % (bed_row))\n",
    "        return False\n",
    "    if regs.pop().contains_interval(Interval(start, stop)):\n",
    "        return True\n",
    "    else:\n",
    "        return False \n",
    "\n",
    "\n",
    "\n",
    "is_selected = bed_input.apply(lambda x: filter_comp_bed(x, included_regs), axis=1)\n",
    "\n",
    "is_selected.value_counts()\n",
    "\n",
    "bed_fil = bed_input[is_selected]\n",
    "\n",
    "# make the interval tree for comp bed file\n",
    "comp_svs = defaultdict(IntervalTree)\n",
    "bed_fil.apply( lambda x: comp_svs[x[0]].addi(x[1],x[2],x[3]), axis=1)\n",
    "comp_svs"
   ]
  },
  {
   "cell_type": "code",
   "execution_count": 76,
   "metadata": {},
   "outputs": [
    {
     "output_type": "execute_result",
     "data": {
      "text/plain": "True     857\nFalse      3\ndtype: int64"
     },
     "metadata": {},
     "execution_count": 76
    }
   ],
   "source": [
    "is_selected.value_counts()"
   ]
  },
  {
   "cell_type": "code",
   "execution_count": 98,
   "metadata": {
    "tags": [
     "outputPrepend",
     "outputPrepend",
     "outputPrepend"
    ]
   },
   "outputs": [
    {
     "output_type": "stream",
     "name": "stdout",
     "text": "1 25204182 25210854 25204175 25210819 0.9947541966426858\n1 32176186 32193834 32176192 32193830 0.9994333635539437\n1 36419037 36421454 36418919 36421450 0.9533781114184117\n1 37852934 37863686 37852932 37863715 0.9971251043308912\n1 40302119 40310286 40302027 40310309 0.9861144651050471\n1 52748187 52752298 52748054 52752290 0.9686024551463644\n1 62421145 62424426 27357068 79152194 6.334572870814138e-05\n1 67068898 67075815 67068918 67075807 0.9959520023131415\n1 67694632 67698300 67694620 67698183 0.968102508178844\n1 70709636 70717682 27357068 79152194 0.00015534280194626806\n1 111418702 111426908 111418762 111426825 0.982573726541555\n1 162165374 162168815 162165380 162168792 0.991572217378669\n1 167044909 167047890 167044910 167047887 0.9986581683998658\n1 172023645 172029939 168186264 182274311 0.00044676171225152783\n1 174098254 174103055 174098278 174103122 0.986168455821635\n1 178678992 178680869 168186264 182274311 0.00013323351348842037\n1 181069590 181072820 181069580 181072842 0.9901900674432863\n1 212816043 212836430 212822776 212823211 0.021337126600284494\n1 247204800 247209976 247204803 247210001 0.995190457868411\n1 247874052 247886918 247874067 247886933 0.9988341364837556\n10 5304636 5309227 5304633 5309106 0.9736440862557177\n10 19431941 19433784 19431952 19433666 0.9300054259359739\n10 36026185 36030048 36026081 36030053 0.9725579053373615\n10 37564758 37573259 37564773 37573266 0.9982355017056816\n10 44017954 44025265 44017956 44025198 0.9905621665982766\n10 61282470 61291407 32544610 130774792 9.098018366697112e-05\n10 75225370 75229777 75225363 75229682 0.9784433855230316\n10 77154046 77175071 77153924 77175069 0.9942303144951525\n10 78239538 78247544 78239407 78247545 0.983779798476284\n10 84044870 84048559 32544610 130774792 3.755464893671886e-05\n10 87483048 87496843 87483043 87496835 0.9994200797390359\n10 116043741 116049168 116043718 116049158 0.9957720588235294\n10 120317719 120330912 120317720 120330914 0.9998484159466424\n10 120734800 120740339 32544610 130774792 5.638796434277196e-05\n10 128786549 128789548 32544610 130774792 3.053033129878554e-05\n11 1776817 1784685 1776869 1784686 0.9933909506863243\n11 5743808 5746213 5743818 5746212 0.9954261954261955\n11 23165171 23171847 23165175 23171848 0.9994008388256441\n11 24689316 24696697 24689367 24696690 0.9921419861807343\n11 27989736 27995497 27989615 27995495 0.979421768707483\n11 45013983 45016800 45013918 45016837 0.9650565262076053\n11 63409368 63410303 63409370 63410304 0.9978609625668449\n11 70251591 70256721 70251565 70256701 0.9949376947040498\n11 72636085 72641576 72636080 72641528 0.9912584228737935\n11 75337984 75347986 75337854 75347981 0.9871630295250321\n11 81567423 81573827 81567415 81573697 0.9797001873828857\n11 87024096 87037371 87031904 87032240 0.025310734463276835\n11 94813919 94820853 94813920 94820849 0.9992789154888952\n11 102004433 102007847 102004315 102007848 0.966317577129918\n11 120672918 120680300 120672742 120680295 0.9766980007943863\n12 4583207 4590794 4583272 4590787 0.9905100830367735\n12 9039201 9040849 9039221 9040745 0.9247572815533981\n12 12394139 12398323 12394156 12398345 0.9947481499164479\n12 25238068 25239487 25238067 25239490 0.9971890372452565\n12 34315130 34319740 34315137 34319721 0.9943600867678959\n12 42785236 42789815 42785270 42789832 0.9925747979908277\n12 73154347 73163768 73154348 73163788 0.9978813559322034\n12 76173250 76180400 76173263 76180270 0.98\n12 90379170 90391726 90379177 90391708 0.9980089200382287\n12 97606067 97616543 97606072 97616547 0.9995227185948835\n12 107249807 107259942 107249855 107259858 0.9869758263443512\n12 116213201 116220426 116213128 116220332 0.9869896193771627\n12 125636096 125641948 125636098 125641830 0.9794941900205059\n12 127304356 127309206 127304349 127309244 0.9908069458631257\n12 130807225 130810962 130807080 130810956 0.9625902992776058\n12 131465567 131469889 131465579 131469916 0.9937744985012682\n13 26800966 26805318 26799543 26808065 0.5106782445435344\n13 32386713 32391815 32386610 32391806 0.9801770592763664\n13 35541901 35551339 35541957 35551327 0.9927950837041746\n13 41050320 41059091 41050297 41059096 0.9968178202068417\n13 43788620 43799800 43788616 43799674 0.9887298747763864\n13 54724536 54730397 54724454 54730390 0.9861859838274932\n13 60034425 60047649 60034425 60047648 0.9999243799153055\n13 75074087 75079345 75074027 75079345 0.9887175629936066\n13 96916155 96926523 96916160 96926498 0.9971064814814815\n13 107550651 107568252 107550653 107568258 0.9996591877307583\n13 108364084 108371939 108364055 108371940 0.9961953075459734\n13 113207826 113213874 113207825 113213921 0.9921259842519685\n14 28585158 28589768 28585104 28589775 0.9869406979233569\n14 36840770 36849713 36840768 36849630 0.9907189980990719\n14 49363910 49370324 49363973 49370313 0.9884627377611475\n14 56084539 56087426 56084542 56087406 0.9920332525112574\n14 68463740 68470217 68463735 68470193 0.9962945808244558\n14 88378399 88386591 88378314 88386632 0.9848521279153643\n14 102631785 102634993 102631657 102634987 0.9615615615615616\n15 40226498 40232472 40226432 40232495 0.9853207982846776\n15 44218044 44229261 44218039 44229168 0.9917090131051083\n15 46344746 46356478 46344803 46356477 0.995056256392772\n15 72725150 72730114 72725143 72729958 0.9685737308622079\n15 73982157 73992641 73982134 73992647 0.9972415105107961\n15 76483979 76490558 76483866 76490558 0.9831141661685595\n16 25876854 25880942 25876862 25880944 0.9980430528375733\n16 50904091 50917667 50904128 50917677 0.9972746022392457\n16 66271498 66279296 66271492 66279305 0.9980801228721362\n16 69588446 69591424 69588444 69591349 0.9748153122901276\n16 70063132 70068988 70063169 70069005 0.993681693989071\n16 77811878 77812554 77811875 77812412 0.7899408284023669\n16 88961608 88968625 88961638 88968632 0.9957246686618213\n17 33210111 33226211 33210050 33226208 0.9962247802945909\n17 34024047 34027610 34024015 34027605 0.9910863509749304\n17 37481391 37482506 37481483 37482507 0.9174887892376682\n17 55319940 55324450 55319906 55324455 0.9914266871839965\n17 73390584 73393334 73390577 73393251 0.9698181818181818\n18 6289598 6294738 6289616 6294770 0.993791230112534\n18 25269343 25277173 25269352 25277201 0.9964326665817301\n18 25981164 25988356 25981162 25988350 0.9991657397107898\n18 30594102 30599307 30594087 30599292 0.9971181556195965\n18 31654770 31668620 31654780 31668568 0.9955234657039711\n18 33026688 33028514 33026647 33028563 0.9530271398747391\n18 43529409 43532201 43529320 43532210 0.9660899653979239\n18 72863326 72871302 72863311 72871308 0.9973740152557209\n18 74835223 74839907 74835235 74839926 0.9959496908974632\n19 2007923 2008394 2007825 2008395 0.8263157894736842\n19 8026910 8034398 8026918 8034432 0.995475113122172\n19 41162865 41164031 41162869 41164034 0.9965694682675815\n19 48899239 48900842 48899164 48900843 0.95473496128648\n19 52662366 52665266 52662444 52665251 0.9679310344827586\n2 2881000 2887292 2880975 2887293 0.9958847736625515\n2 17724066 17740090 17724061 17740031 0.9963180229655517\n2 23786764 23795332 23786764 23795384 0.9939675174013921\n2 25542741 25548409 25542700 25548414 0.991949597479874\n2 30132954 30148354 30132941 30148353 0.9991565014274592\n2 56229820 56241938 56229800 56241943 0.9979412006917565\n2 59552125 59558944 59552120 59558919 0.9963337732805396\n2 60245485 60254007 60245484 60253977 0.9964796996010327\n2 104287298 104298766 104287293 104298766 0.9995641941950667\n2 112442739 112444144 112442745 112444251 0.9289508632138114\n2 131648627 131659481 131648626 131659493 0.9988037176773719\n2 148652798 148656997 148652765 148657002 0.9910313901345291\n2 185701966 185716965 185701960 185716899 0.9955997066471098\n2 186687185 186696696 186687182 186696657 0.9958994848070655\n2 190847978 190850558 190847974 190850572 0.9930715935334873\n2 205529655 205537833 205529607 205537830 0.9941627143378329\n2 207624379 207630409 207624374 207630343 0.9890547263681592\n2 208885526 208888004 208885469 208888011 0.974822974036192\n2 218937341 218945480 218937338 218945380 0.9877134783142892\n2 221302583 221306030 221302547 221306040 0.986830804466075\n2 221862710 221871186 221862718 221871123 0.991623407267579\n2 224054726 224062213 224054664 224062207 0.9917804587034337\n2 237063406 237067605 237063402 237067486 0.97165991902834\n2 237965425 237978360 237965423 237978358 0.9998453807499034\n20 47951860 47954703 47951939 47954671 0.96095673584242\n20 51197249 51205864 51197262 51205842 0.995937318630296\n20 51783917 51792362 51783914 51792267 0.9887507400828893\n20 54314781 54318717 54314776 54318723 0.9972130732201672\n20 54802963 54818849 54802959 54818846 0.9997482218165796\n20 59490176 59494361 59490171 59494354 0.9983273596176822\n21 17508402 17521518 17508399 17521507 0.999161329673681\n21 28241670 28248354 28241664 28248237 0.9824955116696589\n21 30759439 30777482 30759504 30777475 0.9960095327827967\n21 36833423 36837460 36833416 36837463 0.9975290338522362\n21 43375796 43381597 43375724 43381598 0.9875723527408921\n21 44996482 45000480 44996477 45000484 0.9977539306214125\n21 47736920 47739051 47736883 47739054 0.9815753109166283\n22 40799085 40808521 40799034 40808527 0.9939955756873485\n22 43593140 43594518 43593140 43594407 0.9194484760522497\n3 13161300 13163038 13161292 13163045 0.9914432401597262\n3 23897803 23903961 23897815 23903832 0.9771029555050341\n3 27641291 27643839 27641285 27643722 0.9540816326530612\n3 39694369 39695721 39694178 39695715 0.8757319453480806\n3 46576578 46581139 46576569 46581143 0.9971578487101006\n3 52063964 52067581 52063900 52067598 0.9780962682531098\n3 52342512 52346502 52342512 52346350 0.9619047619047619\n3 56621157 56625120 56621123 56625127 0.9897602397602397\n3 58638914 58649218 58638910 58649120 0.9904891304347826\n3 60407413 60410978 60407414 60410982 0.9988789237668162\n3 64303263 64315258 64303270 64315267 0.9992498124531133\n3 73919134 73921372 73919129 73921217 0.9307417336907954\n3 74800062 74808413 74800061 74808331 0.9901808166686624\n3 104849262 104850676 104849261 104850588 0.9377652050919377\n3 114423802 114432056 114423799 114431932 0.984976980857766\n3 124686901 124691283 124686896 124691231 0.9881332724783204\n3 140181448 140190790 140181438 140190681 0.9883322628987369\n3 148001615 148006840 148001593 148006890 0.9864074004153295\n3 150859429 150867232 150859423 150867156 0.9902601563501218\n3 157850536 157861338 157850570 157861308 0.9940751712645807\n3 168136422 168138615 168136359 168138624 0.9682119205298013\n3 173395694 173409769 173395624 173409834 0.9904996481351162\n3 178701794 178705954 178701829 178705896 0.9776442307692308\n3 190227874 190239508 190227868 190239464 0.9962179817775486\n4 8849611 8864186 8849614 8864098 0.9937564322469983\n4 15657627 15665595 15657604 15665551 0.9944779116465864\n4 44980016 44989078 44980013 44988980 0.989185610240565\n4 45011375 45015338 45011381 45015347 0.9977307110438729\n4 69258348 69264791 69258388 69264829 0.9937917119354338\n4 75038232 75043179 75038237 75043133 0.9896907216494846\n4 94298976 94308409 94299030 94308411 0.9942754160924414\n4 114955672 114960174 114955667 114960109 0.9855619724566859\n4 134682237 134684578 134682059 134684574 0.9292246520874752\n4 166283431 166286011 166283377 166286020 0.9761634506242906\n4 174860691 174868644 174860690 174868664 0.9973664409330324\n4 177256395 177261756 177256428 177261681 0.9798545047565753\n4 184072294 184074217 184072310 184074231 0.9916796671866874\n4 188394768 188401836 188394780 188401831 0.9975947934352009\n5 18381069 18384066 18381071 18384013 0.9816483149816483\n5 22684185 22688415 22684168 22688438 0.990632318501171\n5 35240096 35248038 35240091 35247991 0.9940820951901285\n5 38418046 38430581 38418042 38430533 0.9961707219784603\n5 58372218 58379553 58372218 58379511 0.9942740286298568\n5 58837392 58843686 58837316 58843685 0.9880672005024337\n5 60653263 60660589 60653242 60660555 0.9953589953589954\n5 66910115 66927870 66910113 66927725 0.9918332863981977\n5 84898195 84904205 84898176 84904200 0.9968459495351926\n5 85359652 85364302 85359615 85364290 0.9920855614973262\n5 87389736 87401919 87389731 87401950 0.9970537687208446\n5 90333271 90349359 90333263 90349333 0.9983838886126305\n5 91067227 91074988 91067238 91074999 0.9985826568741142\n5 103455994 103458692 103455988 103458703 0.9937384898710866\n5 108339944 108348221 108339945 108348147 0.9909387459224357\n5 109577959 109587935 109577955 109587934 0.9995991582322878\n5 122920970 122932140 122920967 122932006 0.9880035810205908\n5 133101190 133108664 133101179 133108691 0.9949414270500533\n5 133948946 133950164 133948945 133950053 0.9088669950738916\n5 137514298 137524662 137514176 137524664 0.9881769641495042\n5 140352856 140364762 140352833 140364766 0.9977373669655577\n5 167379500 167397781 167379532 167397741 0.9960614846014988\n6 2505718 2510542 2505705 2510521 0.9956467661691543\n6 3466916 3470822 3466975 3470810 0.9818228366615463\n6 8657141 8659816 8657138 8659719 0.9637383177570094\n6 43564775 43566226 43564819 43566121 0.8973121984838043\n6 70859417 70871052 70859420 70871056 0.9996562392574768\n6 76558073 76559977 36472860 160521775 1.5348783985736593e-05\n6 80951245 80953462 80951194 80953492 0.9647519582245431\n6 83070493 83076479 83070491 83076394 0.9858002004677581\n6 90005626 90008281 36472860 160521775 2.140284741708543e-05\n6 121094583 121097800 121094556 121097785 0.9916382781046764\n6 124632120 124642850 124632121 124642854 0.9996273176185596\n6 126891892 126896319 126891894 126896322 0.9993224932249323\n6 126936436 126939081 126936330 126939103 0.9538406058420483\n6 145257034 145272935 145257037 145272928 0.9993711087352997\n6 150567706 150578885 36472860 160521775 9.011767656331376e-05\n6 157803617 157815748 157803746 157815744 0.9890363531448355\n6 159793802 159804749 159793798 159804697 0.9952498401388509\n6 161281197 161287820 161281162 161287872 0.9870342771982116\n7 9101993 9109221 9101989 9109143 0.9892086330935251\n7 13750341 13752251 13750191 13752252 0.9267345948568656\n7 37212511 37217461 37212520 37217460 0.997979797979798\n7 40634893 40648566 40634944 40648496 0.9911504424778761\n7 80069252 80072461 75536214 91595468 0.00019982248241418935\n7 88049840 88055720 88049866 88055725 0.995578231292517\n7 97544440 97545955 97544492 97545943 0.9577557755775578\n7 107267970 107275714 107268008 107275661 0.9882489669421488\n7 111273141 111275907 111273134 111275757 0.9457700650759219\n7 122489562 122502747 122489565 122502724 0.9980280621918847\n7 125065717 125076161 125065744 125076174 0.9974147836078131\n7 133397795 133407662 133397798 133407633 0.9967568663220837\n7 136637914 136642617 136637920 136642603 0.9957473952796088\n7 144970513 144975639 144970465 144975653 0.9880493446414803\n8 18256043 18258622 18255913 18258619 0.9519586104951958\n8 59983695 59991562 59983720 59991574 0.99682216855218\n8 64451353 64458873 64451262 64458874 0.9879138202837625\n8 88134193 88140705 88134191 88140646 0.9909398034398035\n8 89309867 89319234 89309906 89319162 0.988149887904345\n8 93060904 93065768 93060912 93065700 0.984375\n8 116685056 116695707 116685067 116695637 0.9923950802741527\n8 130241276 130253826 130241274 130253844 0.9984089101034208\n9 7996686 8001797 7996696 8001719 0.9827822343963999\n9 13731149 13740157 13731137 13740143 0.9984458259325044\n9 23084786 23087792 23084782 23087711 0.9730538922155688\n9 47011085 47015315 42532342 66304897 0.0001779362798824106\n9 67938550 67941483 67939703 67940015 0.10637572451414934\n9 93100189 93106374 93100199 93106274 0.9822150363783346\n9 105387261 105393202 105387381 105393193 0.9782864837569433\n9 105752734 105756162 105752702 105756239 0.9691829233813967\n9 137373715 137376257 137373715 137376154 0.9594807238394965\nX 7420706 7426123 7420701 7426073 0.9907697987816134\nX 8948897 8964204 8948900 8964201 0.9996080224733782\nX 15562367 15568225 15562367 15568248 0.9960891004931134\nX 17200882 17219039 17200896 17219041 0.9992289475133558\nX 50420625 50430103 50420633 50430041 0.9926144756277696\nX 70885939 70888208 70886001 70888202 0.9700308505949757\nX 74458035 74460351 74458022 74460359 0.9910141206675225\nX 90613041 90628050 90613030 90628053 0.9990680955867669\nX 103265254 103277448 103265358 103277444 0.9911431851730359\nX 109016053 109020901 109015946 109020890 0.9783576051779935\nX 119595996 119598596 119595950 119598639 0.9669021941242097\nX 139585001 139588560 139585005 139588499 0.9817364428210171\n92 277\n"
    }
   ],
   "source": [
    "# Now start to check eash entry in base vcf to make sure whether there is a match or not.\n",
    "def fetch_coords(lookup, entry, dist=500):\n",
    "    ''' \n",
    "     \n",
    "    Get the minimum/maximum fetch coordinates to find all variants within dist of variant\n",
    "    \n",
    "    similar to fetch_coords defined in truvari\n",
    "    see https://github.com/spiralgenetics/truvari/blob/e84804b20214775ba625819568e74a1920c99a06/truvari/comparisons.py#L159\n",
    "    '''\n",
    "    start, end = entry.start, entry.stop\n",
    "    start -= dist\n",
    "    end += dist\n",
    "    # Membership queries are fastest O(1)\n",
    "    if not lookup[entry.chrom].overlaps(start, end):\n",
    "        return None, None\n",
    "\n",
    "    cand_intervals = lookup[entry.chrom].overlap(start, end)\n",
    "    s_ret = min([x.begin for x in cand_intervals if x.overlaps(start, end)])\n",
    "    e_ret = max([x.end for x in cand_intervals if x.overlaps(start, end)])\n",
    "    return s_ret, e_ret\n",
    "\n",
    "MATCHRES = namedtuple(\"matchresult\", (\"base\", \"comp\", \"ovl_pct\"))\n",
    "\n",
    "def reciprocal_overlap(astart, aend, bstart, bend):\n",
    "    \"\"\"\n",
    "    creates a reciprocal overlap rule for matching two entries. Returns a method that can be used as a match operator\n",
    "    \"\"\"\n",
    "    ovl_start = max(astart, bstart)\n",
    "    ovl_end = min(aend, bend)\n",
    "    if ovl_start < ovl_end:  # Otherwise, they're not overlapping\n",
    "        ovl_pct = float(ovl_end - ovl_start) / max(aend - astart, bend - bstart)\n",
    "    else:\n",
    "        ovl_pct = 0\n",
    "    return ovl_pct\n",
    "\n",
    "def get_match(entry, interval, pad=100):\n",
    "    '''\n",
    "    compare the base entry and the comp call\n",
    "    return None if there is no match \n",
    "    and the match information, metrics otherwise\n",
    "\n",
    "    similar to match_calls() in truvari\n",
    "    '''\n",
    "    if not interval.overlaps(entry.start-pad, entry.stop+pad):\n",
    "        return None\n",
    "\n",
    "    #print(dir(interval))\n",
    "    # ovs = interval.overlap_size(entry.start, entry.stop)\n",
    "    ovl_pct = reciprocal_overlap(entry.start, entry.stop, interval.begin, interval.end)\n",
    "    return MATCHRES(entry, interval, ovl_pct)\n",
    "\n",
    "fn=0\n",
    "tp=0\n",
    "for entry in vcf.fetch():\n",
    "    if not filter_base_entry(entry, included_regs) :\n",
    "        continue\n",
    "\n",
    "    \n",
    "    fetch_start, fetch_end = fetch_coords(comp_svs, entry)\n",
    "    if fetch_start is None and fetch_end is None:\n",
    "        # print(\"FN: \", entry)\n",
    "        fn+=1\n",
    "        continue\n",
    "\n",
    "    mats = []\n",
    "    # now get the matched calls from the given region\n",
    "    for comp_sv in comp_svs[entry.chrom].overlap(fetch_start, fetch_end):\n",
    "        mat = get_match(entry, comp_sv)\n",
    "        if mat is None:\n",
    "            continue\n",
    "\n",
    "        # print(mat.base.chrom, mat.base.start, mat.base.stop, mat.comp.begin, mat.comp.end, mat.ovl_pct)\n",
    "        mats.append(mat)\n",
    "\n",
    "    # select the best match\n",
    "    if len(mats)>0:\n",
    "        mats.sort(reverse=True, key=lambda x:x.ovl_pct)\n",
    "        mat = mats[0]\n",
    "        print(mat.base.chrom, mat.base.start, mat.base.stop, mat.comp.begin, mat.comp.end, mat.ovl_pct)\n",
    "        tp+=1\n",
    "\n",
    "print(fn,tp)\n"
   ]
  },
  {
   "cell_type": "code",
   "execution_count": 87,
   "metadata": {},
   "outputs": [
    {
     "output_type": "error",
     "ename": "NameError",
     "evalue": "name 'cand_intervals' is not defined",
     "traceback": [
      "\u001b[0;31m---------------------------------------------------------------------------\u001b[0m",
      "\u001b[0;31mNameError\u001b[0m                                 Traceback (most recent call last)",
      "\u001b[0;32m<ipython-input-87-fe9ef0353d9f>\u001b[0m in \u001b[0;36m<module>\u001b[0;34m\u001b[0m\n\u001b[0;32m----> 1\u001b[0;31m \u001b[0mcand_intervals\u001b[0m\u001b[0;34m[\u001b[0m\u001b[0;36m0\u001b[0m\u001b[0;34m]\u001b[0m\u001b[0;34m\u001b[0m\u001b[0;34m\u001b[0m\u001b[0m\n\u001b[0m",
      "\u001b[0;31mNameError\u001b[0m: name 'cand_intervals' is not defined"
     ]
    }
   ],
   "source": []
  },
  {
   "cell_type": "markdown",
   "metadata": {},
   "source": [
    "# Now process the GIAB vcf file\n"
   ]
  },
  {
   "cell_type": "code",
   "execution_count": 19,
   "metadata": {},
   "outputs": [],
   "source": [
    "import pysam\n",
    "import os\n",
    "import sys\n",
    "\n",
    "os.chdir(\"/home/zhuw10/CL/SV/prj_bench/notebooks\" )\n",
    "giab_fn = \"../data/HG002_SVs_Tier1_v0.6.vcf.gz\"\n",
    "giab_vcf = pysam.VariantFile(giab_fn)"
   ]
  },
  {
   "cell_type": "code",
   "execution_count": null,
   "metadata": {},
   "outputs": [],
   "source": []
  },
  {
   "cell_type": "code",
   "execution_count": 24,
   "metadata": {
    "tags": [
     "outputPrepend",
     "outputPrepend",
     "outputPrepend",
     "outputPrepend",
     "outputPrepend",
     "outputPrepend",
     "outputPrepend",
     "outputPrepend",
     "outputPrepend",
     "outputPrepend",
     "outputPrepend",
     "outputPrepend",
     "outputPrepend",
     "outputPrepend",
     "outputPrepend",
     "outputPrepend",
     "outputPrepend",
     "outputPrepend",
     "outputPrepend",
     "outputPrepend",
     "outputPrepend",
     "outputPrepend",
     "outputPrepend",
     "outputPrepend",
     "outputPrepend",
     "outputPrepend",
     "outputPrepend",
     "outputPrepend",
     "outputPrepend",
     "outputPrepend",
     "outputPrepend",
     "outputPrepend",
     "outputPrepend",
     "outputPrepend",
     "outputPrepend",
     "outputPrepend",
     "outputPrepend",
     "outputPrepend",
     "outputPrepend",
     "outputPrepend",
     "outputPrepend",
     "outputPrepend",
     "outputPrepend",
     "outputPrepend",
     "outputPrepend",
     "outputPrepend",
     "outputPrepend",
     "outputPrepend",
     "outputPrepend",
     "outputPrepend",
     "outputPrepend",
     "outputPrepend",
     "outputPrepend",
     "outputPrepend",
     "outputPrepend",
     "outputPrepend",
     "outputPrepend",
     "outputPrepend",
     "outputPrepend",
     "outputPrepend",
     "outputPrepend",
     "outputPrepend",
     "outputPrepend",
     "outputPrepend",
     "outputPrepend",
     "outputPrepend",
     "outputPrepend",
     "outputPrepend",
     "outputPrepend",
     "outputPrepend",
     "outputPrepend",
     "outputPrepend",
     "outputPrepend",
     "outputPrepend",
     "outputPrepend",
     "outputPrepend",
     "outputPrepend",
     "outputPrepend",
     "outputPrepend",
     "outputPrepend",
     "outputPrepend",
     "outputPrepend",
     "outputPrepend",
     "outputPrepend",
     "outputPrepend"
    ]
   },
   "outputs": [
    {
     "output_type": "stream",
     "name": "stdout",
     "text": "DEL\n"
    },
    {
     "output_type": "error",
     "ename": "SystemExit",
     "evalue": "",
     "traceback": [
      "An exception has occurred, use %tb to see the full traceback.\n",
      "\u001b[0;31mSystemExit\u001b[0m\n"
     ]
    }
   ],
   "source": [
    "for entry in giab_vcf.fetch():\n",
    "    if \"SVTYPE\" in entry.info:\n",
    "        print(entry.info[\"SVTYPE\"])\n",
    "    sys.exit()"
   ]
  },
  {
   "cell_type": "code",
   "execution_count": null,
   "metadata": {},
   "outputs": [],
   "source": []
  },
  {
   "cell_type": "code",
   "execution_count": null,
   "metadata": {},
   "outputs": [],
   "source": []
  },
  {
   "cell_type": "code",
   "execution_count": null,
   "metadata": {},
   "outputs": [],
   "source": []
  }
 ],
 "metadata": {
  "language_info": {
   "codemirror_mode": {
    "name": "ipython",
    "version": 3
   },
   "file_extension": ".py",
   "mimetype": "text/x-python",
   "name": "python",
   "nbconvert_exporter": "python",
   "pygments_lexer": "ipython3",
   "version": "3.7.6-final"
  },
  "orig_nbformat": 2,
  "kernelspec": {
   "name": "python3",
   "display_name": "Python 3"
  }
 },
 "nbformat": 4,
 "nbformat_minor": 2
}