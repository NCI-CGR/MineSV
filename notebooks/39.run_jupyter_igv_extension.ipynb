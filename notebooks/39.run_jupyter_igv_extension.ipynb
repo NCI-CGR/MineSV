{
 "cells": [
  {
   "cell_type": "markdown",
   "metadata": {
    "tags": []
   },
   "source": [
    "# Introduction\n",
    "I would like to install IGV jupyter extension here.  https://github.com/igvteam/igv-jupyter#igvjs-jupyter-extension "
   ]
  },
  {
   "cell_type": "code",
   "execution_count": 1,
   "metadata": {
    "tags": []
   },
   "outputs": [],
   "source": [
    "# ! pip install igv-jupyter\n",
    "\n",
    "# # To install to configuration in your home directory\n",
    "# ! jupyter serverextension enable --py igv\n",
    "# ! jupyter nbextension install --py igv\n",
    "# ! jupyter nbextension enable --py igv"
   ]
  },
  {
   "cell_type": "code",
   "execution_count": 2,
   "metadata": {
    "tags": []
   },
   "outputs": [],
   "source": [
    "# using a virtual environment\n",
    "# !jupyter serverextension enable --py igv --sys-prefix\n",
    "# !jupyter nbextension install --py igv --sys-prefix\n",
    "# !jupyter nbextension enable --py igv --sys-prefix"
   ]
  },
  {
   "cell_type": "code",
   "execution_count": 3,
   "metadata": {},
   "outputs": [],
   "source": [
    "import igv\n",
    "\n",
    "b = igv.Browser({\"genome\": \"hg19\"})"
   ]
  },
  {
   "cell_type": "code",
   "execution_count": 4,
   "metadata": {},
   "outputs": [
    {
     "data": {
      "text/html": [
       "<div id=\"igv_3822549\"></div>"
      ],
      "text/plain": [
       "<IPython.core.display.HTML object>"
      ]
     },
     "metadata": {},
     "output_type": "display_data"
    }
   ],
   "source": [
    "b.show()"
   ]
  },
  {
   "cell_type": "code",
   "execution_count": 5,
   "metadata": {},
   "outputs": [],
   "source": [
    "b.load_track(\n",
    "    {\n",
    "        \"name\": \"Segmented CN\",\n",
    "        \"url\": \"https://data.broadinstitute.org/igvdata/test/igv-web/segmented_data_080520.seg.gz\",\n",
    "        \"format\": \"seg\",\n",
    "        \"indexed\": False\n",
    "    })"
   ]
  },
  {
   "cell_type": "code",
   "execution_count": 6,
   "metadata": {},
   "outputs": [],
   "source": [
    "b.search('chr1:3000-40000')"
   ]
  },
  {
   "cell_type": "code",
   "execution_count": null,
   "metadata": {},
   "outputs": [],
   "source": []
  },
  {
   "cell_type": "code",
   "execution_count": null,
   "metadata": {},
   "outputs": [],
   "source": []
  }
 ],
 "metadata": {
  "kernelspec": {
   "display_name": "Python 3",
   "language": "python",
   "name": "python3"
  },
  "language_info": {
   "codemirror_mode": {
    "name": "ipython",
    "version": 3
   },
   "file_extension": ".py",
   "mimetype": "text/x-python",
   "name": "python",
   "nbconvert_exporter": "python",
   "pygments_lexer": "ipython3",
   "version": "3.7.6"
  }
 },
 "nbformat": 4,
 "nbformat_minor": 2
}
