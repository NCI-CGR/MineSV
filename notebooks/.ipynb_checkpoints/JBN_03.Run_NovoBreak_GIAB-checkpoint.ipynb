{
 "cells": [
  {
   "cell_type": "markdown",
   "metadata": {},
   "source": [
    "# Run novoBreak on Germline call\n",
    "## Introduction\n",
    "I need synthesize the NGS reads first. \n",
    "\n",
    "Note that the benchmark test result is from the file ../../test/2x250_bwa_germline2/output/compare_and_annotate/intrachromosomal_SVs_AJ_2x250_son\n",
    "\n",
    "And the reference genome is: ../../../GIAB/data/refGenomes/genome.fasta\n",
    "and bam files: inDir: '../../../GIAB/data/bam\n",
    "as specified in the file: ../../test/2x250_bwa_germline2/config.yaml\n"
   ]
  },
  {
   "cell_type": "code",
   "execution_count": 1,
   "metadata": {},
   "outputs": [
    {
     "name": "stdout",
     "output_type": "stream",
     "text": [
      "\n",
      "Program: wgsim (short read simulator)\n",
      "Version: 0.3.2\n",
      "Contact: Heng Li <lh3@sanger.ac.uk>\n",
      "\n",
      "Usage:   wgsim [options] <in.ref.fa> <out.read1.fq> <out.read2.fq>\n",
      "\n",
      "Options: -e FLOAT      base error rate [0.020]\n",
      "         -d INT        outer distance between the two ends [500]\n",
      "         -s INT        standard deviation [50]\n",
      "         -N INT        number of read pairs [1000000]\n",
      "         -1 INT        length of the first read [70]\n",
      "         -2 INT        length of the second read [70]\n",
      "         -r FLOAT      rate of mutations [0.0010]\n",
      "         -R FLOAT      fraction of indels [0.15]\n",
      "         -X FLOAT      probability an indel is extended [0.30]\n",
      "         -S INT        seed for random generator [0, use the current time]\n",
      "         -A FLOAT      discard if the fraction of ambiguous bases higher than FLOAT [0.05]\n",
      "         -h            haplotype mode\n",
      "\n",
      "~/miniconda3/bin/wgsim\n"
     ]
    }
   ],
   "source": [
    "wgsim\n",
    "which wgsim"
   ]
  },
  {
   "cell_type": "code",
   "execution_count": 2,
   "metadata": {},
   "outputs": [
    {
     "name": "stdout",
     "output_type": "stream",
     "text": [
      "1\t249250621\t56\t60\t61\n",
      "10\t135534747\t253404913\t60\t61\n",
      "11\t135006516\t391198631\t60\t61\n",
      "12\t133851895\t528455314\t60\t61\n",
      "13\t115169878\t664538132\t60\t61\n",
      "14\t107349540\t781627566\t60\t61\n",
      "15\t102531392\t890766323\t60\t61\n",
      "16\t90354753\t995006629\t60\t61\n",
      "17\t81195210\t1086867352\t60\t61\n",
      "18\t78077248\t1169415873\t60\t61\n",
      "19\t59128983\t1248794466\t60\t61\n",
      "2\t243199373\t1308908989\t60\t61\n",
      "20\t63025520\t1556161742\t60\t61\n",
      "21\t48129895\t1620237745\t60\t61\n",
      "22\t51304566\t1669169862\t60\t61\n",
      "3\t198022430\t1721329561\t60\t61\n",
      "4\t191154276\t1922652421\t60\t61\n",
      "5\t180915260\t2116992658\t60\t61\n",
      "6\t171115067\t2300923229\t60\t61\n",
      "7\t159138663\t2474890270\t60\t61\n",
      "8\t146364022\t2636681301\t60\t61\n",
      "9\t141213431\t2785484780\t60\t61\n",
      "MT\t16569\t2929051823\t60\t61\n",
      "X\t155270560\t2929068725\t60\t61\n",
      "Y\t59373566\t3086927189\t60\t61\n",
      "GL000192.1\t547496\t3147290388\t60\t61\n",
      "GL000225.1\t211173\t3147847082\t60\t61\n",
      "GL000194.1\t191469\t3148061848\t60\t61\n",
      "GL000193.1\t189789\t3148256582\t60\t61\n",
      "GL000200.1\t187035\t3148449608\t60\t61\n",
      "GL000222.1\t186861\t3148639834\t60\t61\n",
      "GL000212.1\t186858\t3148829883\t60\t61\n",
      "GL000195.1\t182896\t3149019929\t60\t61\n",
      "GL000223.1\t180455\t3149205947\t60\t61\n",
      "GL000224.1\t179693\t3149389483\t60\t61\n",
      "GL000219.1\t179198\t3149572244\t60\t61\n",
      "GL000205.1\t174588\t3149754502\t60\t61\n",
      "GL000215.1\t172545\t3149932073\t60\t61\n",
      "GL000216.1\t172294\t3150107567\t60\t61\n",
      "GL000217.1\t172149\t3150282806\t60\t61\n",
      "GL000199.1\t169874\t3150457898\t60\t61\n",
      "GL000211.1\t166566\t3150630677\t60\t61\n",
      "GL000213.1\t164239\t3150800093\t60\t61\n",
      "GL000220.1\t161802\t3150967143\t60\t61\n",
      "GL000218.1\t161147\t3151131715\t60\t61\n",
      "GL000209.1\t159169\t3151295621\t60\t61\n",
      "GL000221.1\t155397\t3151457516\t60\t61\n",
      "GL000214.1\t137718\t3151615576\t60\t61\n",
      "GL000228.1\t129120\t3151755663\t60\t61\n",
      "GL000227.1\t128374\t3151887008\t60\t61\n",
      "GL000191.1\t106433\t3152017595\t60\t61\n",
      "GL000208.1\t92689\t3152125874\t60\t61\n",
      "GL000198.1\t90085\t3152220180\t60\t61\n",
      "GL000204.1\t81310\t3152311839\t60\t61\n",
      "GL000233.1\t45941\t3152394577\t60\t61\n",
      "GL000237.1\t45867\t3152441356\t60\t61\n",
      "GL000230.1\t43691\t3152488060\t60\t61\n",
      "GL000242.1\t43523\t3152532552\t60\t61\n",
      "GL000243.1\t43341\t3152576873\t60\t61\n",
      "GL000241.1\t42152\t3152621009\t60\t61\n",
      "GL000236.1\t41934\t3152663936\t60\t61\n",
      "GL000240.1\t41933\t3152706641\t60\t61\n",
      "GL000206.1\t41001\t3152749345\t60\t61\n",
      "GL000232.1\t40652\t3152791102\t60\t61\n",
      "GL000234.1\t40531\t3152832504\t60\t61\n",
      "GL000202.1\t40103\t3152873783\t60\t61\n",
      "GL000238.1\t39939\t3152914627\t60\t61\n",
      "GL000244.1\t39929\t3152955304\t60\t61\n",
      "GL000248.1\t39786\t3152995971\t60\t61\n",
      "GL000196.1\t38914\t3153036493\t60\t61\n",
      "GL000249.1\t38502\t3153076128\t60\t61\n",
      "GL000246.1\t38154\t3153115344\t60\t61\n",
      "GL000203.1\t37498\t3153154206\t60\t61\n",
      "GL000197.1\t37175\t3153192401\t60\t61\n",
      "GL000245.1\t36651\t3153230268\t60\t61\n",
      "GL000247.1\t36422\t3153267602\t60\t61\n",
      "GL000201.1\t36148\t3153304704\t60\t61\n",
      "GL000235.1\t34474\t3153341527\t60\t61\n",
      "GL000239.1\t33824\t3153376648\t60\t61\n",
      "GL000210.1\t27682\t3153411108\t60\t61\n",
      "GL000231.1\t27386\t3153439324\t60\t61\n",
      "GL000229.1\t19913\t3153467239\t60\t61\n",
      "GL000226.1\t15008\t3153487556\t60\t61\n",
      "GL000207.1\t4262\t3153502886\t60\t61\n"
     ]
    }
   ],
   "source": [
    "# double check the reference genome \n",
    "cat ../../../GIAB/data/refGenomes/genome.fasta.fai"
   ]
  },
  {
   "cell_type": "code",
   "execution_count": 15,
   "metadata": {},
   "outputs": [
    {
     "name": "stdout",
     "output_type": "stream",
     "text": [
      "[wgsim] seed = 1601324593\n",
      "[wgsim_core] calculating the total length of the reference sequence...\n",
      "[wgsim_core] 84 sequences, total length: 3101804739\n"
     ]
    }
   ],
   "source": [
    "module load bgzip\n",
    "cd /mnt/nfs/gigantor/ifs/DCEG/Projects/CoherentLogic/SV/mocca-new-callers/novoBreak_test/GIAB\n",
    "# 2x100bp x 1M reads = 0.2G\n",
    "# 200x300M = 60G so we need to choose -N 30M  \n",
    "# default -N 1000000 is not enough\n",
    "# wgsim -e 0.001 -1 100 -2 100 -r 0 ~/CL/GIAB/data/refGenomes/genome.fasta normal.read1.fq normal.read2.fq\n",
    "wgsim -e 0.001 -1 100 -2 100 -N 300000000 -r 0 ~/CL/GIAB/data/refGenomes/genome.fasta >(bgzip -c > normal.read1.fq.gz)  >(bgzip -c > normal.read2.fq.gz)"
   ]
  },
  {
   "cell_type": "code",
   "execution_count": 17,
   "metadata": {},
   "outputs": [
    {
     "name": "stdout",
     "output_type": "stream",
     "text": [
      "/mnt/nfs/gigantor/ifs/DCEG/Projects/CoherentLogic/SV/mocca-new-callers/novoBreak_test/GIAB\n"
     ]
    }
   ],
   "source": [
    "pwd"
   ]
  },
  {
   "cell_type": "code",
   "execution_count": null,
   "metadata": {},
   "outputs": [],
   "source": [
    "# bwa align them\n",
    "module load bwa\n",
    "bwa mem -t 8 -R \"@RG\\tID:wgsim_normal\\tLB:wgsim_normal\\tSM:wgsim_normal\\tPL:ILLUMINA\\tPI:500\" ~/CL/GIAB/data/refGenomes/genome.fasta normal.read1.fq.gz normal.read2.fq.gz | samtools sort -@8 -o normal.bam -\n",
    "# samtools view -Sb - > normal.bam\n",
    "# | samtools sort -@8 -o normal.bam -"
   ]
  },
  {
   "cell_type": "markdown",
   "metadata": {},
   "source": [
    "## Run on novoBreak"
   ]
  },
  {
   "cell_type": "code",
   "execution_count": null,
   "metadata": {},
   "outputs": [
    {
     "name": "stdout",
     "output_type": "stream",
     "text": [
      "[Fri Sep 11 11:09:32 2020]\n",
      "Building reference kmer...\n",
      "Calculating number of paired reads ...\n",
      "[fillin_bitvec] processed  879759728 reads\n",
      "There are 4566546664 reference kmers and 5123741698 non-reference kmers\n",
      "Finished reference kmer building\n",
      "[Fri Sep 11 14:05:30 2020]\n",
      "Freed reference hash and begin building reads hash table...\n",
      "[Fri Sep 11 14:05:30 2020]\n",
      "[main_samview] region \"NC_007605:17750-18750\" specifies an unknown reference name. Continue anyway.\n",
      "[main_samview] region \"NC_007605:17750-18750\" specifies an unknown reference name. Continue anyway.\n",
      "[main_samview] region \"NC_007605:96179-97179\" specifies an unknown reference name. Continue anyway.\n",
      "[main_samview] region \"NC_007605:96179-97179\" specifies an unknown reference name. Continue anyway.\n",
      "[build_readshash] processed  879759728 reads\n",
      "[Fri Sep 11 15:34:07 2020]\n",
      " 65419153 kmers loaded\n",
      "\n",
      "[Fri Sep 11 15:34:07 2020]\n",
      "Calculating kmers from control...\n",
      "[cal_ctrl_kmers] processed   60000000 reads\n",
      "[Fri Sep 11 15:48:17 2020]\n",
      "Loading sequences...\n",
      "[Fri Sep 11 17:23:03 2020]55264 reads\n",
      "Remove duplicate sequences...\n",
      "[Fri Sep 11 19:13:29 2020]55264 reads\n",
      "\n",
      "65256487 kmers passed the minimum frequency cutoff in tumor (3) and maximum frequency cutoff in normal (3)\n",
      "Program exit normally\n",
      "[bam_sort_core] merging from 80 files...\n",
      "[M::bam2fq_mainloop] processed 54503072 reads\n",
      "begin kmer2id ...\n",
      "kmer2id takes 313 seconds\n",
      "begin id2pair...\n",
      "[main_samview] region \"NC_007605:73514-74514\" specifies an unknown reference name. Continue anyway.\n",
      "[main_samview] region \"NC_007605:73514-74514\" specifies an unknown reference name. Continue anyway.\n",
      "[main_samview] region \"NC_007605:35969-36969\" specifies an unknown reference name. Continue anyway.\n",
      "[main_samview] region \"NC_007605:35969-36969\" specifies an unknown reference name. Continue anyway.\n",
      "id2pair takes 42596 seconds\n",
      "begin sorting ids...\n",
      "sorting ids takes 1196 seconds\n",
      "begin output results...\n",
      "Outputting results takes 308 seconds\n",
      "Finished\n",
      "0.txt\n",
      "10.txt\n",
      "11.txt\n",
      "12.txt\n",
      "13.txt\n",
      "14.txt\n",
      "15.txt\n",
      "1.txt\n",
      "2.txt\n",
      "3.txt\n",
      "4.txt\n",
      "5.txt\n",
      "6.txt\n",
      "7.txt\n",
      "8.txt\n",
      "9.txt\n",
      "[main_samview] region \"NC_007605:95637-96637\" specifies an unknown reference name. Continue anyway.\n",
      "[main_samview] region \"NC_007605:95637-96637\" specifies an unknown reference name. Continue anyway.\n",
      "[main_samview] region \"NC_007605:95637-96637\" specifies an unknown reference name. Continue anyway.\n",
      "[main_samview] region \"NC_007605:95637-96637\" specifies an unknown reference name. Continue anyway.\n",
      "[main_samview] region \"NC_007605:-499-501\" specifies an unknown reference name. Continue anyway.\n",
      "[main_samview] region \"NC_007605:-499-501\" specifies an unknown reference name. Continue anyway.\n",
      "[main_samview] region \"NC_007605:171322-172322\" specifies an unknown reference name. Continue anyway.\n",
      "[main_samview] region \"NC_007605:171322-172322\" specifies an unknown reference name. Continue anyway.\n",
      "[main_samview] region \"NC_007605:6951-7951\" specifies an unknown reference name. Continue anyway.\n",
      "[main_samview] region \"NC_007605:6951-7951\" specifies an unknown reference name. Continue anyway.\n",
      "[main_samview] region \"NC_007605:7512-8512\" specifies an unknown reference name. Continue anyway.\n",
      "[main_samview] region \"NC_007605:7512-8512\" specifies an unknown reference name. Continue anyway.\n",
      "[main_samview] region \"NC_007605:6975-7975\" specifies an unknown reference name. Continue anyway.\n",
      "[main_samview] region \"NC_007605:6975-7975\" specifies an unknown reference name. Continue anyway.\n",
      "[main_samview] region \"NC_007605:7342-8342\" specifies an unknown reference name. Continue anyway.\n",
      "[main_samview] region \"NC_007605:7342-8342\" specifies an unknown reference name. Continue anyway.\n",
      "[main_samview] region \"NC_007605:6981-7981\" specifies an unknown reference name. Continue anyway.\n",
      "[main_samview] region \"NC_007605:6981-7981\" specifies an unknown reference name. Continue anyway.\n",
      "[main_samview] region \"NC_007605:7514-8514\" specifies an unknown reference name. Continue anyway.\n",
      "[main_samview] region \"NC_007605:7514-8514\" specifies an unknown reference name. Continue anyway.\n",
      "[main_samview] region \"NC_007605:6984-7984\" specifies an unknown reference name. Continue anyway.\n",
      "[main_samview] region \"NC_007605:6984-7984\" specifies an unknown reference name. Continue anyway.\n",
      "[main_samview] region \"NC_007605:7108-8108\" specifies an unknown reference name. Continue anyway.\n",
      "[main_samview] region \"NC_007605:7108-8108\" specifies an unknown reference name. Continue anyway.\n",
      "[main_samview] region \"NC_007605:6993-7993\" specifies an unknown reference name. Continue anyway.\n",
      "[main_samview] region \"NC_007605:6993-7993\" specifies an unknown reference name. Continue anyway.\n",
      "[main_samview] region \"NC_007605:7532-8532\" specifies an unknown reference name. Continue anyway.\n",
      "[main_samview] region \"NC_007605:7532-8532\" specifies an unknown reference name. Continue anyway.\n",
      "[main_samview] region \"NC_007605:7001-8001\" specifies an unknown reference name. Continue anyway.\n",
      "[main_samview] region \"NC_007605:7001-8001\" specifies an unknown reference name. Continue anyway.\n",
      "[main_samview] region \"NC_007605:7166-8166\" specifies an unknown reference name. Continue anyway.\n",
      "[main_samview] region \"NC_007605:7166-8166\" specifies an unknown reference name. Continue anyway.\n",
      "[main_samview] region \"NC_007605:7004-8004\" specifies an unknown reference name. Continue anyway.\n",
      "[main_samview] region \"NC_007605:7004-8004\" specifies an unknown reference name. Continue anyway.\n",
      "[main_samview] region \"NC_007605:7372-8372\" specifies an unknown reference name. Continue anyway.\n",
      "[main_samview] region \"NC_007605:7372-8372\" specifies an unknown reference name. Continue anyway.\n",
      "[main_samview] region \"NC_007605:7016-8016\" specifies an unknown reference name. Continue anyway.\n",
      "[main_samview] region \"NC_007605:7016-8016\" specifies an unknown reference name. Continue anyway.\n",
      "[main_samview] region \"NC_007605:7326-8326\" specifies an unknown reference name. Continue anyway.\n",
      "[main_samview] region \"NC_007605:7326-8326\" specifies an unknown reference name. Continue anyway.\n",
      "[main_samview] region \"NC_007605:7021-8021\" specifies an unknown reference name. Continue anyway.\n",
      "[main_samview] region \"NC_007605:7021-8021\" specifies an unknown reference name. Continue anyway.\n",
      "[main_samview] region \"NC_007605:7521-8521\" specifies an unknown reference name. Continue anyway.\n",
      "[main_samview] region \"NC_007605:7521-8521\" specifies an unknown reference name. Continue anyway.\n",
      "[main_samview] region \"NC_007605:7041-8041\" specifies an unknown reference name. Continue anyway.\n",
      "[main_samview] region \"NC_007605:7041-8041\" specifies an unknown reference name. Continue anyway.\n",
      "[main_samview] region \"NC_007605:7512-8512\" specifies an unknown reference name. Continue anyway.\n",
      "[main_samview] region \"NC_007605:7512-8512\" specifies an unknown reference name. Continue anyway.\n",
      "[main_samview] region \"NC_007605:7111-8111\" specifies an unknown reference name. Continue anyway.\n",
      "[main_samview] region \"NC_007605:7111-8111\" specifies an unknown reference name. Continue anyway.\n",
      "[main_samview] region \"NC_007605:7521-8521\" specifies an unknown reference name. Continue anyway.\n",
      "[main_samview] region \"NC_007605:7521-8521\" specifies an unknown reference name. Continue anyway.\n",
      "[main_samview] region \"NC_007605:7166-8166\" specifies an unknown reference name. Continue anyway.\n",
      "[main_samview] region \"NC_007605:7166-8166\" specifies an unknown reference name. Continue anyway.\n",
      "[main_samview] region \"NC_007605:7327-8327\" specifies an unknown reference name. Continue anyway.\n",
      "[main_samview] region \"NC_007605:7327-8327\" specifies an unknown reference name. Continue anyway.\n",
      "[main_samview] region \"NC_007605:7196-8196\" specifies an unknown reference name. Continue anyway.\n",
      "[main_samview] region \"NC_007605:7196-8196\" specifies an unknown reference name. Continue anyway.\n",
      "[main_samview] region \"NC_007605:7512-8512\" specifies an unknown reference name. Continue anyway.\n",
      "[main_samview] region \"NC_007605:7512-8512\" specifies an unknown reference name. Continue anyway.\n",
      "[main_samview] region \"NC_007605:7224-8224\" specifies an unknown reference name. Continue anyway.\n",
      "[main_samview] region \"NC_007605:7224-8224\" specifies an unknown reference name. Continue anyway.\n",
      "[main_samview] region \"NC_007605:7512-8512\" specifies an unknown reference name. Continue anyway.\n",
      "[main_samview] region \"NC_007605:7512-8512\" specifies an unknown reference name. Continue anyway.\n",
      "[main_samview] region \"NC_007605:7328-8328\" specifies an unknown reference name. Continue anyway.\n",
      "[main_samview] region \"NC_007605:7328-8328\" specifies an unknown reference name. Continue anyway.\n",
      "[main_samview] region \"NC_007605:7512-8512\" specifies an unknown reference name. Continue anyway.\n",
      "[main_samview] region \"NC_007605:7512-8512\" specifies an unknown reference name. Continue anyway.\n",
      "[main_samview] region \"NC_007605:7337-8337\" specifies an unknown reference name. Continue anyway.\n",
      "[main_samview] region \"NC_007605:7337-8337\" specifies an unknown reference name. Continue anyway.\n",
      "[main_samview] region \"NC_007605:7512-8512\" specifies an unknown reference name. Continue anyway.\n",
      "[main_samview] region \"NC_007605:7512-8512\" specifies an unknown reference name. Continue anyway.\n",
      "[main_samview] region \"NC_007605:7372-8372\" specifies an unknown reference name. Continue anyway.\n",
      "[main_samview] region \"NC_007605:7372-8372\" specifies an unknown reference name. Continue anyway.\n",
      "[main_samview] region \"NC_007605:7475-8475\" specifies an unknown reference name. Continue anyway.\n",
      "[main_samview] region \"NC_007605:7475-8475\" specifies an unknown reference name. Continue anyway.\n",
      "[main_samview] region \"NC_007605:11618-12618\" specifies an unknown reference name. Continue anyway.\n",
      "[main_samview] region \"NC_007605:11618-12618\" specifies an unknown reference name. Continue anyway.\n",
      "[main_samview] region \"NC_007605:12463-13463\" specifies an unknown reference name. Continue anyway.\n",
      "[main_samview] region \"NC_007605:12463-13463\" specifies an unknown reference name. Continue anyway.\n",
      "[main_samview] region \"NC_007605:30887-31887\" specifies an unknown reference name. Continue anyway.\n",
      "[main_samview] region \"NC_007605:30887-31887\" specifies an unknown reference name. Continue anyway.\n",
      "[main_samview] region \"NC_007605:13263-14263\" specifies an unknown reference name. Continue anyway.\n",
      "[main_samview] region \"NC_007605:13263-14263\" specifies an unknown reference name. Continue anyway.\n",
      "[main_samview] region \"NC_007605:85133-86133\" specifies an unknown reference name. Continue anyway.\n",
      "[main_samview] region \"NC_007605:85133-86133\" specifies an unknown reference name. Continue anyway.\n",
      "[main_samview] region \"NC_007605:14309-15309\" specifies an unknown reference name. Continue anyway.\n",
      "[main_samview] region \"NC_007605:14309-15309\" specifies an unknown reference name. Continue anyway.\n",
      "[main_samview] region \"NC_007605:32722-33722\" specifies an unknown reference name. Continue anyway.\n",
      "[main_samview] region \"NC_007605:32722-33722\" specifies an unknown reference name. Continue anyway.\n",
      "[main_samview] region \"NC_007605:14666-15666\" specifies an unknown reference name. Continue anyway.\n",
      "[main_samview] region \"NC_007605:14666-15666\" specifies an unknown reference name. Continue anyway.\n",
      "[main_samview] region \"NC_007605:14678-15678\" specifies an unknown reference name. Continue anyway.\n",
      "[main_samview] region \"NC_007605:14678-15678\" specifies an unknown reference name. Continue anyway.\n",
      "[main_samview] region \"NC_007605:14805-15805\" specifies an unknown reference name. Continue anyway.\n",
      "[main_samview] region \"NC_007605:14805-15805\" specifies an unknown reference name. Continue anyway.\n",
      "[main_samview] region \"NC_007605:14865-15865\" specifies an unknown reference name. Continue anyway.\n",
      "[main_samview] region \"NC_007605:14865-15865\" specifies an unknown reference name. Continue anyway.\n",
      "[main_samview] region \"NC_007605:16659-17659\" specifies an unknown reference name. Continue anyway.\n",
      "[main_samview] region \"NC_007605:16659-17659\" specifies an unknown reference name. Continue anyway.\n",
      "[main_samview] region \"NC_007605:15201-16201\" specifies an unknown reference name. Continue anyway.\n",
      "[main_samview] region \"NC_007605:15201-16201\" specifies an unknown reference name. Continue anyway.\n",
      "[main_samview] region \"NC_007605:30566-31566\" specifies an unknown reference name. Continue anyway.\n",
      "[main_samview] region \"NC_007605:30566-31566\" specifies an unknown reference name. Continue anyway.\n",
      "[main_samview] region \"NC_007605:15206-16206\" specifies an unknown reference name. Continue anyway.\n",
      "[main_samview] region \"NC_007605:15206-16206\" specifies an unknown reference name. Continue anyway.\n",
      "[main_samview] region \"NC_007605:24417-25417\" specifies an unknown reference name. Continue anyway.\n",
      "[main_samview] region \"NC_007605:24417-25417\" specifies an unknown reference name. Continue anyway.\n",
      "[main_samview] region \"NC_007605:17726-18726\" specifies an unknown reference name. Continue anyway.\n",
      "[main_samview] region \"NC_007605:17726-18726\" specifies an unknown reference name. Continue anyway.\n",
      "[main_samview] region \"NC_007605:17729-18729\" specifies an unknown reference name. Continue anyway.\n",
      "[main_samview] region \"NC_007605:17729-18729\" specifies an unknown reference name. Continue anyway.\n",
      "[main_samview] region \"NC_007605:17750-18750\" specifies an unknown reference name. Continue anyway.\n",
      "[main_samview] region \"NC_007605:17750-18750\" specifies an unknown reference name. Continue anyway.\n",
      "[main_samview] region \"NC_007605:18109-19109\" specifies an unknown reference name. Continue anyway.\n",
      "[main_samview] region \"NC_007605:18109-19109\" specifies an unknown reference name. Continue anyway.\n",
      "[main_samview] region \"NC_007605:27615-28615\" specifies an unknown reference name. Continue anyway.\n",
      "[main_samview] region \"NC_007605:27615-28615\" specifies an unknown reference name. Continue anyway.\n",
      "[main_samview] region \"NC_007605:18409-19409\" specifies an unknown reference name. Continue anyway.\n",
      "[main_samview] region \"NC_007605:18409-19409\" specifies an unknown reference name. Continue anyway.\n",
      "[main_samview] region \"NC_007605:27625-28625\" specifies an unknown reference name. Continue anyway.\n",
      "[main_samview] region \"NC_007605:27625-28625\" specifies an unknown reference name. Continue anyway.\n",
      "[main_samview] region \"NC_007605:19058-20058\" specifies an unknown reference name. Continue anyway.\n",
      "[main_samview] region \"NC_007605:19058-20058\" specifies an unknown reference name. Continue anyway.\n",
      "[main_samview] region \"NC_007605:25233-26233\" specifies an unknown reference name. Continue anyway.\n",
      "[main_samview] region \"NC_007605:25233-26233\" specifies an unknown reference name. Continue anyway.\n",
      "[main_samview] region \"NC_007605:20801-21801\" specifies an unknown reference name. Continue anyway.\n",
      "[main_samview] region \"NC_007605:20801-21801\" specifies an unknown reference name. Continue anyway.\n",
      "[main_samview] region \"NC_007605:20810-21810\" specifies an unknown reference name. Continue anyway.\n",
      "[main_samview] region \"NC_007605:20810-21810\" specifies an unknown reference name. Continue anyway.\n",
      "[main_samview] region \"NC_007605:20822-21822\" specifies an unknown reference name. Continue anyway.\n",
      "[main_samview] region \"NC_007605:20822-21822\" specifies an unknown reference name. Continue anyway.\n",
      "[main_samview] region \"NC_007605:21679-22679\" specifies an unknown reference name. Continue anyway.\n",
      "[main_samview] region \"NC_007605:21679-22679\" specifies an unknown reference name. Continue anyway.\n",
      "[main_samview] region \"NC_007605:24743-25743\" specifies an unknown reference name. Continue anyway.\n",
      "[main_samview] region \"NC_007605:24743-25743\" specifies an unknown reference name. Continue anyway.\n",
      "[main_samview] region \"NC_007605:22161-23161\" specifies an unknown reference name. Continue anyway.\n",
      "[main_samview] region \"NC_007605:22161-23161\" specifies an unknown reference name. Continue anyway.\n",
      "[main_samview] region \"NC_007605:25202-26202\" specifies an unknown reference name. Continue anyway.\n",
      "[main_samview] region \"NC_007605:25202-26202\" specifies an unknown reference name. Continue anyway.\n",
      "[main_samview] region \"NC_007605:22803-23803\" specifies an unknown reference name. Continue anyway.\n",
      "[main_samview] region \"NC_007605:22803-23803\" specifies an unknown reference name. Continue anyway.\n",
      "[main_samview] region \"NC_007605:30225-31225\" specifies an unknown reference name. Continue anyway.\n",
      "[main_samview] region \"NC_007605:30225-31225\" specifies an unknown reference name. Continue anyway.\n",
      "[main_samview] region \"NC_007605:23870-24870\" specifies an unknown reference name. Continue anyway.\n",
      "[main_samview] region \"NC_007605:23870-24870\" specifies an unknown reference name. Continue anyway.\n",
      "[main_samview] region \"NC_007605:23877-24877\" specifies an unknown reference name. Continue anyway.\n",
      "[main_samview] region \"NC_007605:23877-24877\" specifies an unknown reference name. Continue anyway.\n",
      "[main_samview] region \"NC_007605:23894-24894\" specifies an unknown reference name. Continue anyway.\n",
      "[main_samview] region \"NC_007605:23894-24894\" specifies an unknown reference name. Continue anyway.\n",
      "[main_samview] region \"NC_007605:26447-27447\" specifies an unknown reference name. Continue anyway.\n",
      "[main_samview] region \"NC_007605:26447-27447\" specifies an unknown reference name. Continue anyway.\n",
      "[main_samview] region \"NC_007605:26949-27949\" specifies an unknown reference name. Continue anyway.\n",
      "[main_samview] region \"NC_007605:26949-27949\" specifies an unknown reference name. Continue anyway.\n",
      "[main_samview] region \"NC_007605:26966-27966\" specifies an unknown reference name. Continue anyway.\n",
      "[main_samview] region \"NC_007605:26966-27966\" specifies an unknown reference name. Continue anyway.\n",
      "[main_samview] region \"NC_007605:26978-27978\" specifies an unknown reference name. Continue anyway.\n",
      "[main_samview] region \"NC_007605:26978-27978\" specifies an unknown reference name. Continue anyway.\n",
      "[main_samview] region \"NC_007605:27615-28615\" specifies an unknown reference name. Continue anyway.\n",
      "[main_samview] region \"NC_007605:27615-28615\" specifies an unknown reference name. Continue anyway.\n",
      "[main_samview] region \"NC_007605:27766-28766\" specifies an unknown reference name. Continue anyway.\n",
      "[main_samview] region \"NC_007605:27766-28766\" specifies an unknown reference name. Continue anyway.\n",
      "[main_samview] region \"NC_007605:29519-30519\" specifies an unknown reference name. Continue anyway.\n",
      "[main_samview] region \"NC_007605:29519-30519\" specifies an unknown reference name. Continue anyway.\n",
      "[main_samview] region \"NC_007605:30014-31014\" specifies an unknown reference name. Continue anyway.\n",
      "[main_samview] region \"NC_007605:30014-31014\" specifies an unknown reference name. Continue anyway.\n",
      "[main_samview] region \"NC_007605:30026-31026\" specifies an unknown reference name. Continue anyway.\n",
      "[main_samview] region \"NC_007605:30026-31026\" specifies an unknown reference name. Continue anyway.\n",
      "[main_samview] region \"NC_007605:30038-31038\" specifies an unknown reference name. Continue anyway.\n",
      "[main_samview] region \"NC_007605:30038-31038\" specifies an unknown reference name. Continue anyway.\n",
      "[main_samview] region \"NC_007605:30397-31397\" specifies an unknown reference name. Continue anyway.\n",
      "[main_samview] region \"NC_007605:30397-31397\" specifies an unknown reference name. Continue anyway.\n",
      "[main_samview] region \"NC_007605:30687-31687\" specifies an unknown reference name. Continue anyway.\n",
      "[main_samview] region \"NC_007605:30687-31687\" specifies an unknown reference name. Continue anyway.\n",
      "[main_samview] region \"NC_007605:30687-31687\" specifies an unknown reference name. Continue anyway.\n",
      "[main_samview] region \"NC_007605:30687-31687\" specifies an unknown reference name. Continue anyway.\n",
      "[main_samview] region \"NC_007605:30838-31838\" specifies an unknown reference name. Continue anyway.\n",
      "[main_samview] region \"NC_007605:30838-31838\" specifies an unknown reference name. Continue anyway.\n",
      "[main_samview] region \"NC_007605:33098-34098\" specifies an unknown reference name. Continue anyway.\n",
      "[main_samview] region \"NC_007605:33098-34098\" specifies an unknown reference name. Continue anyway.\n",
      "[main_samview] region \"NC_007605:33110-34110\" specifies an unknown reference name. Continue anyway.\n",
      "[main_samview] region \"NC_007605:33110-34110\" specifies an unknown reference name. Continue anyway.\n",
      "[main_samview] region \"NC_007605:33237-34237\" specifies an unknown reference name. Continue anyway.\n",
      "[main_samview] region \"NC_007605:33237-34237\" specifies an unknown reference name. Continue anyway.\n",
      "[main_samview] region \"NC_007605:34767-35767\" specifies an unknown reference name. Continue anyway.\n",
      "[main_samview] region \"NC_007605:34767-35767\" specifies an unknown reference name. Continue anyway.\n",
      "[main_samview] region \"NC_007605:85133-86133\" specifies an unknown reference name. Continue anyway.\n",
      "[main_samview] region \"NC_007605:85133-86133\" specifies an unknown reference name. Continue anyway.\n",
      "[main_samview] region \"NC_007605:35915-36915\" specifies an unknown reference name. Continue anyway.\n",
      "[main_samview] region \"NC_007605:35915-36915\" specifies an unknown reference name. Continue anyway.\n",
      "[main_samview] region \"NC_007605:77530-78530\" specifies an unknown reference name. Continue anyway.\n",
      "[main_samview] region \"NC_007605:77530-78530\" specifies an unknown reference name. Continue anyway.\n",
      "[main_samview] region \"NC_007605:77710-78710\" specifies an unknown reference name. Continue anyway.\n",
      "[main_samview] region \"NC_007605:77710-78710\" specifies an unknown reference name. Continue anyway.\n",
      "[main_samview] region \"NC_007605:84393-85393\" specifies an unknown reference name. Continue anyway.\n",
      "[main_samview] region \"NC_007605:84393-85393\" specifies an unknown reference name. Continue anyway.\n",
      "[main_samview] region \"NC_007605:95466-96466\" specifies an unknown reference name. Continue anyway.\n",
      "[main_samview] region \"NC_007605:95466-96466\" specifies an unknown reference name. Continue anyway.\n",
      "[main_samview] region \"NC_007605:95612-96612\" specifies an unknown reference name. Continue anyway.\n",
      "[main_samview] region \"NC_007605:95612-96612\" specifies an unknown reference name. Continue anyway.\n",
      "[main_samview] region \"NC_007605:95724-96724\" specifies an unknown reference name. Continue anyway.\n",
      "[main_samview] region \"NC_007605:95724-96724\" specifies an unknown reference name. Continue anyway.\n",
      "[main_samview] region \"NC_007605:95907-96907\" specifies an unknown reference name. Continue anyway.\n",
      "[main_samview] region \"NC_007605:95907-96907\" specifies an unknown reference name. Continue anyway.\n",
      "[main_samview] region \"NC_007605:95920-96920\" specifies an unknown reference name. Continue anyway.\n",
      "[main_samview] region \"NC_007605:95920-96920\" specifies an unknown reference name. Continue anyway.\n",
      "[main_samview] region \"NC_007605:95927-96927\" specifies an unknown reference name. Continue anyway.\n",
      "[main_samview] region \"NC_007605:95927-96927\" specifies an unknown reference name. Continue anyway.\n",
      "[main_samview] region \"NC_007605:96046-97046\" specifies an unknown reference name. Continue anyway.\n",
      "[main_samview] region \"NC_007605:96046-97046\" specifies an unknown reference name. Continue anyway.\n",
      "[main_samview] region \"NC_007605:96101-97101\" specifies an unknown reference name. Continue anyway.\n",
      "[main_samview] region \"NC_007605:96101-97101\" specifies an unknown reference name. Continue anyway.\n",
      "[main_samview] region \"NC_007605:139223-140223\" specifies an unknown reference name. Continue anyway.\n",
      "[main_samview] region \"NC_007605:139223-140223\" specifies an unknown reference name. Continue anyway.\n",
      "[main_samview] region \"NC_007605:151051-152051\" specifies an unknown reference name. Continue anyway.\n",
      "[main_samview] region \"NC_007605:151051-152051\" specifies an unknown reference name. Continue anyway.\n",
      "[main_samview] region \"NC_007605:167440-168440\" specifies an unknown reference name. Continue anyway.\n",
      "[main_samview] region \"NC_007605:167440-168440\" specifies an unknown reference name. Continue anyway.\n",
      "[main_samview] region \"NC_007605:167603-168603\" specifies an unknown reference name. Continue anyway.\n",
      "[main_samview] region \"NC_007605:167603-168603\" specifies an unknown reference name. Continue anyway.\n",
      "[main_samview] region \"NC_007605:168692-169692\" specifies an unknown reference name. Continue anyway.\n",
      "[main_samview] region \"NC_007605:168692-169692\" specifies an unknown reference name. Continue anyway.\n",
      "[main_samview] region \"NC_007605:169287-170287\" specifies an unknown reference name. Continue anyway.\n",
      "[main_samview] region \"NC_007605:169287-170287\" specifies an unknown reference name. Continue anyway.\n",
      "[main_samview] region \"NC_007605:169370-170370\" specifies an unknown reference name. Continue anyway.\n",
      "[main_samview] region \"NC_007605:169370-170370\" specifies an unknown reference name. Continue anyway.\n",
      "[main_samview] region \"NC_007605:169889-170889\" specifies an unknown reference name. Continue anyway.\n",
      "[main_samview] region \"NC_007605:169889-170889\" specifies an unknown reference name. Continue anyway.\n",
      "[main_samview] region \"NC_007605:169401-170401\" specifies an unknown reference name. Continue anyway.\n",
      "[main_samview] region \"NC_007605:169401-170401\" specifies an unknown reference name. Continue anyway.\n",
      "[main_samview] region \"NC_007605:169411-170411\" specifies an unknown reference name. Continue anyway.\n",
      "[main_samview] region \"NC_007605:169411-170411\" specifies an unknown reference name. Continue anyway.\n",
      "[main_samview] region \"NC_007605:169937-170937\" specifies an unknown reference name. Continue anyway.\n",
      "[main_samview] region \"NC_007605:169937-170937\" specifies an unknown reference name. Continue anyway.\n",
      "[main_samview] region \"NC_007605:169939-170939\" specifies an unknown reference name. Continue anyway.\n",
      "[main_samview] region \"NC_007605:169939-170939\" specifies an unknown reference name. Continue anyway.\n",
      "[main_samview] region \"NC_007605:169949-170949\" specifies an unknown reference name. Continue anyway.\n",
      "[main_samview] region \"NC_007605:169949-170949\" specifies an unknown reference name. Continue anyway.\n",
      "[main_samview] region \"NC_007605:170460-171460\" specifies an unknown reference name. Continue anyway.\n",
      "[main_samview] region \"NC_007605:170460-171460\" specifies an unknown reference name. Continue anyway.\n",
      "[main_samview] region \"NC_007605:170462-171462\" specifies an unknown reference name. Continue anyway.\n",
      "[main_samview] region \"NC_007605:170462-171462\" specifies an unknown reference name. Continue anyway.\n",
      "[main_samview] region \"NC_007605:171000-172000\" specifies an unknown reference name. Continue anyway.\n",
      "[main_samview] region \"NC_007605:171000-172000\" specifies an unknown reference name. Continue anyway.\n",
      "[main_samview] region \"NC_007605:171010-172010\" specifies an unknown reference name. Continue anyway.\n",
      "[main_samview] region \"NC_007605:171010-172010\" specifies an unknown reference name. Continue anyway.\n"
     ]
    }
   ],
   "source": [
    "export PATH=/home/zhuw10/CL/SV/mocca-new-callers/tools/nb_distribution/:$PATH\n",
    "\n",
    "cd /home/zhuw10/CL/SV/mocca-new-callers\n",
    "\n",
    "run_novoBreak.sh ./tools/nb_distribution ../refGenomes/Homo_sapiens_assembly19.fasta ../../GIAB/data/bam/HG002_BWA_2x250.bam  novoBreak_test/GIAB/normal.bam  16 novoBreak_test/GIAB/nb_output"
   ]
  },
  {
   "cell_type": "code",
   "execution_count": null,
   "metadata": {},
   "outputs": [],
   "source": [
    "# resume\n",
    "# it is running on perl $nbbin/infer_bp_v4.pl $file $tumor_bam $normal_bam > $file.sp.vcf &qq\n",
    "# under group_reads\n",
    "# perl /mnt/nfs/gigantor/ifs/DCEG/Projects/CoherentLogic/SV/mocca-new-callers/tools/nb_distribution/infer_bp_v4.pl xaj /mnt/nfs/gigantor/ifs/DCEG/Projects/CoherentLogic/GIAB/data/bam/HG002_BWA_2x250.bam /mnt/nfs/gigantor/ifs/DCEG/Projects/CoherentLogic/SV/mocca-new-callers/novoBreak_test/GIAB/normal.bam\n",
    "# it will be further processed by  tools/nb_distribution/filter_sv_icgc.pl \n",
    "# it is running on infer_bp_v4.pl\n",
    "run_novoBreak.sh ./tools/nb_distribution ../refGenomes/Homo_sapiens_assembly19.fasta ../../GIAB/data/bam/HG002_BWA_2x250.bam  novoBreak_test/GIAB/normal.bam  16 novoBreak_test/GIAB/nb_output"
   ]
  },
  {
   "cell_type": "code",
   "execution_count": 20,
   "metadata": {},
   "outputs": [
    {
     "name": "stdout",
     "output_type": "stream",
     "text": [
      "Y\t58990414\tN\t.\t<TRA>\t5\tPASS\tPRECISE;CT=5to3;CIPOS=-10,10;CIEND=-10,10;SOMATIC;CONSENSUS=TGTCTGGGCTCTGCCTACAGGGTCATTTTAACATAGCACTGCACTGATCACCTAGATAATGTAACTCTTGTATAGGCTTTGCCGAAAGAGGCATTGAGACATATCTCTGCACTTATCACCGAGGTGATACAACTCTTGTCTGGGATCTGCCTGCAGGAGACATTTTTACATATCTCTGAAATGATCAACGAGGTGATGTTACTCTTGTCTAGGCTCTGCCTACTGGAGACATTGTGACTTATCTCTGCACTGATCACCCAGGTGATGTAACTCTTGTCTAGAGTCTGGCCACAGGGACAGAGTGACATATATCTGCACTGATCACACAGGTGATGTACTTCTTGTAAAGTCTTTGCCTACAGGGGGTGTTGTGACATATCTCTGCACTGATCTCTGAGGGGAGGTAACTCTTGTCTAGTCTCTGTCTA;SVTYPE=TRA;CHR2=GL000225.1;END=83402;SVLEN=0\tGT\t./.\tE11522\tcontig8\tsize428\t2\tcov1.17\t111\t12\t56.1666666666667\t11\t60\t6\t0\t0\t0\t0\t93\t1\t0\t0\t0\t2\t0\t0\t0\t0\t133\t0\t84\t0\n",
      "Y\t58991731\tN\t.\t<TRA>\t36\tPASS\tPRECISE;CT=3to5;CIPOS=-10,10;CIEND=-10,10;SOMATIC;CONSENSUS=TGACATATCTCTGCACTGATCACCCAGGTGATATAACTCTTGTCTAGGATCTGCCTAAATGGACTTTGTGACAGAACCCTGTACTGATCATCCAGGTGATGGGGCTTTTGTCTAGGCTCTTCCTACGGGGGCATTCTGACTTATTTCTGCACTGATCACCCAGGTGACGGACTCTTGTCTTGCATCTGCCTATGGGGACATTGTGACATATCTCTGCACTGATCACCCAGGTGATGGGACTTTTGTCTGGGCTCTGCCTATGGGGGCATTGTGACGTATCTCTACACTGATCACCCAGGGGATGTAAAACTTGTGTTGGATCTGCCTCTGGGGGCATTGTGACATATCTTCACTGATCACCCAGGTGATGTAACGCTTGACTAGGCTCTGCCTACAGGGCATAGTGACATATCACT;SVTYPE=TRA;CHR2=GL000225.1;END=140792;SVLEN=0\tGT\t./.\tE989730\tcontig5\tsize416\t2\tcov1.05\t344\t8\t0.5\t0\t0\t4\t0\t0\t0\t0\t265\t70\t2.38571428571429\t0\t0\t1\t0\t0\t0\t0\t67\t0\t109\t0\n",
      "Y\t58991920\tN\t.\t<TRA>\t29.5\tPASS\tPRECISE;CT=3to3;CIPOS=-10,10;CIEND=-10,10;SOMATIC;CONSENSUS=TCTTGTCTGGGATCTGCCTATGAGGGCATTGTGACTTATCACTGTACTGATCACCCAGGAGCTGTGACTCTTATCTAAGCTCTGCCTAGAGGGACATTGGGACATATCTCTGCACTGATCACTGAGTTTATGCAAAACTTGTCTTAACTTTGCCTACAGTGGGATTTATGACACATCTCTGCACTGATCACCGAGGTGATGTAACTCTTGTCTAGGGTCTGCCTACAGGAGCATTTTAACATATCACTGCACTGATCACCGAGATGATGTAACTCTTGTAAAGGGTTCGCCGACAGGGGTCATTGAGACATATCTCTGCACTGATCACTGAGGTGATGCAACTCTTCTCTGGGATCTGCTTGCAGGGGGCATTGTGACATATCTCTGCCCTGATCACCCAGGTGATGTAACTGTTGACTTGGCTCTGCCTACAGGGGCTTTGTGACATATCTCTGCACCGATCACCGTGGTGATGGGACTTTTGTCTAGGCTCTGCCTATGGGGG;SVTYPE=TRA;CHR2=GL000225.1;END=112132;SVLEN=0\tGT\t./.\tE329763\tcontig1\tsize505\t9\tcov4.27\t323\t0\t0\t0\t0\t4\t0\t0\t0\t0\t294\t9\t5.44444444444444\t1\t40\t2\t0\t0\t0\t0\t131\t0\t622\t0\n",
      "Y\t58992450\tN\t.\t<TRA>\t6\tPASS\tPRECISE;CT=5to5;CIPOS=-10,10;CIEND=-10,10;SOMATIC;CONSENSUS=CAGAGATCTGTCACAATGCCCCTTTAGGCAGAGCTTAGACCAGAGTTAGATCACCTGGGTGATCAGTGCAGGGATATGTCACAAAGTACCCTGTAGGCAGATCCTAGAGAAGAGTTATATCACCTGGGTGATCAGTGCAGTGGTAGTTCACAATCCCCCTGTAGGCAGAAACCTATAAAAGGGTTATATCACCTGGTTGATCAGTGCATTGATATGTCACAATGCCGGGTAGCCAGAGCCTAGACTAAAGTTACAGCACCTGGGAGATCAGTGCAGAGATATGTCACAATGTCCCCTGTAGGCAAAGCCTAGGCAAGAGATGCATCACATGAGTGATCATTGAAGAGATCTGTCACGATGTCCCCTGTAGGCAA;SVTYPE=TRA;CHR2=GL000216.1;END=155097;SVLEN=0\tGT\t./.\tE1236390\tcontig1\tsize374\t3\tcov1.88\t468\t35\t11.4285714285714\t0\t0\t3\t0\t0\t0\t0\t239\t1782\t4.80976430976431\t121\t37.1570247933884\t3\t0\t0\t0\t0\t66\t0\t337\t0\n",
      "Y\t58993535\tN\t.\t<TRA>\t0\tPASS\tPRECISE;CT=5to5;CIPOS=-10,10;CIEND=-10,10;SOMATIC;CONSENSUS=ACGTCACAAAGCACCCTGTAGGCAGATCCCAGAAAATAGCTACAAGACCTAGGTGATCAGTGCACAGATACATTGCAATGCCCCTGTAAGCAGAGCCTTGGCAAGTGGTATATCACCTGGGTGATCATTGCAGGGATATGTCACAAAGCACCCCGTGGTCAGATCCTAGAGAAGAGTTATATCACCTGGGTGATCAGTGCAGAGATATGTCACAAAACAATTGTAGGCAGAGCCTGGACAAGAGTTGTATCACCTGGGTGATCAGTGCAGTGATATGTCACAATGCCTTGTAGCCAGAGCCTAGACAAAATTTACATAACCTGGGAGATCAGTGCAGAGATATGTCACAATGTCCCCAGTAGGCAGA;SVTYPE=TRA;CHR2=GL000228.1;END=118172;SVLEN=0\tGT\t./.\tE1068343\tcontig2\tsize367\t2\tcov1.25\t334\t1\t2\t0\t0\t5\t0\t0\t0\t0\t13022\t127\t13.3149606299213\t11\t38.1818181818182\t0\t0\t0\t0\t0\t62\t0\t1721\t0\n",
      "Y\t58995013\tN\t.\t<DUP>\t34\tPASS\tPRECISE;CT=5to3;CIPOS=-10,10;CIEND=-10,10;SOMATIC;CONSENSUS=AGAGAATTCTTGTTTAGGCTCTGCCTACAGGGGGCTTTGTGACATATCTCTGCACTGATCACCTGGGTGATGTAACACTTTTATAATCTCTACCTACAGGGAATTTTGACAAATCTCTGCCCGGATCATCTAGGTGATGTAACTCTTGTCTACACTCTGCCTACAGGGGGCATTGTGAAATATGTCTGCACTGATCACCCAGGTGATGCAACTCTTGTCTAGGATTTGCCTACAGTGGGTATTGTGATATATCTCTGCAAT;SVTYPE=DUP;CHR2=Y;END=58997447;SVLEN=2434\tGT\t./.\tE937202\tcontig1\tsize261\t2\tcov1.90\t379\t5\t10.8\t0\t0\t3\t0\t0\t0\t0\t221\t157\t47.2802547770701\t123\t56.3577235772358\t5\t0\t0\t0\t0\t49\t0\t40\t0\n",
      "Y\t58995084\tN\t.\t<TRA>\t0\tPASS\tPRECISE;CT=5to3;CIPOS=-10,10;CIEND=-10,10;SOMATIC;CONSENSUS=TCTGCTTACAGGGGTATTTTGATATATCTCTTCACTGATCACCTAAGTGATGTAACACTTGTGTAGGCTCTGCCTGCAGGTGCATTTTGACATATCTCTGCACTGTTAACCGAGGTGATGTAACTCTTGTCTAGTCTGTGCCCACAGGGGGACTGAGACATATCTCTGCACTGATCCCAAGGTGATCCAACTCTTGCCTGGTCTCTGCCCACTAGGGACATTGTGACTTATCTCTGCACTGATTTCCCAGGTGATGTAACTTTAGTCTAGGCTCTGGCTACACGGCATTGTGACATATCACTGCACTTATCACCCAGGTGATATAACTCTTGTTTAAGCTCTGCCTACAGGCGGCTTGTGACATATCCCTGCAATGATCTCCCAGGTGATGTACCACTTGTCAAGGCTCTGCCTACAGGGGCATTTTGATGTATCTCTTCGCTGATCACCTAGGTCATG;SVTYPE=TRA;CHR2=18;END=108434;SVLEN=0\tGT\t./.\tE1038371\tcontig4\tsize459\t8\tcov4.35\t282\t1\t0\t0\t0\t4\t0\t0\t0\t0\t41687\t108\t19.4907407407407\t39\t39.6153846153846\t3\t0\t0\t0\t0\t13\t0\t2199\t0\n",
      "Y\t58996819\tN\t.\t<TRA>\t22.5\tPASS\tPRECISE;CT=3to3;CIPOS=-10,10;CIEND=-10,10;SOMATIC;CONSENSUS=CTCTGCCTACAGGAGGCTTTATGACTTATACCTGCACTGCTAACCTAGGTGATGTAACACTTTTCTAGGCTCTGCCTTCACGGGAATTCACACATATCTCTGCACTGATCACCCAGGTGATGTAACTCTGGTCTAGGTTCTGTTACAGGGAGTATTGTGACATATCTCTGCACTGATCACCTAAGTGATGTAACACACTTGTGTATGCTCTGCCTACAGGAGCATTTTGAGATATATCTGCACTGTTAACCGAGGTGATGTAACTCTTGTCTAGGCTGTCCCCACAGGGGGATTGAGACATATCTCTGCACTGATCCCGAGGTGATCCAACTCTTGTCTGGGCTCTGCCTACTGGGGATATTGTGACATATCTCTGCACTGATCTCCCAGGTGATGAAACTTTTGTCTAGGATCTGCCTACAGGGGTATTGT;SVTYPE=TRA;CHR2=GL000225.1;END=32665;SVLEN=0\tGT\t./.\tE966723\tcontig2\tsize432\t2\tcov1.07\t387\t0\t0\t0\t0\t6\t0\t0\t0\t0\t571\t73\t1.17808219178082\t0\t0\t0\t0\t0\t0\t0\t356\t0\t76\t0\n",
      "Y\t58997142\tN\t.\t<TRA>\t23\tPASS\tPRECISE;CT=3to3;CIPOS=-10,10;CIEND=-10,10;SOMATIC;CONSENSUS=CCATCACTTGGGTGATCAGTGGCGAGGTCTCTCACAATTCCCCTGTAGGCAGAGCTTATACAAGAGTTACATCACCTAGGTGATCAGTGCAGAGATATTTCACAATGCCCTTGCAGGCAGAGCGTAAGCAAGAGTTACATCACCTAGATGATCAGCGCATAGATATGTCACCAGGCCCCCTATAGGCAGAGCCTGGACAAGAGTTACATCACCTCGGTGATCAATGCAGCGATATGTCACTATGCCCCGTAGGCAGAGCCTAGTCAAGCGTTACATCACCTGGGTGATCAGTGCACATATATGTCACAAAGCCCCCATACACAGAGCCTAGACGAGAGTCCCATCACCTGGGTATTCAGTGCAGAGTTCTGTCACAAATTCCCTTTAGGCAGATCCTAGACAAGT;SVTYPE=TRA;CHR2=GL000228.1;END=119349;SVLEN=0\tGT\t./.\tE716120\tcontig1\tsize405\t2\tcov1.20\t723\t73\t7.3013698630137\t2\t37\t5\t0\t0\t0\t0\t5092\t63\t17.4126984126984\t8\t47.5\t3\t0\t0\t0\t0\t173\t0\t716\t0\n",
      "Y\t58997470\tN\t.\t<TRA>\t60\tPASS\tPRECISE;CT=3to3;CIPOS=-10,10;CIEND=-10,10;SOMATIC;CONSENSUS=TGACGTGTTTCTGCACGGAGCACCCAGGTGACGGACTCTTGTCTTGCGTCTGCATATGGGGGCTTTGTGACGTATCTCTGCACTGATCACCCAGGTGATGTAACTGTTGTATAAGCTCTGCCTACAGGGGAATTGTGAGAGATCTCTCCACTGATCACCCAACTGATGTAACTATTGTCTAGGCTTTGCCTACAGGGGGCTTTGTGACATATCTTTACACTGATCACCCAGGTGATGTAACTCATCTAAGCTCTGCCTACAGGTGCCTATGACATATCTCTGCACTGATCACCCCAGGGAGAGAATTCTTGTTTAGGCTCTGCCTACAGGGGGCTTTGTGACATATCT;SVTYPE=TRA;CHR2=GL000225.1;END=20891;SVLEN=0\tGT\t./.\tE881419\tcontig1\tsize348\t2\tcov1.39\t378\t134\t42\t97\t53.319587628866\t5\t0\t0\t0\t0\t153\t1\t60\t1\t60\t1\t0\t0\t0\t0\t212\t0\t47\t0\n"
     ]
    }
   ],
   "source": [
    "tail -n 10 novoBreak_test/GIAB/nb_output/novoBreak.pass.flt.vcf"
   ]
  },
  {
   "cell_type": "markdown",
   "metadata": {},
   "source": [
    "## Compare to GIAB truth vcf file"
   ]
  },
  {
   "cell_type": "code",
   "execution_count": 32,
   "metadata": {},
   "outputs": [],
   "source": [
    "COMPUTE_VCF=novoBreak_test/GIAB/nb_output/novoBreak.pass.flt.vcf \n",
    "COMPUTE_BED=novoBreak_test/GIAB/nb_output/novoBreak.pass.bed\n",
    "ISEC_BED=novoBreak_test/GIAB/nb_output/novoBreak.isec.bed\n",
    "TRUTH_PAD=~/CL/SV/mocca-bench/data/truth_giab_padded.bed"
   ]
  },
  {
   "cell_type": "code",
   "execution_count": 26,
   "metadata": {},
   "outputs": [
    {
     "name": "stdout",
     "output_type": "stream",
     "text": [
      "100098\n"
     ]
    }
   ],
   "source": [
    "grep -c -v \"^#\" $COMPUTE_VCF"
   ]
  },
  {
   "cell_type": "code",
   "execution_count": 27,
   "metadata": {},
   "outputs": [
    {
     "name": "stdout",
     "output_type": "stream",
     "text": [
      "16370 novoBreak_test/GIAB/nb_output/novoBreak.pass.bed\n"
     ]
    }
   ],
   "source": [
    "./scripts/novoBreak2bed.pl $COMPUTE_VCF  > $COMPUTE_BED\n",
    "wc -l $COMPUTE_BED"
   ]
  },
  {
   "cell_type": "code",
   "execution_count": 28,
   "metadata": {},
   "outputs": [
    {
     "name": "stdout",
     "output_type": "stream",
     "text": [
      "   6453 DEL\n",
      "   5048 DUP\n",
      "   4869 INV\n"
     ]
    }
   ],
   "source": [
    "cut -f 5 $COMPUTE_BED | sort | uniq -c"
   ]
  },
  {
   "cell_type": "code",
   "execution_count": 33,
   "metadata": {},
   "outputs": [
    {
     "name": "stdout",
     "output_type": "stream",
     "text": [
      "9361 /home/zhuw10/CL/SV/mocca-bench/data/truth_giab_padded.bed\n",
      "16370 novoBreak_test/GIAB/nb_output/novoBreak.pass.bed\n",
      "663\n"
     ]
    }
   ],
   "source": [
    "bedtools intersect -a $TRUTH_PAD -b $COMPUTE_BED -wa -wb -f 0.7 -r > $ISEC_BED\n",
    "\n",
    "wc -l $TRUTH_PAD\n",
    "wc -l $COMPUTE_BED \n",
    "cut -f 4 $ISEC_BED | sort -u |wc -l\n"
   ]
  },
  {
   "cell_type": "code",
   "execution_count": 34,
   "metadata": {},
   "outputs": [
    {
     "name": "stdout",
     "output_type": "stream",
     "text": [
      "1\t184814727\t184820784\tHG3_PB_SVrefine2PBcRDovetail_565\tDEL\t6056\t1\t184814742\t184820785\tUID_208\tDEL\t+6042\n",
      "1\t247850454\t247856508\tHG4_PB_SVrefine2Falcon1Dovetail_917\tDEL\t6053\t1\t247850473\t247856509\tUID_248\tDEL\t+6035\n",
      "1\t226002813\t226003141\tHG2_Ill_scalpel_1190\tDEL\t327\t1\t226002816\t226003142\tUID_235\tDEL\t+325\n",
      "1\t241149855\t241150181\tHG3_Ill_GATKHCSBGrefine_897\tDEL\t325\t1\t241149872\t241150182\tUID_246\tDEL\t+309\n",
      "1\t25158686\t25161509\tHG3_Ill_GATKHCSBGrefine_157\tDEL\t2822\t1\t25158702\t25161510\tUID_41\tDEL\t+2807\n",
      "1\t198773748\t198775414\tHG3_PB_SVrefine2Falcon1Dovetail_658\tDEL\t1665\t1\t198773748\t198775415\tUID_218\tDEL\t+1666\n",
      "1\t104719846\t104720164\tHG3_10X_allpass_125\tDEL\t317\t1\t104719863\t104720165\tUID_77\tDEL\t+301\n",
      "1\t84517924\t84524629\tHG2_PB_SVrefine2Falcon1plusDovetail_434\tDEL\t6704\t1\t84517938\t84524630\tUID_68\tDEL\t+6691\n",
      "1\t58343210\t58343535\tHG2_Ill_MetaSV_107\tDEL\t324\t1\t58343222\t58343536\tUID_48\tDEL\t+313\n",
      "1\t26489811\t26490138\tHG4_Ill_GATKHCSBGrefine_190\tDEL\t326\t1\t26489822\t26490139\tUID_42\tDEL\t+316\n"
     ]
    }
   ],
   "source": [
    "# /mnt/nfs/gigantor/ifs/DCEG/Projects/CoherentLogic/SV/mocca-new-callers/call_germline/TMP74218/isec.bed\n",
    "head $ISEC_BED"
   ]
  },
  {
   "cell_type": "markdown",
   "metadata": {},
   "source": [
    "## Check the one generate from the snakemake workflow"
   ]
  },
  {
   "cell_type": "code",
   "execution_count": 5,
   "metadata": {},
   "outputs": [],
   "source": [
    "cd /home/zhuw10/CL/SV/mocca-new-callers\n",
    "\n",
    "COMPUTE_VCF=novoBreak_test/snakemake_germline2/output/AJ_2x250_son/novoBreak.pass.flt.vcf\n",
    "COMPUTE_BED=novoBreak_test/snakemake_germline2/output/AJ_2x250_son/novoBreak.pass.flt.bed\n",
    "ISEC_BED=novoBreak_test/snakemake_germline2/output/AJ_2x250_son/novoBreak.pass.isec.bed\n",
    "TRUTH_PAD=~/CL/SV/mocca-bench/data/truth_giab_padded.bed\n",
    "INCLUDED_BED=~/CL/SV/mocca-bench/data/HG002_SVs_Tier1_noVDJorXorY_v0.6.2.bed"
   ]
  },
  {
   "cell_type": "code",
   "execution_count": 7,
   "metadata": {},
   "outputs": [
    {
     "name": "stdout",
     "output_type": "stream",
     "text": [
      "16670 .tmp\n",
      "   6653 DEL\n",
      "   5109 DUP\n",
      "   4908 INV\n",
      "    780 DEL\n",
      "      6 DUP\n",
      "     15 INV\n"
     ]
    }
   ],
   "source": [
    "./scripts/novoBreak2bed.pl $COMPUTE_VCF > .tmp \n",
    "wc -l .tmp \n",
    "cut -f 5 .tmp | sort | uniq -c\n",
    "bedtools intersect -a .tmp -b $INCLUDED_BED -f 1.0000000 -u > $COMPUTE_BED\n",
    "cut -f 5 $COMPUTE_BED | sort | uniq -c\n",
    " "
   ]
  },
  {
   "cell_type": "code",
   "execution_count": 8,
   "metadata": {},
   "outputs": [
    {
     "name": "stdout",
     "output_type": "stream",
     "text": [
      "9361 /home/zhuw10/CL/SV/mocca-bench/data/truth_giab_padded.bed\n",
      "16670 novoBreak_test/snakemake_germline2/output/AJ_2x250_son/novoBreak.pass.flt.bed\n",
      "653\n"
     ]
    }
   ],
   "source": [
    "# .tmp is not reasonable. \n",
    "cat .tmp > $COMPUTE_BED\n",
    "\n",
    "bedtools intersect -a $TRUTH_PAD -b $COMPUTE_BED -wa -wb -f 0.7 -r > $ISEC_BED\n",
    "\n",
    "wc -l $TRUTH_PAD\n",
    "wc -l $COMPUTE_BED \n",
    "cut -f 4 $ISEC_BED | sort -u |wc -l"
   ]
  },
  {
   "cell_type": "code",
   "execution_count": 9,
   "metadata": {},
   "outputs": [
    {
     "name": "stdout",
     "output_type": "stream",
     "text": [
      "    780 DEL\n",
      "      6 DUP\n",
      "     15 INV\n",
      "9361 /home/zhuw10/CL/SV/mocca-bench/data/truth_giab_padded.bed\n",
      "801 novoBreak_test/snakemake_germline2/output/AJ_2x250_son/novoBreak.pass.flt.bed\n",
      "653\n"
     ]
    }
   ],
   "source": [
    "./scripts/novoBreak2bed.pl $COMPUTE_VCF | bedtools intersect -a - -b $INCLUDED_BED -f 1.0000000 -u > $COMPUTE_BED\n",
    "cut -f 5 $COMPUTE_BED | sort | uniq -c\n",
    "\n",
    "bedtools intersect -a $TRUTH_PAD -b $COMPUTE_BED -wa -wb -f 0.7 -r > $ISEC_BED\n",
    "\n",
    "wc -l $TRUTH_PAD\n",
    "wc -l $COMPUTE_BED \n",
    "cut -f 4 $ISEC_BED | sort -u |wc -l"
   ]
  },
  {
   "cell_type": "code",
   "execution_count": 13,
   "metadata": {},
   "outputs": [
    {
     "name": "stdout",
     "output_type": "stream",
     "text": [
      "1\t205439854\t205440024\tHG2_10X_SVrefine210Xhap12_866\tDEL\t169\t1\t205439857\t205440025\tUID_253\tDEL\t+167\n",
      "1\t62390585\t62390935\tHG3_Ill_svaba_542\tDEL\t349\t1\t62390601\t62390936\tUID_59\tDEL\t+334\n",
      "1\t66135706\t66136038\tHG2_PB_SVrefine2PBcRplusDovetail_356\tDEL\t331\t1\t66135714\t66136048\tUID_63\tDEL\t+333\n",
      "1\t176478216\t176478773\tHG2_PB_SVrefine2Falcon2Bionano_216\tDEL\t556\t1\t176478231\t176478774\tUID_240\tDEL\t+542\n",
      "1\t240616989\t240617314\tHG4_Ill_manta_323\tDEL\t324\t1\t240617006\t240617315\tUID_271\tDEL\t+308\n",
      "1\t247850454\t247856508\tHG4_PB_SVrefine2Falcon1Dovetail_917\tDEL\t6053\t1\t247850473\t247856509\tUID_274\tDEL\t+6035\n",
      "1\t108733325\t108737251\tHG2_PB_assemblyticsPBcR_1056\tDEL\t3909\t1\t108733324\t108737252\tUID_89\tDEL\t+3927\n",
      "1\t69943714\t69944021\tHG2_Ill_scalpel_439\tDEL\t306\t1\t69943724\t69944022\tUID_66\tDEL\t+297\n",
      "1\t198773748\t198775414\tHG3_PB_SVrefine2Falcon1Dovetail_658\tDEL\t1665\t1\t198773748\t198775415\tUID_246\tDEL\t+1666\n",
      "1\t84517924\t84524629\tHG2_PB_SVrefine2Falcon1plusDovetail_434\tDEL\t6704\t1\t84517938\t84524630\tUID_81\tDEL\t+6691\n",
      "    664 DEL\n",
      "    664 DEL\n"
     ]
    }
   ],
   "source": [
    "head $ISEC_BED\n",
    "\n",
    "cut -f 5 $ISEC_BED | sort | uniq -c \n",
    "cut -f 11 $ISEC_BED | sort | uniq -c "
   ]
  },
  {
   "cell_type": "code",
   "execution_count": null,
   "metadata": {},
   "outputs": [],
   "source": []
  }
 ],
 "metadata": {
  "kernelspec": {
   "display_name": "Bash",
   "language": "bash",
   "name": "bash"
  },
  "language_info": {
   "codemirror_mode": "shell",
   "file_extension": ".sh",
   "mimetype": "text/x-sh",
   "name": "bash"
  }
 },
 "nbformat": 4,
 "nbformat_minor": 4
}
