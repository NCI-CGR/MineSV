{
 "cells": [
  {
   "cell_type": "markdown",
   "metadata": {},
   "source": [
    "# Now start with the clean up code to review the idea:\n",
    "+ Load the truth bed file\n",
    "+ Load the prediction bed file \n",
    "    + Add name\n",
    "    + Pad with 500 bp  \n",
    "    + find the overlap between the padded interval and the truth interval\n",
    "+ Summary over the overlaps\n",
    "    + Count of truth intervals are overlapped\n",
    "        + SV Types\n",
    "        + Sizes\n",
    "        + etc\n",
    "    + Count of Predictions for each truth interval\n",
    "        + compute the score \n",
    "        + report the best"
   ]
  },
  {
   "cell_type": "code",
   "execution_count": 1,
   "metadata": {
    "tags": []
   },
   "outputs": [
    {
     "name": "stdout",
     "output_type": "stream",
     "text": [
      "/mnt/nfs/gigantor/ifs/DCEG/Projects/CoherentLogic/SV/bench_ws\n"
     ]
    },
    {
     "data": {
      "text/plain": [
       "9361"
      ]
     },
     "execution_count": 1,
     "metadata": {},
     "output_type": "execute_result"
    }
   ],
   "source": [
    "%cd /mnt/nfs/gigantor/ifs/DCEG/Projects/CoherentLogic/SV/bench_ws\n",
    "from pybedtools import BedTool\n",
    "giab_sv=BedTool(\"../mocca-bench/src/my-tp-base.bed\")\n",
    "len(giab_sv)\n",
    "\n"
   ]
  },
  {
   "cell_type": "code",
   "execution_count": null,
   "metadata": {
    "tags": []
   },
   "outputs": [],
   "source": [
    "import pandas as pd\n",
    "import pybedtools\n",
    "\n",
    "df = pd.read_csv(\"../mocca-bench/src/manta_germline.bed\", header=None, sep=\"\\t\")\n",
    "\n",
    "# convert df to a list of tuple with name\n",
    "x=list()\n",
    "for index, row in df.iterrows(): \n",
    "    z = row.tolist()\n",
    "    z[1] = z[1] - 1 # convert to 0-based\n",
    "    z.append(\"UID_\"+str(index))\n",
    "    x.append(z)\n",
    "\n",
    "comp_bed = pybedtools.BedTool(x)\n",
    "print(comp_bed[0])\n",
    "\n"
   ]
  },
  {
   "cell_type": "code",
   "execution_count": null,
   "metadata": {
    "tags": []
   },
   "outputs": [],
   "source": [
    "# Pad\n",
    "comp_inc = enveloped_by(comp_bed, included_bed)\n",
    "comp_padded = comp_inc.slop(b=500, g=\"b37.genome\")\n",
    "print(comp_padded[0])"
   ]
  },
  {
   "cell_type": "code",
   "execution_count": null,
   "metadata": {
    "tags": []
   },
   "outputs": [],
   "source": [
    "overlaps = giab_sv.intersect(comp_padded, wa=True, wb=True)\n",
    "print(len(overlaps))\n",
    "overlaps.head()"
   ]
  },
  {
   "cell_type": "code",
   "execution_count": null,
   "metadata": {},
   "outputs": [],
   "source": [
    "df = overlaps.to_dataframe()\n",
    "df.head()\n",
    "df.shape"
   ]
  },
  {
   "cell_type": "code",
   "execution_count": null,
   "metadata": {},
   "outputs": [],
   "source": [
    "ol_series = df.groupby('name')['blockCount'].apply(list)\n",
    "type(ol_series)"
   ]
  },
  {
   "cell_type": "code",
   "execution_count": null,
   "metadata": {
    "tags": []
   },
   "outputs": [],
   "source": [
    "def get_interval_by_name(obj, name):\n",
    "    for f in obj:\n",
    "        if f.name == name:\n",
    "            return f\n",
    "\n",
    "    return None\n",
    "\n",
    "\n",
    "\n",
    "\n",
    "b1=get_interval_by_name(giab_sv, \"HG4_Ill_Krunchall_133\")\n",
    "c1=get_interval_by_name(comp_bed, \"UID_31\")\n",
    "print(b1)\n",
    "print(c1)\n",
    "\n",
    "def reciprocal_overlap(astart, aend, bstart, bend):\n",
    "    \"\"\"\n",
    "    creates a reciprocal overlap rule for matching two entries. Returns a method that can be used as a match operator\n",
    "    \"\"\"\n",
    "    ovl_start = max(astart, bstart)\n",
    "    ovl_end = min(aend, bend)\n",
    "    if ovl_start < ovl_end:  # Otherwise, they're not overlapping\n",
    "        ovl_pct = float(ovl_end - ovl_start) / max(aend - astart, bend - bstart)\n",
    "    else:\n",
    "        ovl_pct = 0\n",
    "    return ovl_pct\n",
    "\n",
    "def compare_insetions(astart, aend, bstart, bend, insert_range=100):\n",
    "    dist = abs(astart -bstart)\n",
    "    if(dist > insert_range):\n",
    "        return 0\n",
    "    else:\n",
    "        return 1.0-dist/100\n",
    "\n",
    "def calc_score(giab_sv, base_id, comp_bed, comp_id):\n",
    "    b=get_interval_by_name(giab_sv, base_id)\n",
    "    c=get_interval_by_name(comp_bed, comp_id)\n",
    "    if b[4] != 'INS':\n",
    "        score = reciprocal_overlap(int(b[1]), int(b[2]), int(c[1]),int(c[2]))\n",
    "    else:\n",
    "        score = compare_insetions(int(b[1]), int(b[2]), int(c[1]),int(c[2]))\n",
    "    \n",
    "    return score\n",
    "\n",
    "\n",
    "\n",
    "\n",
    "calc_score(giab_sv, \"HG4_Ill_Krunchall_133\", comp_bed, \"UID_31\")"
   ]
  },
  {
   "cell_type": "code",
   "execution_count": null,
   "metadata": {},
   "outputs": [],
   "source": [
    "df['intersect_score'] = df.apply(lambda x: calc_score(giab_sv, x[3], comp_bed, x[9]), axis=1)\n",
    "df.head()"
   ]
  },
  {
   "cell_type": "code",
   "execution_count": null,
   "metadata": {},
   "outputs": [],
   "source": [
    "df.head(n=100)"
   ]
  },
  {
   "cell_type": "code",
   "execution_count": null,
   "metadata": {
    "tags": []
   },
   "outputs": [],
   "source": [
    "df_flt=df.query('(score==\"DEL\"  & intersect_score >= 0.7) | (score==\"INS\"  & intersect_score >0)')\n",
    "df_flt.shape\n",
    "\n",
    "# get the row with max value\n",
    "df_top = df.sort_values('intersect_score', ascending=False).drop_duplicates(['name'])\n",
    "df_top.shape\n",
    "df_top.head()\n",
    "\n",
    "# or using idmax\n",
    "df_top2 = df.loc[df.groupby([\"name\"])[\"intersect_score\"].idxmax()] \n",
    "print(df_top.shape)\n",
    "print(df_top2.shape)"
   ]
  },
  {
   "cell_type": "code",
   "execution_count": null,
   "metadata": {
    "tags": []
   },
   "outputs": [],
   "source": [
    "# Now let us deal with the combined bed file directly\n",
    "comb_df = pd.read_csv(\"../test/2x250_bwa_germline2/output/compare_and_annotate/intrachromosomal_SVs_AJ_2x250_son\", header=0, sep=\"\\t\")\n",
    "comb_df.head()"
   ]
  },
  {
   "cell_type": "code",
   "execution_count": null,
   "metadata": {},
   "outputs": [],
   "source": [
    "def df_to_bedtool(df, onebased=True,first_N=3):\n",
    "    '''\n",
    "    ID is at the position 3 by default\n",
    "    '''\n",
    "    x=list()\n",
    "    for index, row in df.iterrows(): \n",
    "        z = row.tolist()[:first_N]\n",
    "        if onebased:\n",
    "            z[1] = z[1] - 1 # convert to 0-based\n",
    "        z.insert(3, \"UID_\"+str(index))\n",
    "        x.append(z)\n",
    "\n",
    "    comp_bed = pybedtools.BedTool(x)\n",
    "    return(comp_bed)\n",
    "\n",
    "# there is errow when load full data frame\n",
    "# but is fixed after using the first 3 and 8 columns\n",
    "comb_bt = df_to_bedtool(comb_df, onebased=False, first_N=8)"
   ]
  },
  {
   "cell_type": "code",
   "execution_count": null,
   "metadata": {
    "tags": []
   },
   "outputs": [],
   "source": [
    "print(comb_bt[0])"
   ]
  },
  {
   "cell_type": "code",
   "execution_count": null,
   "metadata": {
    "tags": []
   },
   "outputs": [],
   "source": [
    "included_bed = pybedtools.BedTool(\"giab/HG002_SVs_Tier1_noVDJorXorY_v0.6.2.bed\")\n",
    "included_bed.head()"
   ]
  },
  {
   "cell_type": "code",
   "execution_count": null,
   "metadata": {},
   "outputs": [],
   "source": [
    "def enveloped_by(bed1, bed2):\n",
    "    '''\n",
    "    return intervals of bed1 enveloped by bed2\n",
    "    bedtools intersect -a ../data/HG002_SVs_Tier1_noVDJorXorY_v0.6.2.bed -b ../../test/2x250_bwa_germline_bari/compare_and_annotate/manta/bed_input/AJ_2x250_son_intra.bed -f 1e-10 -F 1\n",
    "    '''\n",
    "    return bed1.intersect(bed2, f=1, u=True)\n",
    "\n",
    "test_bed = enveloped_by(giab_sv, included_bed)\n",
    "len(test_bed)"
   ]
  },
  {
   "cell_type": "code",
   "execution_count": null,
   "metadata": {
    "tags": []
   },
   "outputs": [],
   "source": [
    "print(len(comb_bt))\n",
    "\n",
    "comb_inc = enveloped_by(comb_bt, included_bed)\n",
    "print(len(comb_inc))"
   ]
  },
  {
   "cell_type": "code",
   "execution_count": null,
   "metadata": {
    "tags": []
   },
   "outputs": [],
   "source": [
    "def index_interval(obj, name_idx=3):\n",
    "    rv = dict()\n",
    "    for f in obj:\n",
    "        rv[f[3]]=f\n",
    "\n",
    "    return rv\n",
    "    \n",
    "comb_ind = index_interval(comb_inc)\n",
    "giab_ind = index_interval(giab_sv)\n",
    "\n",
    "print(comb_ind[\"UID_8375\"])"
   ]
  },
  {
   "cell_type": "code",
   "execution_count": null,
   "metadata": {
    "tags": []
   },
   "outputs": [],
   "source": [
    "def calc_score2(b,c):\n",
    "    if b[4] != 'INS':\n",
    "        score = reciprocal_overlap(int(b[1]), int(b[2]), int(c[1]),int(c[2]))\n",
    "    else:\n",
    "        score = compare_insetions(int(b[1]), int(b[2]), int(c[1]),int(c[2]))\n",
    "    \n",
    "    return score\n",
    "\n",
    "def compare_base_comp(base, comp, base_ind=None, comp_ind=None, names=None, pad=500, g=\"b37.genome\",  base_id_name=\"name\", comp_id_name=\"name2\"):\n",
    "    if base_ind is None:\n",
    "        base_ind = index_interval(base)\n",
    "\n",
    "    if comp_ind is None:\n",
    "        comp_ind = index_interval(comp)\n",
    "\n",
    "    comp_padded = comp.slop(b=pad, g=g)\n",
    "    overlaps = base.intersect(comp_padded, wa=True, wb=True)\n",
    "\n",
    "    df = overlaps.to_dataframe(names=names)\n",
    "    \n",
    "    # df['OLscore'] = df.apply(lambda x: calc_score(base, x.get(base_id_name), comp, x.get(comp_id_name)), axis=1)\n",
    "    df['OLscore'] = df.apply(lambda x: calc_score2(base_ind.get(x.get(base_id_name)), comp_ind.get( x.get(comp_id_name))), axis=1)\n",
    "    print(df.head())\n",
    "    return(df)\n",
    "\n",
    "    # df_top = df.sort_values('OLscore', ascending=False).drop_duplicates(['name'])\n",
    "    # return df_top\n",
    "\n",
    "my_top = compare_base_comp(giab_sv, comb_inc, names=[\"chrom\", \"start\", \"end\", \"name\", \"svtype\", \"svlen\", \"chrom2\", \"start2\", \"end2\", \"name2\", \"svaba\", \"breakdancer\", \"manta\", \"caller_count\", \"match_region\"])"
   ]
  },
  {
   "cell_type": "code",
   "execution_count": null,
   "metadata": {
    "tags": []
   },
   "outputs": [],
   "source": [
    "manta_top = my_top.query('manta==\"orig\"')\n",
    "manta_top.shape"
   ]
  },
  {
   "cell_type": "code",
   "execution_count": null,
   "metadata": {
    "tags": []
   },
   "outputs": [],
   "source": [
    "print(comb_inc[0])"
   ]
  },
  {
   "cell_type": "code",
   "execution_count": null,
   "metadata": {},
   "outputs": [],
   "source": [
    "comb_inc.__dir__()"
   ]
  },
  {
   "cell_type": "code",
   "execution_count": null,
   "metadata": {},
   "outputs": [],
   "source": [
    "# summary giab_sv\n",
    "giab_df = giab_sv.to_dataframe()\n",
    "\n",
    "giab_df.rename({\"score\":\"svtype\", \"strand\":\"svlen\"}, inplace=True, axis=1)\n",
    "giab_df.head()"
   ]
  },
  {
   "cell_type": "code",
   "execution_count": null,
   "metadata": {},
   "outputs": [],
   "source": [
    "import numpy as np\n",
    "bins = [50, 100, 300, 1000, np.Inf]\n",
    "groups = giab_df.groupby(['svtype', pd.cut(giab_df.svlen, bins, right=False)])\n",
    "groups.size()\n"
   ]
  },
  {
   "cell_type": "code",
   "execution_count": null,
   "metadata": {},
   "outputs": [],
   "source": [
    "\n",
    "import matplotlib.pyplot as plt \n",
    "groups.size().plot.bar()"
   ]
  },
  {
   "cell_type": "code",
   "execution_count": null,
   "metadata": {
    "tags": []
   },
   "outputs": [],
   "source": [
    "print (groups.size().unstack(fill_value=0))\n",
    "groups.size().unstack(fill_value=0).plot.bar()"
   ]
  },
  {
   "cell_type": "code",
   "execution_count": null,
   "metadata": {
    "tags": []
   },
   "outputs": [],
   "source": [
    "# process the hits in my_top\n",
    "pd.set_option('display.max_columns', None)\n",
    "display(my_top)\n",
    "\n",
    "def groupby_svtype_len(df, bins = [50, 100, 300, 1000, np.Inf]):\n",
    "    df_uniq = df.drop_duplicates(['name'])   \n",
    "    print(\"Unique rows: \", len(df_uniq))\n",
    "    groups = df_uniq.groupby(['svtype', pd.cut(df_uniq.svlen, bins, right=False)])\n",
    "    return groups.size()\n",
    "\n",
    "def summary_sv_callers(df, callers=[\"svaba\", \"breakdancer\", \"manta\"], min_ovp_pct=0.7):\n",
    "    print(\"Total row count: \", len(df))\n",
    "    # filter out those did not pass\n",
    "    df_flt = df.query(f'(svtype!=\"INS\"  & OLscore >= {min_ovp_pct}) | (svtype==\"INS\" & OLscore >0)' )\n",
    "    print(\"Total row count after filtering: \", len(df_flt))\n",
    "\n",
    "    rv = dict()\n",
    "    print(\"Processing all:\")\n",
    "    rv[\"all\"] = groupby_svtype_len(df_flt)\n",
    "    for sv in callers:\n",
    "        print(\"Processing %s:\"%(sv))\n",
    "        rv[sv] = groupby_svtype_len(df_flt.query(f'{sv}==\"orig\"'))\n",
    "\n",
    "    return rv\n",
    "\n",
    "sv_results = summary_sv_callers(my_top)"
   ]
  },
  {
   "cell_type": "code",
   "execution_count": null,
   "metadata": {},
   "outputs": [],
   "source": [
    "giab_df.shape"
   ]
  },
  {
   "cell_type": "code",
   "execution_count": null,
   "metadata": {
    "tags": []
   },
   "outputs": [],
   "source": [
    "sv_results[\"GIAB Truth\"] = groupby_svtype_len(giab_df, bins = [50, 100, 300, 1000, np.Inf])\n",
    "dat = pd.concat(sv_results, names=[\"Caller\"]).reset_index(name=\"Size\")\n",
    "dat.head()\n"
   ]
  },
  {
   "cell_type": "code",
   "execution_count": null,
   "metadata": {},
   "outputs": [],
   "source": [
    "type(dat.svlen[0])"
   ]
  },
  {
   "cell_type": "code",
   "execution_count": null,
   "metadata": {
    "tags": []
   },
   "outputs": [],
   "source": [
    "sns.catplot(x=\"svlen\", y=\"Size\", alpha=.7,  hue=\"Caller\", data=dat, kind=\"bar\", col=\"svtype\")"
   ]
  },
  {
   "cell_type": "code",
   "execution_count": null,
   "metadata": {},
   "outputs": [],
   "source": [
    "comb_inc.shape"
   ]
  },
  {
   "cell_type": "code",
   "execution_count": null,
   "metadata": {
    "tags": []
   },
   "outputs": [],
   "source": [
    "import seaborn as sns\n",
    "import matplotlib.pyplot as plt\n",
    "g = sns.FacetGrid(dat,  row=\"svtype\",  margin_titles=True)\n",
    "g.map(sns.barplot, \"Caller\", \"Size\", alpha=.7,  hue=\"svtype\")\n",
    "g.add_legend()"
   ]
  },
  {
   "cell_type": "code",
   "execution_count": null,
   "metadata": {},
   "outputs": [],
   "source": [
    "sv=\"manta\"\n",
    "my_top.query(f'{sv}==\"orig\"')"
   ]
  },
  {
   "cell_type": "code",
   "execution_count": null,
   "metadata": {},
   "outputs": [],
   "source": [
    "mocca_df = comb_inc.to_dataframe()\n",
    "mocca_df.columns = [\"chrom\", \"start\", \"end\", \"name\", \"svaba\", \"breakdancer\", \"manta\", \"caller_count\", \"match_region\"]\n",
    "mocca_df.head"
   ]
  },
  {
   "cell_type": "code",
   "execution_count": null,
   "metadata": {
    "tags": []
   },
   "outputs": [],
   "source": [
    "stat_df = pd.DataFrame()\n",
    "stat_df['tp']=pd.concat(sv_results, names=[\"Caller\"]).groupby('Caller').sum()\n",
    "stat_df['giab']=9631\n",
    "stat_df.drop('GIAB Truth', inplace=True)\n",
    "\n",
    "\n",
    "\n",
    "for s in stat_df.index.values.tolist():\n",
    "    print(s)\n",
    "    dd = mocca_df\n",
    "    if s != 'all':\n",
    "        dd = mocca_df.query(f'{s} == \"orig\"')\n",
    "    \n",
    "    stat_df.loc[s,'predict'] = len(dd)\n",
    "\n",
    "\n",
    "my_index=pd.MultiIndex.from_product([[\"tp\", \"tp2\"], ['0.5', '0.7', '0.9']])\n",
    "print(my_index)\n",
    "\n",
    "df2 = pd.DataFrame(index=stat_df.index, columns=my_index)\n",
    "\n",
    "for x in [0.5, 0.7, 0.9]:\n",
    "    flt = my_top.query(f'(svtype!=\"INS\"  & OLscore >= {x}) | (svtype==\"INS\" & OLscore >0)' )\n",
    "\n",
    "    for s in stat_df.index.values.tolist():\n",
    "        dd = flt\n",
    "        if s != 'all':\n",
    "            dd = flt.query(f'{s} == \"orig\"')\n",
    "\n",
    "        df2.loc[s,('tp',str(x))] = len(dd.drop_duplicates(['name']))\n",
    "        df2.loc[s,('tp2',str(x))] = len(dd.drop_duplicates(['name2']))"
   ]
  },
  {
   "cell_type": "code",
   "execution_count": null,
   "metadata": {
    "tags": []
   },
   "outputs": [],
   "source": [
    "\n",
    "x=pd.concat([stat_df, df2], axis=1, levels=0).reset_index().set_index([\"Caller\", \"tp\", \"giab\", \"predict\"]).sort_index(axis=1)\n",
    "x.columns = pd.MultiIndex.from_tuples(x.columns, names=[\"tp\", \"cutoff\"])\n",
    "\n",
    "x.to_excel(\"performance.xlsx\")"
   ]
  },
  {
   "cell_type": "code",
   "execution_count": null,
   "metadata": {},
   "outputs": [],
   "source": [
    "z"
   ]
  },
  {
   "cell_type": "code",
   "execution_count": null,
   "metadata": {
    "tags": []
   },
   "outputs": [],
   "source": [
    "\n",
    "z = pd.concat([stat_df, df2], axis=1, levels=0)\n",
    "z2=z.drop(['tp'], axis=1).reset_index().melt(id_vars=[\"Caller\", \"giab\",\"predict\"])\n",
    "z2[['type','p']] = pd.DataFrame(z2['variable'].tolist())\n",
    "z2 = z2.assign(Sn=z2['value']/z2['giab'], Sp=z2['value']/z2['predict'])\n",
    "z2"
   ]
  },
  {
   "cell_type": "code",
   "execution_count": null,
   "metadata": {},
   "outputs": [],
   "source": [
    "import seaborn as sns\n",
    "import matplotlib.pyplot as plt\n",
    "g=sns.scatterplot(x=\"Sn\", y=\"Sp\", data=z2.query('type == \"tp\"'),hue=\"Caller\", style=\"p\")\n",
    "g.legend(loc='center left', bbox_to_anchor=(1.0, 0.5), ncol=1)\n",
    "plt.show()"
   ]
  },
  {
   "cell_type": "code",
   "execution_count": null,
   "metadata": {
    "tags": []
   },
   "outputs": [],
   "source": [
    "pd.merge(stat_df, df2,left_index=True, right_index=True)"
   ]
  },
  {
   "cell_type": "code",
   "execution_count": null,
   "metadata": {},
   "outputs": [],
   "source": [
    "giab_df"
   ]
  },
  {
   "cell_type": "code",
   "execution_count": null,
   "metadata": {},
   "outputs": [],
   "source": [
    "comb_df.head()"
   ]
  },
  {
   "cell_type": "markdown",
   "metadata": {},
   "source": [
    "# Check somatic mutation using synthetic dataset"
   ]
  },
  {
   "cell_type": "code",
   "execution_count": null,
   "metadata": {
    "tags": []
   },
   "outputs": [],
   "source": [
    "# Load IS1 truth file\n",
    "_is1 = pd.read_csv(\"synthetic/is1_truth.bed\", header=None, sep=\"\\t\")\n",
    "_is1.columns = [\"chrom\", \"start\", \"stop\", \"name\", \"x0\",\"x1\", \"x2\", \"svtype\", 'y1', \"y2\", \"y3\", \"y4\"]\n",
    "is1_base  = _is1[ [\"chrom\", \"start\", \"stop\", \"svtype\"] ].assign(svlen=_is1.stop-_is1.start)\n",
    "is1_base\n",
    "is1_base_bt = df_to_bedtool(is1_base, onebased=False, first_N=5)\n",
    "print(is1_base_bt[0])"
   ]
  },
  {
   "cell_type": "code",
   "execution_count": null,
   "metadata": {},
   "outputs": [],
   "source": []
  },
  {
   "cell_type": "code",
   "execution_count": null,
   "metadata": {},
   "outputs": [],
   "source": [
    "is1_groups = is1_base.groupby(['svtype', pd.cut(is1_base.svlen, bins, right=False)])\n",
    "is1_groups.size().unstack(fill_value=0).plot.bar()"
   ]
  },
  {
   "cell_type": "code",
   "execution_count": null,
   "metadata": {
    "tags": []
   },
   "outputs": [],
   "source": [
    "is1_mocca = pd.read_csv(\"../test/synthetic_rep1/output/compare_and_annotate/intrachromosomal_SVs_IS1\", header=0, sep=\"\\t\")\n",
    "chrs = list(map(str, range(1,23)))+['X','Y']\n",
    "is1_mocca = is1_mocca[is1_mocca['#CHROM'].isin(chrs)]\n",
    "\n",
    "# add Name and convert to bedtool\n",
    "is1_mocca_bt = df_to_bedtool(is1_mocca, onebased=False, first_N=9)\n",
    "print(is1_mocca_bt[0])\n"
   ]
  },
  {
   "cell_type": "code",
   "execution_count": null,
   "metadata": {
    "tags": [
     "outputPrepend"
    ]
   },
   "outputs": [],
   "source": [
    "def compare_base_comp(base, comp, base_ind=None, comp_ind=None, names=None, pad=500, g=\"b37.genome\",  base_id_name=\"name\", comp_id_name=\"name2\"):\n",
    "    if base_ind is None:\n",
    "        base_ind = index_interval(base)\n",
    "\n",
    "    if comp_ind is None:\n",
    "        comp_ind = index_interval(comp)\n",
    "\n",
    "    comp_padded = comp.slop(b=pad, g=g)\n",
    "    overlaps = base.intersect(comp_padded, wa=True, wb=True)\n",
    "\n",
    "    print(overlaps)\n",
    "    df = overlaps.to_dataframe(names=names)\n",
    "    \n",
    "    # df['OLscore'] = df.apply(lambda x: calc_score(base, x.get(base_id_name), comp, x.get(comp_id_name)), axis=1)\n",
    "    df['OLscore'] = df.apply(lambda x: calc_score2(base_ind.get(x.get(base_id_name)), comp_ind.get( x.get(comp_id_name))), axis=1)\n",
    "    print(df.head())\n",
    "    return(df)\n",
    "\n",
    "is1_compare = compare_base_comp(is1_base_bt, is1_mocca_bt, names=[\"chrom\", \"start\", \"end\", \"name\", \"svtype\", \"svlen\", \"chrom2\", \"start2\", \"end2\", \"name2\", \"svaba\", \"breakdancer\", \"delly\", \"manta\", \"caller_count\", \"match_region\"])\n"
   ]
  },
  {
   "cell_type": "code",
   "execution_count": null,
   "metadata": {
    "tags": []
   },
   "outputs": [],
   "source": [
    "is1_compare.head()"
   ]
  },
  {
   "cell_type": "code",
   "execution_count": null,
   "metadata": {
    "tags": []
   },
   "outputs": [],
   "source": [
    "is1_summary = summary_sv_callers(is1_compare)\n",
    "is1_summary"
   ]
  },
  {
   "cell_type": "code",
   "execution_count": null,
   "metadata": {
    "tags": []
   },
   "outputs": [],
   "source": [
    "# compare it \n",
    "def summary_compare(my_top, N, callers=['svaba', 'breakdancer', 'delly', 'manta', 'all'], cutoff_p=[0.5,0.7, 0.9]):\n",
    "\n",
    "    my_index=pd.MultiIndex.from_product([[\"tp\", \"tp2\"], map(str, cutoff_p)])\n",
    "    \n",
    "    df2 = pd.DataFrame(index=callers, columns=my_index)\n",
    "\n",
    "    for x in cutoff_p:\n",
    "        flt = my_top.query(f'(svtype!=\"INS\"  & OLscore >= {x}) | (svtype==\"INS\" & OLscore >0)' )\n",
    "\n",
    "        for s in callers:\n",
    "            dd = flt\n",
    "            if s != 'all':\n",
    "                dd = flt.query(f'{s} == \"orig\"')\n",
    "\n",
    "            df2.loc[s,('tp',str(x))] = len(dd.drop_duplicates(['name']))\n",
    "            df2.loc[s,('tp2',str(x))] = len(dd.drop_duplicates(['name2']))\n",
    "\n",
    "    return df2\n",
    "\n",
    "is1_summary = summary_compare(is1_compare, 371)\n",
    "\n",
    "# is1_summary['truth']=371\n",
    "\n",
    "rv=pd.DataFrame(index=is1_summary.index, columns=['truth', 'predict'])\n",
    "rv['truth']=371\n",
    "for s in ['svaba', 'breakdancer', 'delly', 'manta', 'all']:\n",
    "    print(s)\n",
    "    dd = is1_mocca\n",
    "    if s != 'all':\n",
    "        dd = dd.query(f'{s} == \"orig\"')\n",
    "    \n",
    "    rv.loc[s, 'predict']=len(dd)\n",
    "\n",
    "z = pd.concat([rv, is1_summary], axis=1)\n",
    "z.index.name=\"Caller\"\n",
    "z"
   ]
  },
  {
   "cell_type": "code",
   "execution_count": null,
   "metadata": {},
   "outputs": [],
   "source": [
    "z2=z.reset_index().melt(id_vars=[\"Caller\", \"truth\",\"predict\"])\n",
    "\n",
    "z2[['type','p']] = pd.DataFrame(z2['variable'].tolist())\n",
    "z2 = z2.assign(Sn=z2['value']/z2['truth'], Sp=z2['value']/z2['predict'])\n",
    "z2\n",
    "\n",
    "g=sns.scatterplot(x=\"Sn\", y=\"Sp\", data=z2.query('type == \"tp\"'),hue=\"Caller\", style=\"p\")\n",
    "g.legend(loc='center left', bbox_to_anchor=(1.0, 0.5), ncol=1)\n",
    "plt.show()"
   ]
  },
  {
   "cell_type": "code",
   "execution_count": null,
   "metadata": {},
   "outputs": [],
   "source": [
    "is1_compare\n"
   ]
  },
  {
   "cell_type": "code",
   "execution_count": null,
   "metadata": {},
   "outputs": [],
   "source": []
  },
  {
   "cell_type": "code",
   "execution_count": null,
   "metadata": {},
   "outputs": [],
   "source": []
  }
 ],
 "metadata": {
  "kernelspec": {
   "display_name": "Python 3",
   "language": "python",
   "name": "python3"
  },
  "language_info": {
   "codemirror_mode": {
    "name": "ipython",
    "version": 3
   },
   "file_extension": ".py",
   "mimetype": "text/x-python",
   "name": "python",
   "nbconvert_exporter": "python",
   "pygments_lexer": "ipython3",
   "version": "3.7.6-final"
  }
 },
 "nbformat": 4,
 "nbformat_minor": 2
}
