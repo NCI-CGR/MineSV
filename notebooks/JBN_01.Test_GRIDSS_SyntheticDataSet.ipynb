{
 "cells": [
  {
   "cell_type": "markdown",
   "metadata": {},
   "source": [
    "# Test somatic call of GRIDSS on IS1"
   ]
  },
  {
   "cell_type": "code",
   "execution_count": 5,
   "metadata": {},
   "outputs": [],
   "source": [
    "module load  jdk/1.8.0_111 bwa/0.7.15 samtools/1.8  R/3.6.2\n",
    "cd /home/zhuw10/CL/SV/mocca-new-callers/somatic_call"
   ]
  },
  {
   "cell_type": "code",
   "execution_count": null,
   "metadata": {},
   "outputs": [],
   "source": []
  },
  {
   "cell_type": "code",
   "execution_count": 8,
   "metadata": {},
   "outputs": [
    {
     "name": "stdout",
     "output_type": "stream",
     "text": [
      "Using working directory \".\"\n",
      "Tue Aug 25 20:14:01 EDT 2020: Full log file is: ./gridss.full.20200825_201401.ccad.10185.log\n",
      "Tue Aug 25 20:14:02 EDT 2020: Found /usr/bin/time\n",
      "Tue Aug 25 20:14:02 EDT 2020: Using reference genome \"../../refGenomes/Homo_sapiens_assembly19.fasta\"\n",
      "Tue Aug 25 20:14:02 EDT 2020: Using assembly bam output/assembly.bam\n",
      "Tue Aug 25 20:14:02 EDT 2020: Using output VCF output/IS1.vcf.gz\n",
      "Tue Aug 25 20:14:02 EDT 2020: Using 8 worker threads.\n",
      "Tue Aug 25 20:14:02 EDT 2020: Using no blacklist bed. The encode DAC blacklist is recommended for hg19.\n",
      "Tue Aug 25 20:14:02 EDT 2020: Using JVM maximum heap size of 30g for assembly and variant calling.\n",
      "Tue Aug 25 20:14:02 EDT 2020: Using input file ../../data2/synthetic.challenge.set1.normal.v2.bam\n",
      "Tue Aug 25 20:14:02 EDT 2020: Using input file ../../data2/synthetic.challenge.set1.tumor.v2.bam\n",
      "Tue Aug 25 20:14:02 EDT 2020: label is normal\n",
      "Tue Aug 25 20:14:02 EDT 2020: label is tumor\n",
      "Tue Aug 25 20:14:02 EDT 2020: Found /DCEG/Resources/Tools/R/R-3.6.2/bin/Rscript\n",
      "Tue Aug 25 20:14:02 EDT 2020: Found /DCEG/Resources/Tools/samtools/samtools-1.8/bin/samtools\n",
      "Tue Aug 25 20:14:02 EDT 2020: Found /DCEG/Resources/Tools/jdk/8u111/jdk1.8.0_111/bin/java\n",
      "Tue Aug 25 20:14:02 EDT 2020: Found /DCEG/Resources/Tools/bwa/bwa-0.7.15/bwa\n",
      "Tue Aug 25 20:14:02 EDT 2020: samtools version: 1.8+htslib-1.8\n",
      "Tue Aug 25 20:14:02 EDT 2020: R version: R scripting front-end version 3.6.2 (2019-12-12)\n",
      "Tue Aug 25 20:14:02 EDT 2020: bwa Version: 0.7.15-r1140\n",
      "Tue Aug 25 20:14:02 EDT 2020: time version: GNU time 1.7\n",
      "Tue Aug 25 20:14:02 EDT 2020: bash version: GNU bash, version 4.1.2(2)-release (x86_64-redhat-linux-gnu)\n",
      "Tue Aug 25 20:14:03 EDT 2020: java version: java version \"1.8.0_111\"\n",
      "Java(TM) SE Runtime Environment (build 1.8.0_111-b14)\n",
      "Java HotSpot(TM) 64-Bit Server VM (build 25.111-b14, mixed mode)\n",
      "Tue Aug 25 20:14:03 EDT 2020: Max file handles: 65536\n",
      "Tue Aug 25 20:14:03 EDT 2020: Running GRIDSS steps: setupreference, preprocess, assemble, call,\n",
      "Tue Aug 25 20:14:03 EDT 2020: Running\tPrepareReference\t(once-off setup for reference genome)\n",
      "Tue Aug 25 20:14:04 EDT 2020: Start pre-processing\t../../data2/synthetic.challenge.set1.normal.v2.bam\n",
      "Tue Aug 25 20:14:04 EDT 2020: Skipping pre-processing as ./synthetic.challenge.set1.normal.v2.bam.gridss.working/synthetic.challenge.set1.normal.v2.bam.sv.bam already exists. ../../data2/synthetic.challenge.set1.normal.v2.bam\n",
      "Tue Aug 25 20:14:04 EDT 2020: Start pre-processing\t../../data2/synthetic.challenge.set1.tumor.v2.bam\n",
      "Tue Aug 25 20:14:04 EDT 2020: Skipping pre-processing as ./synthetic.challenge.set1.tumor.v2.bam.gridss.working/synthetic.challenge.set1.tumor.v2.bam.sv.bam already exists. ../../data2/synthetic.challenge.set1.tumor.v2.bam\n",
      "Tue Aug 25 20:14:04 EDT 2020: Start assembly\toutput/assembly.bam\n",
      "Tue Aug 25 20:14:04 EDT 2020: Skipping assembly as output/assembly.bam already exists.\toutput/assembly.bam\n",
      "Tue Aug 25 20:14:04 EDT 2020: Complete assembly\toutput/assembly.bam\n",
      "Tue Aug 25 20:14:04 EDT 2020: Start calling\toutput/IS1.vcf.gz\n",
      "Tue Aug 25 20:14:04 EDT 2020: Running\tIdentifyVariants\toutput/IS1.vcf.gz\n",
      "Tue Aug 25 20:26:15 EDT 2020: Running\tAnnotateVariants\toutput/IS1.vcf.gz\n",
      "Tue Aug 25 21:14:48 EDT 2020: Running\tAnnotateInsertedSequence\toutput/IS1.vcf.gz\n",
      "Tue Aug 25 21:17:04 EDT 2020: Complete calling\toutput/IS1.vcf.gz\n",
      "Tue Aug 25 21:17:04 EDT 2020: Run complete with 4 warnings and 0 errors.\n"
     ]
    }
   ],
   "source": [
    "../tools/gridss/gridss.sh --reference ../../refGenomes/Homo_sapiens_assembly19.fasta  \\\n",
    "                         --output output/IS1.vcf.gz \\\n",
    "                         --assembly output/assembly.bam \\\n",
    "                         --threads 8 \\\n",
    "                         --jar ../tools/gridss/gridss-2.9.4-gridss-jar-with-dependencies.jar \\\n",
    "                         --workingdir . \\\n",
    "                         --jvmheap 30g \\\n",
    "                         --steps All  \\\n",
    "                         --maxcoverage 50000 \\\n",
    "                         --labels normal,tumor \\\n",
    "                         ../../data2/synthetic.challenge.set1.normal.v2.bam \\\n",
    "                         ../../data2/synthetic.challenge.set1.tumor.v2.bam"
   ]
  },
  {
   "cell_type": "code",
   "execution_count": 9,
   "metadata": {},
   "outputs": [
    {
     "name": "stdout",
     "output_type": "stream",
     "text": [
      "total 352250\n",
      "-rw-rw-r-- 1 zhuw10 root 266348079 Aug 25 18:30 assembly.bam\n",
      "-rw-rw-r-- 1 zhuw10 root  31868307 Aug 25 21:17 \u001b[0m\u001b[01;31mIS1.vcf.gz\u001b[0m\n",
      "-rw-rw-r-- 1 zhuw10 root    677643 Aug 25 21:17 gridss.tmp.IS1.vcf.gz.tbi\n",
      "drwxrw-r-x 2 zhuw10 root       101 Aug 25 21:17 \u001b[01;34m.\u001b[0m\n",
      "drwxrwxrwx 8 zhuw10 root       686 Aug 25 21:17 \u001b[34;42m..\u001b[0m\n",
      "\u001b[m"
     ]
    }
   ],
   "source": [
    "ls -altr output/"
   ]
  },
  {
   "cell_type": "code",
   "execution_count": 10,
   "metadata": {},
   "outputs": [
    {
     "name": "stdout",
     "output_type": "stream",
     "text": [
      "Error in library(VariantAnnotation, quietly = TRUE, warn.conflicts = FALSE) : \n",
      "  there is no package called ‘VariantAnnotation’\n",
      "Calls: source -> withVisible -> eval -> eval -> library\n",
      "Execution halted\n"
     ]
    },
    {
     "ename": "",
     "evalue": "1",
     "output_type": "error",
     "traceback": []
    }
   ],
   "source": [
    "Rscript ../tools/gridss/gridss_somatic_filter.R --ref BSgenome.Hsapiens.UCSC.hg19  \\\n",
    "        --input output/IS1.vcf.gz \\\n",
    "        --output output/IS1_somatic.vcf.gz \\\n",
    "        --fulloutput output/IS1_full.vcf.gz \\\n",
    "        --scriptdir ../tools/gridss/ \\\n",
    "        --normalordinal 1 \\\n",
    "        --tumourordinal 2 \\\n",
    "        --gc "
   ]
  },
  {
   "cell_type": "markdown",
   "metadata": {},
   "source": [
    "### Done within conda evn \"gridss\" !"
   ]
  },
  {
   "cell_type": "code",
   "execution_count": 11,
   "metadata": {},
   "outputs": [
    {
     "name": "stdout",
     "output_type": "stream",
     "text": [
      "total 354572\n",
      "drwxrw-r-x 2 zhuw10 root       251 Aug 26 10:04 \u001b[0m\u001b[01;34m.\u001b[0m\n",
      "drwxrwxrwx 8 zhuw10 root       956 Aug 26 10:05 \u001b[34;42m..\u001b[0m\n",
      "-rw-rw-r-- 1 zhuw10 root 266348079 Aug 25 18:30 assembly.bam\n",
      "-rw-rw-r-- 1 zhuw10 root    677643 Aug 25 21:17 gridss.tmp.IS1.vcf.gz.tbi\n",
      "-rw-rw-r-- 1 zhuw10 root   1144685 Aug 26 10:04 IS1_full.vcf.bgz\n",
      "-rw-rw-r-- 1 zhuw10 root     72718 Aug 26 10:04 IS1_full.vcf.bgz.tbi\n",
      "-rw-rw-r-- 1 zhuw10 root    139976 Aug 26 10:04 IS1_somatic.vcf.bgz\n",
      "-rw-rw-r-- 1 zhuw10 root      9983 Aug 26 10:04 IS1_somatic.vcf.bgz.tbi\n",
      "-rw-rw-r-- 1 zhuw10 root  31868307 Aug 25 21:17 \u001b[01;31mIS1.vcf.gz\u001b[0m\n",
      "\u001b[m"
     ]
    }
   ],
   "source": [
    "ls -al output"
   ]
  },
  {
   "cell_type": "code",
   "execution_count": 15,
   "metadata": {},
   "outputs": [
    {
     "name": "stdout",
     "output_type": "stream",
     "text": [
      "1\t25204183\t.\t.\t.\t9291\tPASS\tSVTYPE=DUP;SVLEN=6670;READS=12\n",
      "1\t32176187\t.\t.\t.\t2157\tPASS\tSVTYPE=INV;SVLEN=17646;READS=12\n",
      "1\t32176188\t.\t.\t.\t2747\tPASS\tSVTYPE=INV;SVLEN=17646;READS=12\n",
      "1\t36419038\t.\t.\t.\t2660\tPASS\tSVTYPE=DEL;SVLEN=2416;READS=12\n",
      "1\t37852935\t.\t.\t.\t4719\tPASS\tSVTYPE=INV;SVLEN=10750;READS=12\n",
      "1\t37852936\t.\t.\t.\t4431\tPASS\tSVTYPE=INV;SVLEN=10750;READS=12\n",
      "1\t40302118\t.\t.\t.\t2499\tPASS\tSVTYPE=DEL;SVLEN=8166;READS=12\n",
      "1\t52748189\t.\t.\t.\t516\tPASS\tSVTYPE=DEL;SVLEN=4110;READS=7\n",
      "1\t62421146\t.\t.\t.\t718\tPASS\tSVTYPE=DEL;SVLEN=3280;READS=8\n",
      "1\t67068899\t.\t.\t.\t1684\tPASS\tSVTYPE=INV;SVLEN=6915;READS=10\n"
     ]
    }
   ],
   "source": [
    "zcat output/IS1_somatic.vcf.bgz | ../call_germline/scripts/convert_GRIDSS_vcf.pl - > IS1_somatic.bed\n",
    "head IS1_somatic.bed"
   ]
  },
  {
   "cell_type": "code",
   "execution_count": 17,
   "metadata": {},
   "outputs": [
    {
     "name": "stdout",
     "output_type": "stream",
     "text": [
      "IS1_somatic.bed\n",
      "                           Value              \n",
      "Key chrom     start filter READS  SVLEN SVTYPE\n",
      "0       1  25204183   PASS    12   6670    DUP\n",
      "1       1  32176187   PASS    12  17646    INV\n",
      "2       1  32176188   PASS    12  17646    INV\n",
      "3       1  36419038   PASS    12   2416    DEL\n",
      "4       1  37852935   PASS    12  10750    INV\n",
      "PASS    403\n",
      "Name: filter, dtype: int64\n"
     ]
    }
   ],
   "source": [
    "python ../scripts/pad_gridss_bed.py IS1_somatic.bed  IS1_padded.bed"
   ]
  },
  {
   "cell_type": "code",
   "execution_count": 21,
   "metadata": {},
   "outputs": [],
   "source": [
    "# intersect giab and gridss\n",
    "bedtools intersect -a ~/CL/SV/mocca-bench/data/truth_is1_padded.bed -b IS1_padded.bed -wa -wb -f 0.7 -r > IS1_isec.bed"
   ]
  },
  {
   "cell_type": "code",
   "execution_count": 20,
   "metadata": {},
   "outputs": [
    {
     "name": "stdout",
     "output_type": "stream",
     "text": [
      "371 /home/zhuw10/CL/SV/mocca-bench/data/truth_is1_padded.bed\n",
      "403 IS1_padded.bed\n",
      "299\n"
     ]
    }
   ],
   "source": [
    "# total\n",
    "wc -l ~/CL/SV/mocca-bench/data/truth_is1_padded.bed\n",
    "wc -l IS1_padded.bed\n",
    "cut -f 4 IS1_isec.bed | sort -u |wc -l "
   ]
  },
  {
   "cell_type": "code",
   "execution_count": 22,
   "metadata": {},
   "outputs": [
    {
     "name": "stdout",
     "output_type": "stream",
     "text": [
      "\n",
      "Tool:    bedtools multiinter (aka multiIntersectBed)\n",
      "Version: v2.29.2\n",
      "Summary: Identifies common intervals among multiple\n",
      "\t BED/GFF/VCF files.\n",
      "\n",
      "Usage:   bedtools multiinter [OPTIONS] -i FILE1 FILE2 .. FILEn\n",
      "\t Requires that each interval file is sorted by chrom/start. \n",
      "\n",
      "Options: \n",
      "\t-cluster\tInvoke Ryan Layers's clustering algorithm.\n",
      "\n",
      "\t-header\t\tPrint a header line.\n",
      "\t\t\t(chrom/start/end + names of each file).\n",
      "\n",
      "\t-names\t\tA list of names (one/file) to describe each file in -i.\n",
      "\t\t\tThese names will be printed in the header line.\n",
      "\n",
      "\t-g\t\tUse genome file to calculate empty regions.\n",
      "\t\t\t- STRING.\n",
      "\n",
      "\t-empty\t\tReport empty regions (i.e., start/end intervals w/o\n",
      "\t\t\tvalues in all files).\n",
      "\t\t\t- Requires the '-g FILE' parameter.\n",
      "\n",
      "\t-filler TEXT\tUse TEXT when representing intervals having no value.\n",
      "\t\t\t- Default is '0', but you can use 'N/A' or any text.\n",
      "\n",
      "\t-examples\tShow detailed usage examples.\n",
      "\n",
      "Error: missing file names (-i) to combine.\n"
     ]
    },
    {
     "ename": "",
     "evalue": "1",
     "output_type": "error",
     "traceback": []
    }
   ],
   "source": []
  },
  {
   "cell_type": "code",
   "execution_count": null,
   "metadata": {},
   "outputs": [],
   "source": []
  }
 ],
 "metadata": {
  "kernelspec": {
   "display_name": "Bash",
   "language": "bash",
   "name": "bash"
  },
  "language_info": {
   "codemirror_mode": "shell",
   "file_extension": ".sh",
   "mimetype": "text/x-sh",
   "name": "bash"
  }
 },
 "nbformat": 4,
 "nbformat_minor": 4
}
